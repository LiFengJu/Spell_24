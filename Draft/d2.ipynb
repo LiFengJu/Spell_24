{
 "cells": [
  {
   "cell_type": "code",
   "execution_count": 1,
   "id": "initial_id",
   "metadata": {
    "collapsed": true,
    "ExecuteTime": {
     "end_time": "2024-05-04T09:48:52.915960Z",
     "start_time": "2024-05-04T09:48:51.913754Z"
    }
   },
   "outputs": [
    {
     "data": {
      "text/plain": "Matrix([\n[1, 2, 2],\n[2, 1, 2],\n[2, 2, 1]])",
      "text/latex": "$\\displaystyle \\left[\\begin{matrix}1 & 2 & 2\\\\2 & 1 & 2\\\\2 & 2 & 1\\end{matrix}\\right]$"
     },
     "execution_count": 1,
     "metadata": {},
     "output_type": "execute_result"
    }
   ],
   "source": [
    "from sympy import Matrix,MatMul\n",
    "A = Matrix([[1,2, 2], [2,1,2],[2,2,1]])\n",
    "x = Matrix([2,1])\n",
    "A"
   ]
  },
  {
   "cell_type": "code",
   "outputs": [
    {
     "data": {
      "text/plain": "{5: 1, -1: 2}"
     },
     "execution_count": 2,
     "metadata": {},
     "output_type": "execute_result"
    }
   ],
   "source": [
    "A.eigenvals()"
   ],
   "metadata": {
    "collapsed": false,
    "ExecuteTime": {
     "end_time": "2024-05-04T09:48:52.980156Z",
     "start_time": "2024-05-04T09:48:52.917004Z"
    }
   },
   "id": "6861685534df2a59",
   "execution_count": 2
  },
  {
   "cell_type": "code",
   "outputs": [
    {
     "data": {
      "text/plain": "[(-1,\n  2,\n  [Matrix([\n   [-1],\n   [ 1],\n   [ 0]]),\n   Matrix([\n   [-1],\n   [ 0],\n   [ 1]])]),\n (5,\n  1,\n  [Matrix([\n   [1],\n   [1],\n   [1]])])]"
     },
     "execution_count": 3,
     "metadata": {},
     "output_type": "execute_result"
    }
   ],
   "source": [
    "A.eigenvects()"
   ],
   "metadata": {
    "collapsed": false,
    "ExecuteTime": {
     "end_time": "2024-05-04T09:48:52.987062Z",
     "start_time": "2024-05-04T09:48:52.981164Z"
    }
   },
   "id": "317f3a2902294407",
   "execution_count": 3
  }
 ],
 "metadata": {
  "kernelspec": {
   "display_name": "Python 3",
   "language": "python",
   "name": "python3"
  },
  "language_info": {
   "codemirror_mode": {
    "name": "ipython",
    "version": 2
   },
   "file_extension": ".py",
   "mimetype": "text/x-python",
   "name": "python",
   "nbconvert_exporter": "python",
   "pygments_lexer": "ipython2",
   "version": "2.7.6"
  }
 },
 "nbformat": 4,
 "nbformat_minor": 5
}
