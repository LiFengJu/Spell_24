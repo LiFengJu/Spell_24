{
 "cells": [
  {
   "cell_type": "code",
   "id": "initial_id",
   "metadata": {
    "collapsed": true,
    "ExecuteTime": {
     "end_time": "2024-09-08T04:32:06.272863Z",
     "start_time": "2024-09-08T04:32:06.266928Z"
    }
   },
   "source": [
    "import pandas as pd\n",
    "import numpy as np\n",
    "\n",
    "# 定义主函数，使用 for 循环计算每一列不为零单元格的索引值方差\n",
    "def calculate_variance_with_loop(df):\n",
    "    variance_results = {}\n",
    "    for column in df.columns:\n",
    "        # 获取当前列\n",
    "        non_zero_indices = df[column][df[column] != 0].index\n",
    "        # 如果不为零的单元格少于两个，方差为0\n",
    "        if len(non_zero_indices) < 2:\n",
    "            variance_results[column] = 0\n",
    "        else:\n",
    "            # 计算索引的方差\n",
    "            variance_results[column] = np.var(non_zero_indices)\n",
    "    # 将结果转化为一个 pandas Series\n",
    "    return pd.Series(variance_results).sum()\n",
    "\n",
    "# 示例 DataFrame\n",
    "df = pd.DataFrame({\n",
    "    'A': [0, 1, 0, 3, 0, 5, 0],\n",
    "    'B': [2, 0, 0, 4, 0, 6, 0],\n",
    "    'C': [0, 0, 0, 0, 0, 0, 0]  # 全零列，方差应为0\n",
    "})\n",
    "\n",
    "# 计算并输出结果\n",
    "variance_result = calculate_variance_with_loop(df)\n",
    "print(variance_result)\n"
   ],
   "outputs": [
    {
     "name": "stdout",
     "output_type": "stream",
     "text": [
      "6.888888888888889\n"
     ]
    }
   ],
   "execution_count": 4
  },
  {
   "metadata": {
    "ExecuteTime": {
     "end_time": "2024-09-08T04:30:27.293966Z",
     "start_time": "2024-09-08T04:30:27.273203Z"
    }
   },
   "cell_type": "code",
   "source": "np.var([0,3,5])",
   "id": "8204d246582c1ee3",
   "outputs": [
    {
     "data": {
      "text/plain": [
       "4.222222222222222"
      ]
     },
     "execution_count": 2,
     "metadata": {},
     "output_type": "execute_result"
    }
   ],
   "execution_count": 2
  }
 ],
 "metadata": {
  "kernelspec": {
   "display_name": "Python 3",
   "language": "python",
   "name": "python3"
  },
  "language_info": {
   "codemirror_mode": {
    "name": "ipython",
    "version": 2
   },
   "file_extension": ".py",
   "mimetype": "text/x-python",
   "name": "python",
   "nbconvert_exporter": "python",
   "pygments_lexer": "ipython2",
   "version": "2.7.6"
  }
 },
 "nbformat": 4,
 "nbformat_minor": 5
}
