{
 "metadata": {
  "kernelspec": {
   "display_name": "predict-student-performance-from-game-play",
   "language": "python",
   "name": "predict-student-performance-from-game-play"
  },
  "language_info": {
   "codemirror_mode": {
    "name": "ipython",
    "version": 3
   },
   "file_extension": ".py",
   "mimetype": "text/x-python",
   "name": "python",
   "nbconvert_exporter": "python",
   "pygments_lexer": "ipython3",
   "version": "3.8.0"
  },
  "papermill": {
   "default_parameters": {},
   "duration": 242.173644,
   "end_time": "2023-02-08T17:40:14.115682",
   "environment_variables": {},
   "exception": null,
   "input_path": "__notebook__.ipynb",
   "output_path": "__notebook__.ipynb",
   "parameters": {},
   "start_time": "2023-02-08T17:36:11.942038",
   "version": "2.3.4"
  }
 },
 "nbformat_minor": 4,
 "nbformat": 4,
 "cells": [
  {
   "cell_type": "markdown",
   "source": [
    "# Setup"
   ],
   "metadata": {}
  },
  {
   "cell_type": "code",
   "source": [
    "VERSION = 'pspfgp-48-nn-pretrain'\n",
    "DEV = False\n",
    "DATA = 'ALL'  # COMP, ALL\n",
    "N_BAGS = 1\n",
    "N_FOLDS = 5\n",
    "N_SEEDS = 1\n",
    "D_MODEL = 24\n",
    "BATCH_SIZE = 128\n",
    "EXPIT = True\n",
    "SEED = 0\n",
    "GPU = 0\n",
    "N_THREADS = 8\n",
    "VERBOSE = True\n",
    "LEVEL_GROUPS = ['0-4', '5-12', '13-22']\n",
    "PREV_LEVEL_GROUPS = False\n",
    "LENGTHS = {'0-4': 600, '5-12': 1400, '13-22': 2000}"
   ],
   "metadata": {},
   "execution_count": null,
   "outputs": []
  },
  {
   "cell_type": "code",
   "source": [
    "DISCRETE_FEATURES = ['room_fqid', 'event_name_name', 'text', 'fqid']\n",
    "CONTINUOUS_FEATURES = ['duration']\n",
    "FEATURES = DISCRETE_FEATURES + CONTINUOUS_FEATURES"
   ],
   "metadata": {},
   "execution_count": null,
   "outputs": []
  },
  {
   "cell_type": "code",
   "source": [
    "from IPython.display import clear_output"
   ],
   "metadata": {},
   "execution_count": null,
   "outputs": []
  },
  {
   "cell_type": "code",
   "source": [
    "from IPython.display import display, HTML\n",
    "display(HTML('<style>td{white-space: nowrap !important;}</style>'))"
   ],
   "metadata": {},
   "execution_count": null,
   "outputs": []
  },
  {
   "cell_type": "code",
   "source": [
    "import os\n",
    "os.environ['CUDA_VISIBLE_DEVICES'] = str(GPU)\n",
    "os.environ['TF_CPP_MIN_LOG_LEVEL'] = '3'"
   ],
   "metadata": {},
   "execution_count": null,
   "outputs": []
  },
  {
   "cell_type": "code",
   "source": [
    "import warnings\n",
    "warnings.filterwarnings('ignore')"
   ],
   "metadata": {},
   "execution_count": null,
   "outputs": []
  },
  {
   "cell_type": "code",
   "source": [
    "import matplotlib.pyplot as plt\n",
    "%matplotlib inline\n",
    "import numpy as np\n",
    "import pandas as pd\n",
    "import pickle\n",
    "from tqdm.notebook import tqdm\n",
    "import tensorflow as tf\n",
    "import time"
   ],
   "metadata": {
    "execution": {
     "iopub.execute_input": "2023-02-08T17:36:20.238682Z",
     "iopub.status.busy": "2023-02-08T17:36:20.237962Z",
     "iopub.status.idle": "2023-02-08T17:36:21.293321Z",
     "shell.execute_reply": "2023-02-08T17:36:21.292411Z"
    },
    "papermill": {
     "duration": 1.065201,
     "end_time": "2023-02-08T17:36:21.296054",
     "exception": false,
     "start_time": "2023-02-08T17:36:20.230853",
     "status": "completed"
    },
    "tags": []
   },
   "execution_count": null,
   "outputs": []
  },
  {
   "cell_type": "code",
   "source": [
    "if EXPIT:\n",
    "    from scipy.special import expit, logit"
   ],
   "metadata": {},
   "execution_count": null,
   "outputs": []
  },
  {
   "cell_type": "code",
   "source": [
    "tf.get_logger().setLevel('WARNING')"
   ],
   "metadata": {},
   "execution_count": null,
   "outputs": []
  },
  {
   "cell_type": "code",
   "source": [
    "import random\n",
    "\n",
    "os.environ['PYTHONHASHSEED'] = str(SEED)\n",
    "random.seed(SEED)\n",
    "np.random.seed(SEED)\n",
    "tf.random.set_seed(SEED)\n",
    "os.environ['TF_DETERMINISTIC_OPS'] = '1'\n",
    "os.environ['TF_GPU_ALLOCATOR'] = 'cuda_malloc_async'  # TF will not use all memory"
   ],
   "metadata": {},
   "execution_count": null,
   "outputs": []
  },
  {
   "cell_type": "code",
   "source": [
    "pd.set_option(\"display.max_columns\", 200)\n",
    "pd.set_option(\"display.max_rows\", 250)"
   ],
   "metadata": {},
   "execution_count": null,
   "outputs": []
  },
  {
   "cell_type": "markdown",
   "source": [
    "# Utils"
   ],
   "metadata": {}
  },
  {
   "cell_type": "code",
   "source": [
    "def get_questions(level_group):\n",
    "    return ([1, 2, 3] if level_group == '0-4' \n",
    "            else [4, 5, 6, 7, 8, 9, 10, 11, 12, 13] if level_group == '5-12' \n",
    "            else [14, 15, 16, 17, 18])"
   ],
   "metadata": {},
   "execution_count": null,
   "outputs": []
  },
  {
   "cell_type": "code",
   "source": [
    "def optimize_threshold(preds, labels, step_size=0.001):\n",
    "    thresholds = []\n",
    "    best_score = 0\n",
    "    best_threshold = 0\n",
    "    for threshold in np.arange(0, 1, step_size):\n",
    "        binarized_preds = (preds.melt().drop('variable', axis=1).values > threshold).astype('int')\n",
    "        score = fast_f1_score(labels.melt().drop('variable', axis=1).values, binarized_preds)\n",
    "        thresholds.append(threshold)\n",
    "        if score > best_score:\n",
    "            best_score = score\n",
    "            best_threshold = np.round(threshold, 3)\n",
    "    return best_threshold"
   ],
   "metadata": {},
   "execution_count": null,
   "outputs": []
  },
  {
   "cell_type": "code",
   "source": [
    "def optimize_thresholds(preds, labels, threshold):\n",
    "    thrs = []\n",
    "    binarized_preds = preds.copy()\n",
    "    binarized_preds = 1 * (binarized_preds >= threshold)\n",
    "    binarized_preds\n",
    "    for q in range(1, 18 + 1):\n",
    "        best_score = 0\n",
    "        for thr in np.arange(0.5, 0.8, 0.005):\n",
    "            oof_preds = binarized_preds.copy()\n",
    "            oof_preds[f'q{q}'] = 1 * (preds[[f'q{q}']] >= thr)\n",
    "            score = score_questions(oof_preds, labels, range(1, 18 + 1), thr=thr)['overall']\n",
    "            if score > best_score:\n",
    "                best_score = score\n",
    "                best_thr = thr\n",
    "        thrs.append(best_thr)\n",
    "    return thrs"
   ],
   "metadata": {},
   "execution_count": null,
   "outputs": []
  },
  {
   "cell_type": "code",
   "source": [
    "def fast_f1_score(labels, preds):\n",
    "    all_positives = (preds + labels == 2).mean()\n",
    "    all_negatives = (preds + labels == 0).mean()\n",
    "    score = 1 - (1 - all_negatives - all_positives) / (1 - (all_negatives - all_positives) ** 2)\n",
    "    return score"
   ],
   "metadata": {},
   "execution_count": null,
   "outputs": []
  },
  {
   "cell_type": "code",
   "source": [
    "def score_questions(preds, labels, questions, thr):\n",
    "    thresholds = thr if type(thr) == list else [thr] * 18\n",
    "    scores = dict()\n",
    "    preds_binarized = preds.copy()\n",
    "    for question in questions:\n",
    "        preds_binarized[f'q{question}'] = (preds[f'q{question}'].values > thresholds[question - 1]).astype('int')\n",
    "        score = fast_f1_score(labels[f'q{question}'].values, preds_binarized[f'q{question}'].values)\n",
    "        scores[f'q{question}'] = np.round(score, decimals=5)\n",
    "    if len(questions) > 1:\n",
    "        score = fast_f1_score(labels.melt().drop('variable', axis=1).values, \n",
    "                              preds_binarized.melt().drop('variable', axis=1).values)\n",
    "        scores['overall'] = np.round(score, decimals=5)\n",
    "    return scores"
   ],
   "metadata": {},
   "execution_count": null,
   "outputs": []
  },
  {
   "cell_type": "code",
   "source": [
    "def tokenize(df, feats):\n",
    "    df_out = df.copy()\n",
    "    tokenizer_map = {}\n",
    "    for f in feats:\n",
    "        factorized = pd.factorize(df[f])\n",
    "        df_out[f] = factorized[0] + 1\n",
    "        tokenizer_map[f] = {\n",
    "            'encode': ['<PAD>'] + list(factorized[1]),\n",
    "            'decode': {(i + 1): el for i, el in enumerate(factorized[1])}\n",
    "        }\n",
    "    return df_out, tokenizer_map"
   ],
   "metadata": {},
   "execution_count": null,
   "outputs": []
  },
  {
   "cell_type": "code",
   "source": [
    "def compute_score(y_pred, y_true, threshold=None):\n",
    "    cols = [f'q{q}' for q in range(1, 18 + 1)]\n",
    "    df = pd.DataFrame(index=y_true.index)\n",
    "    df.loc[:, cols] = np.hstack([y_pred[level_group] for level_group in LEVEL_GROUPS])\n",
    "    if threshold is None:\n",
    "        threshold = optimize_threshold(df, y_true)\n",
    "    scores = score_questions(y_true, 1 * (df > threshold), range(1, 18 + 1), threshold)\n",
    "    scores['thr'] = threshold\n",
    "    return scores, df, threshold"
   ],
   "metadata": {},
   "execution_count": null,
   "outputs": []
  },
  {
   "cell_type": "code",
   "source": [
    "def build_sequence(df, n_features, length):\n",
    "    return (np.vstack([df.values, np.zeros((length - len(df), n_features))]) \n",
    "            if len(df) < length else df[:length].values)"
   ],
   "metadata": {},
   "execution_count": null,
   "outputs": []
  },
  {
   "cell_type": "code",
   "source": [
    "def extract_targets(dataset):\n",
    "    targets = []\n",
    "    for level_group in LEVEL_GROUPS:\n",
    "        t = [b[1][level_group] for b in list(dataset)]\n",
    "        targets.append(np.vstack(t))\n",
    "    targets = np.hstack(targets)\n",
    "    return targets"
   ],
   "metadata": {},
   "execution_count": null,
   "outputs": []
  },
  {
   "cell_type": "markdown",
   "source": [
    "# Data"
   ],
   "metadata": {}
  },
  {
   "cell_type": "code",
   "source": [
    "METADATA = pickle.load(open(f'../final/METADATA.pkl', 'rb'))\n",
    "train_datasets = pickle.load(open(f'../data/processed/train_datasets.pkl', 'rb'))\n",
    "Y = pickle.load(open(f'../data/processed/Y.pkl', 'rb'))"
   ],
   "metadata": {},
   "execution_count": null,
   "outputs": []
  },
  {
   "cell_type": "markdown",
   "source": [
    "# Model"
   ],
   "metadata": {}
  },
  {
   "cell_type": "markdown",
   "source": [
    "## Architecture"
   ],
   "metadata": {}
  },
  {
   "cell_type": "code",
   "source": [
    "class ConvBlock(tf.keras.layers.Layer):\n",
    "    def __init__(self, d_model, dropout_rate):\n",
    "        super(ConvBlock, self).__init__()\n",
    "        self.conv1d = tf.keras.layers.Conv1D(d_model, kernel_size=5, padding='same', activation='gelu')\n",
    "        self.layer_norm = tf.keras.layers.LayerNormalization()\n",
    "        self.dropout = tf.keras.layers.Dropout(rate=dropout_rate)\n",
    "        \n",
    "    def call(self, inputs):\n",
    "        x = self.conv1d(inputs)\n",
    "        x = x + inputs\n",
    "        x = self.layer_norm(x)\n",
    "        outputs = self.dropout(x)\n",
    "        return outputs"
   ],
   "metadata": {},
   "execution_count": null,
   "outputs": []
  },
  {
   "cell_type": "code",
   "source": [
    "class TimeEmbedding(tf.keras.layers.Layer):\n",
    "    def __init__(self, n_blocks, d_model, dropout_rate):\n",
    "        super(TimeEmbedding, self).__init__()\n",
    "        self.conv_blocks = [ConvBlock(d_model, dropout_rate=dropout_rate) for _ in range(n_blocks)]\n",
    "        \n",
    "    def call(self, inputs):\n",
    "        x = tf.expand_dims(inputs, axis=-1)\n",
    "        for conv_block in self.conv_blocks:\n",
    "            x = conv_block(x)        \n",
    "        return x"
   ],
   "metadata": {},
   "execution_count": null,
   "outputs": []
  },
  {
   "cell_type": "code",
   "source": [
    "class ConvNet(tf.keras.Model):\n",
    "    def __init__(self, input_dims, n_outputs, d_model, n_blocks=4, name=None):\n",
    "        super(ConvNet, self).__init__(name=name)\n",
    "        self.input_dims = input_dims\n",
    "        self.n_outputs = n_outputs\n",
    "        self.d_model = d_model\n",
    "        self.n_blocks = n_blocks\n",
    "        self.event_embedding = tf.keras.layers.Embedding(input_dims['event_name_name'], d_model, mask_zero=True)\n",
    "        self.room_embedding = tf.keras.layers.Embedding(input_dims['room_fqid'], d_model, mask_zero=True)\n",
    "        self.text_embedding = tf.keras.layers.Embedding(input_dims['text'], d_model, mask_zero=True)\n",
    "        self.fqid_embedding = tf.keras.layers.Embedding(input_dims['fqid'], d_model, mask_zero=True)\n",
    "        self.duration_embedding = TimeEmbedding(n_blocks=n_blocks, d_model=d_model, dropout_rate=0.2)\n",
    "        self.gap = tf.keras.layers.GlobalAveragePooling1D()\n",
    "        \n",
    "    def call(self, inputs):\n",
    "        event = self.event_embedding(inputs['event_name_name'])\n",
    "        room = self.room_embedding(inputs['room_fqid'])\n",
    "        text = self.text_embedding(inputs['text'])\n",
    "        fqid = self.fqid_embedding(inputs['fqid'])\n",
    "        duration = self.duration_embedding(inputs['duration'])\n",
    "        x = duration * (event + room + text + fqid)\n",
    "        outputs = self.gap(x)\n",
    "        return outputs\n",
    "\n",
    "    def get_config(self):\n",
    "        config = super().get_config().copy()\n",
    "        config.update({\n",
    "            'input_dims': self.input_dims,\n",
    "            'n_outputs': self.n_outputs,\n",
    "            'd_model': self.d_model,\n",
    "            'n_blocks': self.n_blocks,\n",
    "            'name': self._name,\n",
    "        })\n",
    "        return config\n",
    "\n",
    "    @classmethod\n",
    "    def from_config(cls, config):\n",
    "        return cls(**config)"
   ],
   "metadata": {},
   "execution_count": null,
   "outputs": []
  },
  {
   "cell_type": "code",
   "source": [
    "class SimpleHead(tf.keras.Model):\n",
    "    def __init__(self, n_units, n_outputs, name=None, dropout_rate=0.2):\n",
    "        super(SimpleHead, self).__init__(name=name)\n",
    "        self.ffs = [tf.keras.layers.Dense(units, activation='leaky_relu') for units in n_units]\n",
    "        self.out = tf.keras.layers.Dense(n_outputs, activation='sigmoid')\n",
    "        \n",
    "    def call(self, inputs):\n",
    "        x = inputs\n",
    "        for i in range(len(self.ffs)):\n",
    "            x = self.ffs[i](x)\n",
    "        outputs = self.out(x)\n",
    "        return outputs"
   ],
   "metadata": {},
   "execution_count": null,
   "outputs": []
  },
  {
   "cell_type": "code",
   "source": [
    "def build_model(convnets, heads, trainable=False):\n",
    "    inputs = {}\n",
    "    for level_group in LEVEL_GROUPS:\n",
    "        inputs[level_group] = {}\n",
    "        for feature in FEATURES:\n",
    "            name = f'input_{feature}_{level_group.replace(\"-\", \"_\")}'\n",
    "            inputs[level_group][feature] = tf.keras.Input(shape=(LENGTHS[level_group]), name=name) \n",
    "    \n",
    "    for level_group in LEVEL_GROUPS:\n",
    "        convnets[level_group].trainable = trainable\n",
    "\n",
    "    convnet_outputs = {level_group: convnets[level_group](inputs[level_group]) for level_group in LEVEL_GROUPS}\n",
    "\n",
    "    outputs = {}\n",
    "    outputs['0-4'] = heads['0-4'](convnet_outputs['0-4'])\n",
    "    outputs['5-12'] = heads['5-12'](\n",
    "        tf.keras.layers.Concatenate(name='concat_5_12')(\n",
    "            [convnet_outputs['0-4'], convnet_outputs['5-12']]))\n",
    "    outputs['13-22'] = heads['13-22'](\n",
    "        tf.keras.layers.Concatenate(name='concat_13_22')(\n",
    "            [convnet_outputs['0-4'], convnet_outputs['5-12'], convnet_outputs['13-22']]))\n",
    "\n",
    "    model = tf.keras.Model(inputs=inputs, outputs=outputs, name='pspfgp_model')\n",
    "    \n",
    "    return model"
   ],
   "metadata": {},
   "execution_count": null,
   "outputs": []
  },
  {
   "cell_type": "code",
   "source": [
    "def get_models():\n",
    "    models = {}\n",
    "    custom_objects = {'ConvNet': ConvNet, 'SimpleHead': SimpleHead}\n",
    "    with tf.keras.utils.custom_object_scope(custom_objects):\n",
    "        for level_group in LEVEL_GROUPS:\n",
    "            models[level_group] = {}\n",
    "            for b in range(N_BAGS):\n",
    "                for f in range(N_FOLDS):\n",
    "                    prefix = f'../models/{VERSION}/'\n",
    "                    suffix = f'_{level_group.replace(\"-\", \"_\")}_b{b}f{f}.h5'\n",
    "                    models[level_group][f'b{b}f{f}'] = {}\n",
    "                    convnet = tf.keras.models.load_model(f'{prefix}convnet{suffix}', compile=False)\n",
    "                    models[level_group][f'b{b}f{f}']['convnet'] = convnet\n",
    "    return models"
   ],
   "metadata": {},
   "execution_count": null,
   "outputs": []
  },
  {
   "cell_type": "markdown",
   "source": [
    "## Train"
   ],
   "metadata": {}
  },
  {
   "cell_type": "code",
   "source": [
    "class EvaluationCallback(tf.keras.callbacks.Callback):\n",
    "    def __init__(self, val_dataset, val_session_ids, test_dataset=None, test_session_ids=None):\n",
    "        self.val_dataset = val_dataset\n",
    "        self.val_session_ids = val_session_ids\n",
    "        self.test_dataset = test_dataset\n",
    "        self.test_session_ids = test_session_ids\n",
    "        self.val_preds = None\n",
    "        self.journal = []\n",
    "\n",
    "    def on_epoch_end(self, epoch, logs=None):\n",
    "        info = {}\n",
    "        info['logs'] = logs.copy()\n",
    "        for k, v in info['logs'].items():\n",
    "            info['logs'][k] = np.round(v, 5)\n",
    "        preds = self.model.predict(self.val_dataset, verbose=False)\n",
    "        targets = pd.DataFrame(index=self.val_session_ids, \n",
    "                               data=extract_targets(self.val_dataset), \n",
    "                               columns=[f'q{q}' for q in range(1, 18 + 1)])\n",
    "        info['val'], self.val_preds, threshold = compute_score(preds, targets, 0.625)\n",
    "        if self.test_dataset is not None:\n",
    "            preds = self.model.predict(self.test_dataset, verbose=False)\n",
    "            targets = pd.DataFrame(index=self.test_session_ids, \n",
    "                                   data=extract_targets(self.test_dataset), \n",
    "                                   columns=[f'q{q}' for q in range(1, 18 + 1)])\n",
    "            info['test'], _, _ = compute_score(preds, targets, threshold)\n",
    "        logs['f1_score'] = info['val']['overall']\n",
    "        self.journal.append(info)"
   ],
   "metadata": {},
   "execution_count": null,
   "outputs": []
  },
  {
   "cell_type": "code",
   "source": [
    "class LogCallback(tf.keras.callbacks.Callback):\n",
    "    def __init__(self, evaluation_callback):\n",
    "        self.evaluation_callback = evaluation_callback\n",
    "        self.journal = []\n",
    "        self.t_0 = time.time()\n",
    "\n",
    "    def on_epoch_end(self, epoch, logs=None):\n",
    "        val_score = self.evaluation_callback.journal[-1]['val']['overall']\n",
    "        log = {\n",
    "            'epoch': epoch + 1,\n",
    "            'time': int(time.time() - self.t_0),\n",
    "            'lr': logs['lr'],\n",
    "            'loss': logs['loss'],\n",
    "            'val_loss': logs['val_loss'],\n",
    "            'val_score': val_score,\n",
    "            'val_0-4_loss': logs['val_0-4_loss'],\n",
    "            'val_5-12_loss': logs['val_5-12_loss'],\n",
    "            'val_13-22_loss': logs['val_13-22_loss'],\n",
    "        }\n",
    "        \n",
    "        if 'test' in self.evaluation_callback.journal[-1]:\n",
    "            test_score = self.evaluation_callback.journal[-1]['test']['overall']\n",
    "            log['test_score'] = test_score\n",
    "            \n",
    "        self.journal.append(log)\n",
    "        \n",
    "        if epoch == 0:\n",
    "            if 'test' in self.evaluation_callback.journal[-1]:\n",
    "                print('{:<8}{:<11}{:<9}{:<10}{:<11}{:<9}{:<9}{:<9}{:<11}{:<11}'\n",
    "                      .format('Epoch', 'Time', 'lr', 'Loss', 'Val loss', '0-4', '5-12', '13-22', 'Val', 'Test'))\n",
    "            else:\n",
    "                print('{:<8}{:<11}{:<9}{:<10}{:<11}{:<9}{:<9}{:<9}{:<11}'\n",
    "                      .format('Epoch', 'Time', 'lr', 'Loss', 'Val loss', '0-4', '5-12', '13-22', 'Val'))\n",
    "            \n",
    "        best_loss = min([h['val_loss'] for h in self.journal])\n",
    "        best_val_score = max([h['val_score'] for h in self.journal])\n",
    "        if 'test' in self.evaluation_callback.journal[-1]:\n",
    "            best_test_score = max([h['test_score'] for h in self.journal])\n",
    "        info = self.journal[-1]\n",
    "        hours = str(info['time'] // 3600).zfill(2)\n",
    "        minutes = str(info['time'] // 60 % 60).zfill(2)\n",
    "        seconds = str(info['time'] % 60).zfill(2)\n",
    "        \n",
    "        if 'test' in self.evaluation_callback.journal[-1]:\n",
    "            print('{:<8}{:<11}{:<9}{:<10}{:<11}{:<9}{:<9}{:<9}{:<11}{:<11}'.format(\n",
    "                f'{epoch + 1}',\n",
    "                '{}:{}:{}'.format(hours, minutes, seconds),\n",
    "                f\"{round(info['lr'], 4):06.4f}\",\n",
    "                f\"{round(info['loss'], 5):07.5f}\",\n",
    "                f\"{round(info['val_loss'], 5):07.5f}\" + ('-' if info['val_loss'] == best_loss else ''),\n",
    "                f\"{round(info['val_0-4_loss'], 4):06.4f}\",\n",
    "                f\"{round(info['val_5-12_loss'], 4):06.4f}\",\n",
    "                f\"{round(info['val_13-22_loss'], 4):06.4f}\",\n",
    "                f\"{round(info['val_score'], 5):07.5f}\" + ('+' if info['val_score'] == best_val_score else ''),\n",
    "                f\"{round(info['test_score'], 5):07.5f}\" + ('+' if info['test_score'] == best_test_score else ''),\n",
    "            ))\n",
    "        else:\n",
    "            print('{:<8}{:<11}{:<9}{:<10}{:<11}{:<9}{:<9}{:<9}{:<11}'.format(\n",
    "                f'{epoch + 1}',\n",
    "                '{}:{}:{}'.format(hours, minutes, seconds),\n",
    "                f\"{round(info['lr'], 4):06.4f}\",\n",
    "                f\"{round(info['loss'], 5):07.5f}\",\n",
    "                f\"{round(info['val_loss'], 5):07.5f}\" + ('-' if info['val_loss'] == best_loss else ''),\n",
    "                f\"{round(info['val_0-4_loss'], 4):06.4f}\",\n",
    "                f\"{round(info['val_5-12_loss'], 4):06.4f}\",\n",
    "                f\"{round(info['val_13-22_loss'], 4):06.4f}\",\n",
    "                f\"{round(info['val_score'], 5):07.5f}\" + ('+' if info['val_score'] == best_val_score else ''),\n",
    "            ))"
   ],
   "metadata": {},
   "execution_count": null,
   "outputs": []
  },
  {
   "cell_type": "code",
   "source": [
    "def plot_scores(logs):\n",
    "    plt.figure(figsize=(8, 3))\n",
    "    plt.plot([l['val']['overall'] for l in logs])\n",
    "    legend = ['val']\n",
    "    if DATA == 'COMP':\n",
    "        plt.plot([l['test']['overall'] for l in logs])\n",
    "    legend.append('test')\n",
    "    plt.legend(legend)\n",
    "    plt.show()"
   ],
   "metadata": {},
   "execution_count": null,
   "outputs": []
  },
  {
   "cell_type": "code",
   "source": [
    "def schedule_lr(epoch):\n",
    "    if epoch < 20:\n",
    "        return 1e-3\n",
    "    elif epoch < 30:\n",
    "        return 5e-4\n",
    "    elif epoch < 40:\n",
    "        return 2.5e-4\n",
    "    else:\n",
    "        return 1e-4"
   ],
   "metadata": {},
   "execution_count": null,
   "outputs": []
  },
  {
   "cell_type": "code",
   "source": [
    "class LearningRateSchedulerCallback(tf.keras.callbacks.Callback):\n",
    "    def __init__(self):\n",
    "        self.best = 0\n",
    "        self.n_steps_since_last_best = 0\n",
    "        self.n_steps_of_best = 0\n",
    "\n",
    "    def on_epoch_end(self, epoch, logs=None):\n",
    "        if logs['f1_score'] > self.best:\n",
    "            self.best = logs['f1_score']\n",
    "            self.n_steps_since_last_best = 0\n",
    "            self.n_steps_of_best += 1\n",
    "        else:\n",
    "            self.n_steps_since_last_best += 1\n",
    "            self.n_steps_of_best = 0\n",
    "        lr_backup = lr = self.model.optimizer.lr.read_value()\n",
    "        lr = lr + 1e-4 if self.n_steps_of_best > 2 else lr - 1e-4 if self.n_steps_since_last_best > 2 else lr\n",
    "        lr = 1e-3 if lr > 1e-3 else 1e-4 if lr < 1e-4 else lr\n",
    "        logs['lr'] = np.round(lr_backup, 4)\n",
    "        self.model.optimizer.lr.assign(lr)"
   ],
   "metadata": {},
   "execution_count": null,
   "outputs": []
  },
  {
   "cell_type": "code",
   "source": [
    "early_stopping_round_callback = tf.keras.callbacks.EarlyStopping(\n",
    "    monitor='f1_score',\n",
    "    min_delta=0,\n",
    "    patience=20,\n",
    "    verbose=0,\n",
    "    mode='max',\n",
    "    baseline=None,\n",
    "    restore_best_weights=True,\n",
    ")"
   ],
   "metadata": {},
   "execution_count": null,
   "outputs": []
  },
  {
   "cell_type": "code",
   "source": [
    "%%time\n",
    "\n",
    "random.seed(SEED)\n",
    "tf.random.set_seed(SEED)\n",
    "\n",
    "models = get_models()\n",
    "session_ids = METADATA[METADATA['fold'] > -1]['session_id'].drop_duplicates().tolist()\n",
    "oof_preds = pd.DataFrame(index=session_ids, \n",
    "                         data=np.zeros((len(session_ids), 18)), \n",
    "                         columns=[f'q{q}' for q in range(1, 18 + 1)])\n",
    "labels = Y[Y['session_id'].isin(session_ids)].reset_index(drop=True)\n",
    "logs = []\n",
    "\n",
    "for b in range(N_BAGS):\n",
    "    for f in range(N_FOLDS):\n",
    "        print(f'> Bag {b} Fold {f}' + \"\\n\")\n",
    "        \n",
    "        convnets = {level_group: models[level_group][f'b{b}f{f}']['convnet'] for level_group in LEVEL_GROUPS}\n",
    "        heads = {}\n",
    "        for level_group in LEVEL_GROUPS:\n",
    "            n_units = [512, 128, 64]\n",
    "            n_outputs = len(get_questions(level_group))\n",
    "            heads[level_group] = SimpleHead(n_units, n_outputs, level_group)\n",
    "            \n",
    "        model = build_model(convnets, heads)\n",
    "\n",
    "        metadata = METADATA[METADATA['train'] & (METADATA['fold'] == f)]\n",
    "        val_session_ids = metadata['session_id'].drop_duplicates().tolist()\n",
    "\n",
    "        (x_train, y_train), (x_val, y_val) = train_datasets[f'f{f}']\n",
    "        train_dataset = tf.data.Dataset.from_tensor_slices((x_train, y_train))\n",
    "        train_dataset = train_dataset.batch(BATCH_SIZE).prefetch(buffer_size=tf.data.AUTOTUNE)\n",
    "        val_dataset = tf.data.Dataset.from_tensor_slices((x_val, y_val))\n",
    "        val_dataset = val_dataset.batch(BATCH_SIZE).prefetch(buffer_size=tf.data.AUTOTUNE)\n",
    "        \n",
    "        optimizer = tf.keras.optimizers.Adam(learning_rate=1e-4)\n",
    "        loss = tf.keras.losses.BinaryCrossentropy()\n",
    "        model.compile(loss=loss, optimizer=optimizer)\n",
    "        \n",
    "        evaluation_callback = EvaluationCallback(val_dataset, val_session_ids, None, None)\n",
    "        log_callback = LogCallback(evaluation_callback)\n",
    "        lr_callback = LearningRateSchedulerCallback()\n",
    "        callbacks = [evaluation_callback, lr_callback, log_callback, early_stopping_round_callback]\n",
    "        history = model.fit(\n",
    "            train_dataset, validation_data=val_dataset, epochs=100, verbose=False, callbacks=callbacks)\n",
    "        \n",
    "        for level_group in LEVEL_GROUPS:\n",
    "            heads[level_group]._name = f'head_{level_group.replace(\"-\", \"_\")}_b{b}f{f}'\n",
    "            models[level_group][f'b{b}f{f}']['head'] = heads[level_group]\n",
    "        \n",
    "        logs.append(evaluation_callback.journal)\n",
    "        \n",
    "        plot_scores(logs[b * f + f])\n",
    "        \n",
    "        oof_preds.loc[val_session_ids] = evaluation_callback.val_preds.values\n",
    "        \n",
    "        print()"
   ],
   "metadata": {},
   "execution_count": null,
   "outputs": []
  },
  {
   "cell_type": "code",
   "source": [
    "oof_preds"
   ],
   "metadata": {},
   "execution_count": null,
   "outputs": []
  },
  {
   "cell_type": "code",
   "source": [
    "model.summary()"
   ],
   "metadata": {
    "scrolled": true
   },
   "execution_count": null,
   "outputs": []
  },
  {
   "cell_type": "markdown",
   "source": [
    "# Export"
   ],
   "metadata": {}
  },
  {
   "cell_type": "code",
   "source": [
    "VERSION = f'pspfgp-48-nn-simple-head-s{SEED}'"
   ],
   "metadata": {},
   "execution_count": null,
   "outputs": []
  },
  {
   "cell_type": "code",
   "source": [
    "! rm -rf ../models/\"$VERSION\"\n",
    "! mkdir ../models/\"$VERSION\""
   ],
   "metadata": {},
   "execution_count": null,
   "outputs": []
  },
  {
   "cell_type": "code",
   "source": [
    "# ls -lh ../models"
   ],
   "metadata": {},
   "execution_count": null,
   "outputs": []
  },
  {
   "cell_type": "code",
   "source": [
    "%%time\n",
    "\n",
    "tf.get_logger().setLevel('ERROR')\n",
    "\n",
    "for i, level_group in enumerate(LEVEL_GROUPS):\n",
    "    for b in range(N_BAGS):\n",
    "        for f in range(N_FOLDS):\n",
    "            inputs = {}\n",
    "            suffix = level_group.replace(\"-\", \"_\")\n",
    "            for feature in FEATURES:\n",
    "                inputs[feature] = tf.keras.Input(shape=(LENGTHS[level_group]), name=f'input_{feature}_{suffix}') \n",
    "            outputs = models[level_group][f'b{b}f{f}']['convnet'](inputs)\n",
    "            convnet = tf.keras.Model(inputs=inputs, outputs=outputs, name=f'convnet_{suffix}')\n",
    "            convnet.save(f'../models/{VERSION}/convnet_{suffix}_b{b}f{f}.h5', include_optimizer=False)\n",
    "            \n",
    "            inputs = tf.keras.Input(shape=(24 * (i + 1)), name=f'input') \n",
    "            outputs = models[level_group][f'b{b}f{f}']['head'](inputs)\n",
    "            head = tf.keras.Model(inputs=inputs, outputs=outputs, name=f'head_{suffix}')\n",
    "            head.save(f'../models/{VERSION}/head_{suffix}_b{b}f{f}.h5', include_optimizer=False)\n",
    "\n",
    "tf.get_logger().setLevel('WARNING')"
   ],
   "metadata": {},
   "execution_count": null,
   "outputs": []
  },
  {
   "cell_type": "code",
   "source": [
    "%%time\n",
    "custom_objects = {'ConvNet': ConvNet}\n",
    "for level_group in LEVEL_GROUPS:\n",
    "    for f in range(N_FOLDS):\n",
    "        file_name = f\"convnet_{level_group.replace('-', '_')}_b0f{f}\"\n",
    "        path = f'../models/{VERSION}/{file_name}'\n",
    "        print(path)\n",
    "        with tf.keras.utils.custom_object_scope(custom_objects):\n",
    "            convnet = tf.keras.models.load_model(f'{path}.h5')\n",
    "        converter = tf.lite.TFLiteConverter.from_keras_model(convnet)\n",
    "#         converter.optimizations = [tf.lite.Optimize.DEFAULT]\n",
    "#         converter.target_spec.supported_types = [tf.float16]\n",
    "        tflite_model = converter.convert()\n",
    "        with open(f'{path}.tflite', 'wb') as f:\n",
    "            f.write(tflite_model)"
   ],
   "metadata": {
    "scrolled": true
   },
   "execution_count": null,
   "outputs": []
  },
  {
   "cell_type": "code",
   "source": [
    "%%time\n",
    "custom_objects = {'SimpleHead': SimpleHead}\n",
    "for level_group in LEVEL_GROUPS:\n",
    "    for f in range(N_FOLDS):\n",
    "        file_name = f\"head_{level_group.replace('-', '_')}_b0f{f}\"\n",
    "        path = f'../models/{VERSION}/{file_name}'\n",
    "        print(path)\n",
    "        with tf.keras.utils.custom_object_scope(custom_objects):\n",
    "            convnet = tf.keras.models.load_model(f'{path}.h5')\n",
    "        converter = tf.lite.TFLiteConverter.from_keras_model(convnet)\n",
    "#         converter.optimizations = [tf.lite.Optimize.DEFAULT]\n",
    "#         converter.target_spec.supported_types = [tf.float16]\n",
    "        tflite_model = converter.convert()\n",
    "        with open(f'{path}.tflite', 'wb') as f:\n",
    "            f.write(tflite_model)"
   ],
   "metadata": {
    "scrolled": true
   },
   "execution_count": null,
   "outputs": []
  },
  {
   "cell_type": "code",
   "source": [
    "pickle.dump(oof_preds, open(f'../models/{VERSION}/oof_preds.pkl', 'wb'))"
   ],
   "metadata": {},
   "execution_count": null,
   "outputs": []
  },
  {
   "cell_type": "code",
   "source": [
    "ls ../models/\"$VERSION\""
   ],
   "metadata": {},
   "execution_count": null,
   "outputs": []
  }
 ]
}
