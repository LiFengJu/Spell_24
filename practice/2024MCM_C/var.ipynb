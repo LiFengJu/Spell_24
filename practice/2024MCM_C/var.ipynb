{
 "cells": [
  {
   "cell_type": "code",
   "outputs": [],
   "source": [
    "import pandas as pd\n",
    "from utils_24 import p1_place\n",
    "pd.read_csv('Wimbledon_featured_matches.csv')"
   ],
   "metadata": {
    "collapsed": false
   },
   "id": "84b2d24b98e7d4a",
   "execution_count": null
  },
  {
   "cell_type": "code",
   "outputs": [],
   "source": [
    "df = pd.read_csv('Wimbledon_featured_matches.csv').ffill()\n",
    "df[['p1_ace','p2_ace','p1_winner','p2_winner','p1_break_pt_won','p2_break_pt_won','p1_break_pt_missed','p2_break_pt_missed','p1_net_pt_won','p2_net_pt_won','p1_double_fault','p2_double_fault','p1_unf_err','p2_unf_err']] = df[['p1_ace','p2_ace','p1_winner','p2_winner','p1_break_pt_won','p2_break_pt_won','p1_break_pt_missed','p2_break_pt_missed','p1_net_pt_won','p2_net_pt_won','p1_double_fault','p2_double_fault','p1_unf_err','p2_unf_err']].shift().fillna(0)"
   ],
   "metadata": {
    "collapsed": false
   },
   "id": "5d713229c7022b33",
   "execution_count": null
  },
  {
   "cell_type": "code",
   "outputs": [],
   "source": [
    "df"
   ],
   "metadata": {
    "collapsed": false
   },
   "id": "7822f6cac0a70518",
   "execution_count": null
  },
  {
   "cell_type": "code",
   "outputs": [],
   "source": [
    "df['elapsed_time'] = pd.to_timedelta(df['elapsed_time']).apply(lambda x: x.total_seconds()/60)\n",
    "df.elapsed_time = df.elapsed_time.diff().fillna(0).apply(lambda x: max(0, x))\n",
    "df.rename(columns={'elapsed_time': 'last_time'}, inplace=True) "
   ],
   "metadata": {
    "collapsed": false
   },
   "id": "8321377c8452fe36",
   "execution_count": null
  },
  {
   "cell_type": "code",
   "outputs": [],
   "source": [
    "df = p1_place(df)\n",
    "df = pd.get_dummies(df, columns=['serve_width','serve_depth','return_depth'],drop_first=True) #p1_place,这个在上面编码了\n",
    "df[['serve_width_BC', 'serve_width_BW', 'serve_width_C', 'serve_width_W', 'serve_depth_NCTL',\n",
    "'return_depth_ND']] = df[['serve_width_BC', 'serve_width_BW', 'serve_width_C', 'serve_width_W',\n",
    "                          'serve_depth_NCTL','return_depth_ND']].astype(int)"
   ],
   "metadata": {
    "collapsed": false
   },
   "id": "d1dc6e77f1eff729",
   "execution_count": null
  },
  {
   "cell_type": "markdown",
   "source": [
    "grouped = df.groupby('match_id')\n",
    "grouped_dfs = {}\n",
    "for name, group_df in grouped:\n",
    "    grouped_dfs[name] = group_df"
   ],
   "metadata": {
    "collapsed": false
   },
   "id": "5b2ae857ceb5ca9"
  },
  {
   "cell_type": "code",
   "outputs": [],
   "source": [
    "df.columns"
   ],
   "metadata": {
    "collapsed": false
   },
   "id": "770d2d028481f177",
   "execution_count": null
  },
  {
   "cell_type": "code",
   "outputs": [],
   "source": [
    "select_columns = ['last_time','set_no','game_no',\n",
    "                  'server','p1_place',\n",
    "                  'p1_sets','p2_sets','p1_games','p2_games','p1_points_won','p2_points_won',\n",
    "                  'p1_break_pt','p2_break_pt']\n",
    "df = df[df['player1']=='Carlos Alcaraz']\n",
    "train = df[df['player2'] != 'Nicolas Jarry']\n",
    "test = df[df['player2'] == 'Nicolas Jarry']\n",
    "# train = df\n",
    "# test = df\n",
    "\n",
    "X_train = train.drop(['point_victor','player1','player2','match_id','p1_score','p2_score','winner_shot_type'],axis=1)\n",
    "X_test = test.drop(['point_victor','player1','player2','match_id','p1_score','p2_score','winner_shot_type'],axis=1)\n",
    "\n",
    "# X_train = train[select_columns]\n",
    "# X_test = test[select_columns]\n",
    "\n",
    "y_train = train['point_victor'].replace(2,0)\n",
    "y_test = test['point_victor'].replace(2,0)"
   ],
   "metadata": {
    "collapsed": false
   },
   "id": "d0a617b4c2c248c5",
   "execution_count": null
  },
  {
   "cell_type": "code",
   "outputs": [],
   "source": [
    "X_train.info()"
   ],
   "metadata": {
    "collapsed": false
   },
   "id": "a41a25999bc21101",
   "execution_count": null
  },
  {
   "cell_type": "markdown",
   "source": [
    "\n",
    "X_train.to_csv('X_train_2.csv',index=False)\n",
    "y_train.to_csv('y_train_2.csv',index=False)\n",
    "X_test.to_csv('X_test_2.csv',index=False)\n",
    "y_test.to_csv('y_test_2.csv',index=False)"
   ],
   "metadata": {
    "collapsed": false
   },
   "id": "d85d212dd54e1663"
  },
  {
   "cell_type": "code",
   "outputs": [],
   "source": [],
   "metadata": {
    "collapsed": false
   },
   "id": "65b744bf97d621e"
  }
 ],
 "metadata": {
  "kernelspec": {
   "display_name": "Python 3",
   "language": "python",
   "name": "python3"
  },
  "language_info": {
   "codemirror_mode": {
    "name": "ipython",
    "version": 2
   },
   "file_extension": ".py",
   "mimetype": "text/x-python",
   "name": "python",
   "nbconvert_exporter": "python",
   "pygments_lexer": "ipython2",
   "version": "2.7.6"
  }
 },
 "nbformat": 4,
 "nbformat_minor": 5
}
