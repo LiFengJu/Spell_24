{
 "cells": [
  {
   "cell_type": "code",
   "outputs": [],
   "source": [
    "import matplotlib.pyplot as plt\n",
    "import pandas as pd\n",
    "import torch\n",
    "import torch.nn as nn\n",
    "import torch.optim as optim\n",
    "import numpy as np\n",
    "from torch.utils.data import DataLoader, TensorDataset\n",
    "from sklearn.metrics import accuracy_score\n",
    "X_train=torch.tensor(pd.read_csv('data/X_train_dec.csv').values, dtype=torch.float32).unsqueeze(1).transpose(0,1)\n",
    "X_test=torch.tensor(pd.read_csv('data/X_test_dec.csv').values,dtype=torch.float32).unsqueeze(1).transpose(0,1)\n",
    "y_train=torch.tensor(pd.read_csv('data/y_train_dec.csv').values,dtype=torch.float32).unsqueeze(0)\n",
    "y_test=pd.read_csv('data/y_test_dec.csv')"
   ],
   "metadata": {
    "collapsed": false,
    "ExecuteTime": {
     "end_time": "2024-02-29T07:42:55.738150Z",
     "start_time": "2024-02-29T07:42:55.705597Z"
    }
   },
   "id": "629e808aaf2ef29a",
   "execution_count": 6
  },
  {
   "cell_type": "code",
   "outputs": [
    {
     "data": {
      "text/plain": "(torch.Size([1, 6519, 32]), torch.Size([1, 6519, 1]))"
     },
     "execution_count": 7,
     "metadata": {},
     "output_type": "execute_result"
    }
   ],
   "source": [
    "X_train.shape,y_train.shape"
   ],
   "metadata": {
    "collapsed": false,
    "ExecuteTime": {
     "end_time": "2024-02-29T07:42:55.744330Z",
     "start_time": "2024-02-29T07:42:55.739596Z"
    }
   },
   "id": "5aba044b00ab0b5",
   "execution_count": 7
  },
  {
   "cell_type": "code",
   "outputs": [
    {
     "data": {
      "text/plain": "(torch.Size([1, 159, 32]), (159, 1))"
     },
     "execution_count": 8,
     "metadata": {},
     "output_type": "execute_result"
    }
   ],
   "source": [
    "X_test.shape,y_test.shape"
   ],
   "metadata": {
    "collapsed": false,
    "ExecuteTime": {
     "end_time": "2024-02-29T07:42:55.781093Z",
     "start_time": "2024-02-29T07:42:55.773819Z"
    }
   },
   "id": "6b6a32301e850934",
   "execution_count": 8
  },
  {
   "cell_type": "code",
   "execution_count": 9,
   "id": "7a69e733dcd2b2",
   "metadata": {
    "collapsed": false,
    "ExecuteTime": {
     "end_time": "2024-02-29T07:43:00.533237Z",
     "start_time": "2024-02-29T07:42:55.782513Z"
    }
   },
   "outputs": [
    {
     "name": "stdout",
     "output_type": "stream",
     "text": [
      "Epoch [1/10], Loss: 0.8172\n",
      "Epoch [2/10], Loss: 0.6500\n",
      "Epoch [3/10], Loss: 0.6359\n",
      "Epoch [4/10], Loss: 0.6335\n",
      "Epoch [5/10], Loss: 0.6362\n",
      "Epoch [6/10], Loss: 0.6358\n",
      "Epoch [7/10], Loss: 0.6319\n",
      "Epoch [8/10], Loss: 0.6304\n",
      "Epoch [9/10], Loss: 0.6320\n",
      "Epoch [10/10], Loss: 0.6299\n"
     ]
    }
   ],
   "source": [
    "class RNN(nn.Module):\n",
    "    def __init__(self, input_size, hidden_size, output_size):\n",
    "        super(RNN, self).__init__()\n",
    "        self.hidden_size = hidden_size\n",
    "        self.rnn = nn.RNN(input_size, hidden_size, batch_first=True)\n",
    "        self.fc = nn.Linear(hidden_size, output_size)\n",
    "        self.sigmoid = nn.Sigmoid()\n",
    "\n",
    "    def forward(self, x):\n",
    "        h0 = torch.zeros(1, x.size(0), self.hidden_size).to(x.device)\n",
    "        out, _ = self.rnn(x, h0)\n",
    "        diff = self.fc(out)\n",
    "        out = self.sigmoid(diff)\n",
    "        return out\n",
    "input_size = 32\n",
    "hidden_size = 128\n",
    "output_size = 1\n",
    "learning_rate = 0.01\n",
    "num_epochs =10\n",
    "train_data = TensorDataset(X_train, y_train)\n",
    "train_loader = DataLoader(train_data, batch_size=30, shuffle=False)\n",
    "model = RNN(input_size, hidden_size, output_size)\n",
    "criterion = nn.BCELoss()\n",
    "optimizer = optim.Adam(model.parameters(), lr=learning_rate)\n",
    "for epoch in range(num_epochs):\n",
    "    for inputs, labels in train_loader:\n",
    "        optimizer.zero_grad()\n",
    "        outputs = model(inputs)\n",
    "        loss = criterion(outputs, labels)\n",
    "        loss.backward()\n",
    "        optimizer.step()\n",
    "    print(f'Epoch [{epoch+1}/{num_epochs}], Loss: {loss.item():.4f}')"
   ]
  },
  {
   "cell_type": "code",
   "outputs": [
    {
     "data": {
      "text/plain": "0.6709618039576623"
     },
     "execution_count": 10,
     "metadata": {},
     "output_type": "execute_result"
    }
   ],
   "source": [
    "model.eval()\n",
    "with torch.no_grad():\n",
    "    y_pred= model(X_train)\n",
    "    y_pred = (y_pred.squeeze().detach().numpy() > 0.5).astype(int)\n",
    "accuracy_score(y_pred ,y_train.squeeze().detach().numpy())"
   ],
   "metadata": {
    "collapsed": true,
    "ExecuteTime": {
     "end_time": "2024-02-29T07:43:00.626142Z",
     "start_time": "2024-02-29T07:43:00.534334Z"
    }
   },
   "id": "initial_id",
   "execution_count": 10
  },
  {
   "cell_type": "code",
   "outputs": [
    {
     "data": {
      "text/plain": "0.6970802919708029"
     },
     "execution_count": 11,
     "metadata": {},
     "output_type": "execute_result"
    }
   ],
   "source": [
    "X_test_1306=torch.tensor(pd.read_csv('data/X_test_dec_1402.csv').values,dtype=torch.float32).unsqueeze(1).transpose(0,1)\n",
    "y_test_1306=pd.read_csv('data/y_test_dec_1402.csv')\n",
    "model.eval()\n",
    "with torch.no_grad():\n",
    "    y_pred_t= model(X_test_1306)\n",
    "    y_pred_t = pd.DataFrame((y_pred_t.squeeze().detach().numpy() > 0.5).astype(int))\n",
    "accuracy_score(y_pred_t,y_test_1306)"
   ],
   "metadata": {
    "collapsed": false,
    "ExecuteTime": {
     "end_time": "2024-02-29T07:43:00.647725Z",
     "start_time": "2024-02-29T07:43:00.627704Z"
    }
   },
   "id": "e722b0c928f42381",
   "execution_count": 11
  },
  {
   "cell_type": "markdown",
   "source": [
    "def reset_parameters(model):\n",
    "    for param in model.parameters():\n",
    "        if len(param.size()) > 1:  # 只对权重矩阵进行重新初始化\n",
    "            nn.init.normal_(param.data, mean=0, std=5.39)  # 使用正态分布随机初始化\n",
    "\n",
    "# 将训练好的模型参数全部设置为随机值\n",
    "reset_parameters(model)"
   ],
   "metadata": {
    "collapsed": false
   },
   "id": "eceee141d5626418"
  },
  {
   "cell_type": "code",
   "outputs": [
    {
     "name": "stdout",
     "output_type": "stream",
     "text": [
      "rnn.weight_ih_l0 Parameter containing:\n",
      "tensor([[-0.0428, -0.1135,  0.0460,  ..., -0.1130,  0.0954,  0.0824],\n",
      "        [-0.0231, -0.0240,  0.0385,  ..., -0.1008,  0.0954, -0.0630],\n",
      "        [-0.0728, -0.0386,  0.0168,  ..., -0.0521, -0.1422, -0.0937],\n",
      "        ...,\n",
      "        [ 0.0476,  0.0649,  0.0559,  ...,  0.0762, -0.0104,  0.0654],\n",
      "        [-0.0149,  0.0084,  0.0722,  ..., -0.0276, -0.0849, -0.0004],\n",
      "        [ 0.0738, -0.0379,  0.0319,  ..., -0.0206,  0.0237,  0.0204]],\n",
      "       requires_grad=True)\n",
      "rnn.weight_hh_l0 Parameter containing:\n",
      "tensor([[-0.0592,  0.0564,  0.0607,  ...,  0.0022, -0.0374, -0.0432],\n",
      "        [-0.0048, -0.0634,  0.1282,  ...,  0.0021,  0.1025,  0.0110],\n",
      "        [ 0.0317,  0.0342,  0.0422,  ..., -0.0856,  0.0435,  0.0459],\n",
      "        ...,\n",
      "        [-0.0694, -0.0810, -0.0492,  ...,  0.0082, -0.0230, -0.0326],\n",
      "        [ 0.0482, -0.0194, -0.0957,  ...,  0.0671, -0.0033,  0.0435],\n",
      "        [-0.0413,  0.0972, -0.0732,  ..., -0.0384, -0.1067,  0.0353]],\n",
      "       requires_grad=True)\n",
      "rnn.bias_ih_l0 Parameter containing:\n",
      "tensor([-0.0173,  0.0476, -0.0381, -0.0162, -0.1111, -0.0804,  0.0015, -0.0953,\n",
      "        -0.0475,  0.0547, -0.0725,  0.0790, -0.0880,  0.0054,  0.0657, -0.0409,\n",
      "         0.0484,  0.0526,  0.0746,  0.0552,  0.0339, -0.1233, -0.0677,  0.0022,\n",
      "        -0.0254, -0.0013,  0.0466,  0.0292, -0.0121,  0.0602,  0.0437,  0.0717,\n",
      "         0.0999,  0.0859, -0.0957, -0.0415,  0.0767,  0.1034,  0.0149,  0.0353,\n",
      "        -0.0475,  0.0368,  0.1074, -0.0254, -0.0253, -0.0280,  0.0033,  0.0127,\n",
      "        -0.0183,  0.0759,  0.0764, -0.0150,  0.0122, -0.0772,  0.1253,  0.0348,\n",
      "        -0.0191, -0.0564, -0.0588, -0.1046, -0.0275, -0.0452, -0.0222,  0.0399,\n",
      "         0.0155,  0.0097, -0.0342, -0.0248, -0.0265, -0.0827,  0.0678, -0.0844,\n",
      "         0.0375,  0.0909, -0.0479, -0.1138, -0.0571, -0.1032, -0.0422,  0.0438,\n",
      "         0.0558, -0.0170,  0.0969, -0.0198,  0.0317,  0.0416,  0.0368, -0.0943,\n",
      "        -0.0557, -0.0163,  0.0060,  0.0521, -0.0382, -0.0725, -0.0069, -0.0179,\n",
      "        -0.0024, -0.0083,  0.0604, -0.0447,  0.0341, -0.0013, -0.0593,  0.1055,\n",
      "        -0.0669,  0.0336, -0.0222,  0.0143,  0.0904,  0.0385,  0.0176, -0.0395,\n",
      "        -0.1127,  0.0560,  0.1091,  0.0766, -0.1118, -0.0057,  0.0748,  0.0426,\n",
      "        -0.0054, -0.0953, -0.0569, -0.0128,  0.0142, -0.0279,  0.0706, -0.0298],\n",
      "       requires_grad=True)\n",
      "rnn.bias_hh_l0 Parameter containing:\n",
      "tensor([ 0.0065, -0.0631, -0.1110,  0.0516,  0.0504, -0.0324, -0.0276, -0.0627,\n",
      "        -0.0246, -0.0783, -0.1021,  0.0672, -0.1003, -0.1158,  0.0336,  0.1248,\n",
      "         0.0162, -0.1138,  0.0204,  0.0660,  0.0565, -0.0766,  0.0219,  0.0492,\n",
      "         0.0545,  0.0456, -0.0010, -0.0287,  0.0342,  0.0481,  0.0331, -0.0112,\n",
      "         0.0594, -0.0515,  0.0484, -0.1076, -0.0122,  0.0839,  0.0375, -0.0408,\n",
      "        -0.0534,  0.1146, -0.0216,  0.0764,  0.0391,  0.0712, -0.0264, -0.0059,\n",
      "        -0.0136, -0.0009, -0.0174,  0.0078, -0.0111,  0.0535,  0.0837,  0.0405,\n",
      "        -0.1091,  0.0501, -0.0321, -0.1178,  0.1111, -0.0255,  0.0396, -0.0986,\n",
      "        -0.0582, -0.0083, -0.0545,  0.0499,  0.1233, -0.0017,  0.0615, -0.0225,\n",
      "        -0.0183, -0.0572, -0.1125, -0.1096,  0.0155, -0.1063, -0.0162, -0.0208,\n",
      "         0.0434, -0.0500, -0.0404, -0.0143,  0.1044,  0.0247,  0.0827, -0.1191,\n",
      "         0.0846, -0.0157, -0.0423,  0.0216,  0.0331, -0.0118,  0.0800, -0.0507,\n",
      "        -0.0673, -0.0437,  0.0040, -0.0154, -0.0500,  0.0983, -0.0842,  0.1027,\n",
      "         0.0633,  0.0328,  0.0361, -0.0472, -0.0516, -0.0458, -0.0256, -0.0570,\n",
      "        -0.0730, -0.0163,  0.0805,  0.1067,  0.0353, -0.0745, -0.0368, -0.0527,\n",
      "         0.0185, -0.0310,  0.0279,  0.0460,  0.0476, -0.0264,  0.0901,  0.0654],\n",
      "       requires_grad=True)\n",
      "fc.weight Parameter containing:\n",
      "tensor([[ 0.0920,  0.0446, -0.0512, -0.0330, -0.0260, -0.0263,  0.0177,  0.0173,\n",
      "          0.0410, -0.0335, -0.0730, -0.0253, -0.0343,  0.0074,  0.0278, -0.0470,\n",
      "         -0.0201, -0.0743, -0.0570,  0.0235, -0.0414,  0.0644,  0.0314, -0.0258,\n",
      "          0.0186,  0.0508, -0.0962,  0.1045, -0.0697, -0.0771,  0.0544,  0.0025,\n",
      "          0.0252,  0.0880, -0.0358,  0.0502,  0.0169, -0.0133,  0.0527, -0.0203,\n",
      "          0.1219,  0.0226, -0.1044,  0.0049, -0.0529,  0.0263, -0.0375, -0.0866,\n",
      "         -0.0066, -0.0134, -0.0413,  0.0336,  0.0112, -0.1166, -0.0565,  0.0974,\n",
      "         -0.0479,  0.0241,  0.0864, -0.0823,  0.0286,  0.0119,  0.0336, -0.0908,\n",
      "          0.0530, -0.0276,  0.0194, -0.0420, -0.0351, -0.0741, -0.1179, -0.0194,\n",
      "         -0.0863, -0.0494, -0.0279, -0.0187,  0.0623,  0.1186,  0.0333,  0.0131,\n",
      "          0.0047,  0.0245, -0.0224,  0.0157,  0.0667, -0.0624,  0.0022,  0.0433,\n",
      "         -0.0328,  0.0082, -0.0081,  0.0266, -0.0551,  0.0093,  0.0185,  0.0316,\n",
      "          0.0497,  0.0790,  0.0201,  0.1085, -0.0739,  0.0073, -0.0533, -0.0517,\n",
      "         -0.0082, -0.0279, -0.0739, -0.0022, -0.0005, -0.0422,  0.0446,  0.1166,\n",
      "          0.0133,  0.0259,  0.0661, -0.0124, -0.0168,  0.0062, -0.0439,  0.0113,\n",
      "         -0.0993,  0.0354, -0.1078,  0.0491,  0.0793,  0.0416, -0.0404,  0.0050]],\n",
      "       requires_grad=True)\n",
      "fc.bias Parameter containing:\n",
      "tensor([0.0890], requires_grad=True)\n"
     ]
    }
   ],
   "source": [
    "for k,v in model.named_parameters():\n",
    "    print(k,v)"
   ],
   "metadata": {
    "collapsed": false,
    "ExecuteTime": {
     "end_time": "2024-02-29T07:43:00.657962Z",
     "start_time": "2024-02-29T07:43:00.647725Z"
    }
   },
   "id": "64b62c7d320e1f17",
   "execution_count": 12
  },
  {
   "cell_type": "code",
   "outputs": [
    {
     "ename": "NameError",
     "evalue": "name 'influence_x1' is not defined",
     "output_type": "error",
     "traceback": [
      "\u001B[1;31m---------------------------------------------------------------------------\u001B[0m",
      "\u001B[1;31mNameError\u001B[0m                                 Traceback (most recent call last)",
      "Cell \u001B[1;32mIn[13], line 19\u001B[0m\n\u001B[0;32m     17\u001B[0m factor \u001B[38;5;241m=\u001B[39m pd\u001B[38;5;241m.\u001B[39mDataFrame(factor\u001B[38;5;241m.\u001B[39msqueeze()\u001B[38;5;241m.\u001B[39mnumpy(), columns\u001B[38;5;241m=\u001B[39m[\u001B[38;5;124m'\u001B[39m\u001B[38;5;124mfactor\u001B[39m\u001B[38;5;124m'\u001B[39m])\n\u001B[0;32m     18\u001B[0m p \u001B[38;5;241m=\u001B[39m pd\u001B[38;5;241m.\u001B[39mDataFrame(p\u001B[38;5;241m.\u001B[39msqueeze()\u001B[38;5;241m.\u001B[39mnumpy(), columns\u001B[38;5;241m=\u001B[39m[\u001B[38;5;124m'\u001B[39m\u001B[38;5;124mprobability\u001B[39m\u001B[38;5;124m'\u001B[39m])\n\u001B[1;32m---> 19\u001B[0m influence_x1 \u001B[38;5;241m=\u001B[39m pd\u001B[38;5;241m.\u001B[39mDataFrame(\u001B[43minfluence_x1\u001B[49m\u001B[38;5;241m.\u001B[39msqueeze()\u001B[38;5;241m.\u001B[39mnumpy(),columns \u001B[38;5;241m=\u001B[39m[\u001B[38;5;124m'\u001B[39m\u001B[38;5;124minfluence_x1\u001B[39m\u001B[38;5;124m'\u001B[39m])\n\u001B[0;32m     20\u001B[0m y_test_ \u001B[38;5;241m=\u001B[39m pd\u001B[38;5;241m.\u001B[39mDataFrame(y_test_\u001B[38;5;241m.\u001B[39msqueeze()\u001B[38;5;241m.\u001B[39mnumpy(),columns\u001B[38;5;241m=\u001B[39m[\u001B[38;5;124m'\u001B[39m\u001B[38;5;124mlabel\u001B[39m\u001B[38;5;124m'\u001B[39m])\n\u001B[0;32m     21\u001B[0m temp \u001B[38;5;241m=\u001B[39m pd\u001B[38;5;241m.\u001B[39mconcat([factor,influence_x1,p,label,y_test_],axis\u001B[38;5;241m=\u001B[39m\u001B[38;5;241m1\u001B[39m)\n",
      "\u001B[1;31mNameError\u001B[0m: name 'influence_x1' is not defined"
     ]
    }
   ],
   "source": [
    "X_test_=torch.tensor(pd.read_csv('data/X_train_dec.csv').values,dtype=torch.float32).unsqueeze(1).transpose(0,1)\n",
    "# X_test_zero=torch.tensor(pd.read_csv('data/X_test_dec_zero_2.csv').values,dtype=torch.float32).unsqueeze(1).transpose(0,1)\n",
    "# y_test_=torch.tensor(pd.read_csv('data/y_test_dec.csv').values,dtype=torch.float32).unsqueeze(0)\n",
    "# train_data = TensorDataset(X_test_, y_test_)\n",
    "# train_loader = DataLoader(train_data, batch_size=30, shuffle=False)\n",
    "# train_data_zero = TensorDataset(X_test_zero, y_test_)\n",
    "# train_loader_zero = DataLoader(train_data_zero, batch_size=5, shuffle=False)\n",
    "model.eval()\n",
    "with torch.no_grad():\n",
    "    for i, j in train_loader:\n",
    "        factor = model.fc(model.rnn(i)[0])\n",
    "    # for i, j in train_loader_zero:\n",
    "    #     influence_x1 = model.fc(model.rnn(i)[0])\n",
    "    p = model(X_test_)\n",
    "    label = (p.squeeze().detach().numpy() > 0.5).astype(int)\n",
    "    label = pd.DataFrame(label,columns=['predict_label'])\n",
    "    factor = pd.DataFrame(factor.squeeze().numpy(), columns=['factor'])\n",
    "    p = pd.DataFrame(p.squeeze().numpy(), columns=['probability'])\n",
    "    influence_x1 = pd.DataFrame(influence_x1.squeeze().numpy(),columns =['influence_x1'])\n",
    "    y_test_ = pd.DataFrame(y_test_.squeeze().numpy(),columns=['label'])\n",
    "    temp = pd.concat([factor,influence_x1,p,label,y_test_],axis=1)\n",
    "    temp['performance'] = temp.factor - temp.influence_x1\n",
    "temp"
   ],
   "metadata": {
    "collapsed": false,
    "ExecuteTime": {
     "end_time": "2024-02-29T07:43:00.815452Z",
     "start_time": "2024-02-29T07:43:00.657962Z"
    }
   },
   "id": "2e8f6fd5c57e08b1",
   "execution_count": 13
  },
  {
   "cell_type": "code",
   "outputs": [],
   "source": [
    "# temp.to_csv('data/result_1601.csv',index=False)"
   ],
   "metadata": {
    "collapsed": false
   },
   "id": "f1d1f733c2712325",
   "execution_count": null
  },
  {
   "cell_type": "markdown",
   "source": [
    "temp.performance.plot()"
   ],
   "metadata": {
    "collapsed": false
   },
   "id": "98aeac960a380e3d"
  },
  {
   "cell_type": "markdown",
   "source": [
    "model.eval()\n",
    "with torch.no_grad():\n",
    "    x1 = torch.tensor(pd.read_csv('data/X_test_dec_1.csv').values,dtype=torch.float32).unsqueeze(1).transpose(0,1)\n",
    "    _x1 = torch.tensor(pd.read_csv('data/X_test_dec_-1.csv').values,dtype=torch.float32).unsqueeze(1).transpose(0,1)\n",
    "    y1 = model.fc(model.rnn(x1)[0])\n",
    "    _y1 = model.fc(model.rnn(_x1)[0])\n",
    "    y1 = pd.DataFrame(y1.squeeze().numpy(),columns =['y1'])\n",
    "    _y1 = pd.DataFrame(_y1.squeeze().numpy(),columns =['_y1'])\n",
    "    y_x = pd.concat([y1,_y1],axis=1)\n",
    "    y_x['med_xi'] = (y_x['y1'] + y_x['_y1'])/2"
   ],
   "metadata": {
    "collapsed": false
   },
   "id": "2e1511cd1369343f"
  },
  {
   "cell_type": "markdown",
   "source": [
    "import matplotlib.pyplot as plt\n",
    "y_x.med_xi.rolling(10).mean().plot()\n",
    "plt.title('performance')"
   ],
   "metadata": {
    "collapsed": false
   },
   "id": "8158039dcb7e96a0"
  },
  {
   "cell_type": "code",
   "outputs": [],
   "source": [
    "X_test_1306=torch.tensor(pd.read_csv('data/X_test_dec_1402.csv').values,dtype=torch.float32).unsqueeze(1).transpose(0,1)\n",
    "model.eval()\n",
    "with torch.no_grad():\n",
    "    factor = model.fc(model.rnn(X_test_1306)[0])\n",
    "    factor = pd.DataFrame(factor.squeeze().numpy(), columns=['factor'])\n",
    "factor"
   ],
   "metadata": {
    "collapsed": false,
    "ExecuteTime": {
     "end_time": "2024-02-29T07:43:00.816521Z",
     "start_time": "2024-02-29T07:43:00.816521Z"
    }
   },
   "id": "8fc49efe1acfa204",
   "execution_count": null
  },
  {
   "cell_type": "code",
   "outputs": [],
   "source": [],
   "metadata": {
    "collapsed": false,
    "ExecuteTime": {
     "start_time": "2024-02-29T07:43:00.817906Z"
    }
   },
   "id": "d515e916bee35adf"
  }
 ],
 "metadata": {
  "kernelspec": {
   "display_name": "Python 3",
   "language": "python",
   "name": "python3"
  },
  "language_info": {
   "codemirror_mode": {
    "name": "ipython",
    "version": 2
   },
   "file_extension": ".py",
   "mimetype": "text/x-python",
   "name": "python",
   "nbconvert_exporter": "python",
   "pygments_lexer": "ipython2",
   "version": "2.7.6"
  }
 },
 "nbformat": 4,
 "nbformat_minor": 5
}
