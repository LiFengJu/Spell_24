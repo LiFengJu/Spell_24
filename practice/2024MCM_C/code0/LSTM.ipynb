{
 "cells": [
  {
   "cell_type": "code",
   "outputs": [],
   "source": [
    "import pandas as pd\n",
    "import torch\n",
    "import torch.nn as nn\n",
    "import torch.optim as optim\n",
    "import numpy as np\n",
    "from sklearn.metrics import accuracy_score\n",
    "\n",
    "X_train=torch.tensor(pd.read_csv('data/X_train_dec.csv').values, dtype=torch.float32).unsqueeze(1).transpose(0,1)\n",
    "X_test=torch.tensor(pd.read_csv('data/X_test_dec.csv').values,dtype=torch.float32).unsqueeze(1).transpose(0,1)\n",
    "y_train=torch.tensor(pd.read_csv('data/y_train_dec.csv').values,dtype=torch.float32).unsqueeze(0)\n",
    "y_test=pd.read_csv('data/y_test_dec.csv').to_numpy()"
   ],
   "metadata": {
    "collapsed": false,
    "ExecuteTime": {
     "end_time": "2024-02-05T13:09:04.428348300Z",
     "start_time": "2024-02-05T13:09:04.355717500Z"
    }
   },
   "id": "4940548ba0a3a114",
   "execution_count": 138
  },
  {
   "cell_type": "code",
   "outputs": [
    {
     "data": {
      "text/plain": "(torch.Size([1, 6519, 32]), torch.Size([1, 6519, 1]))"
     },
     "execution_count": 139,
     "metadata": {},
     "output_type": "execute_result"
    }
   ],
   "source": [
    "X_train.shape,y_train.shape"
   ],
   "metadata": {
    "collapsed": false,
    "ExecuteTime": {
     "end_time": "2024-02-05T13:09:04.428348300Z",
     "start_time": "2024-02-05T13:09:04.388822200Z"
    }
   },
   "id": "dca3e241e398f04d",
   "execution_count": 139
  },
  {
   "cell_type": "code",
   "outputs": [
    {
     "data": {
      "text/plain": "(torch.Size([1, 159, 32]), (159, 1))"
     },
     "execution_count": 140,
     "metadata": {},
     "output_type": "execute_result"
    }
   ],
   "source": [
    "X_test.shape,y_test.shape"
   ],
   "metadata": {
    "collapsed": false,
    "ExecuteTime": {
     "end_time": "2024-02-05T13:09:04.428348300Z",
     "start_time": "2024-02-05T13:09:04.393548200Z"
    }
   },
   "id": "c069a3c2a3a3df0d",
   "execution_count": 140
  },
  {
   "cell_type": "code",
   "execution_count": 141,
   "id": "e09f5600ecb3b7b",
   "metadata": {
    "collapsed": false,
    "ExecuteTime": {
     "end_time": "2024-02-05T13:09:15.275623100Z",
     "start_time": "2024-02-05T13:09:04.400487800Z"
    }
   },
   "outputs": [
    {
     "name": "stdout",
     "output_type": "stream",
     "text": [
      "Epoch [1/150], Loss: 0.6964\n",
      "Epoch [2/150], Loss: 0.6853\n",
      "Epoch [3/150], Loss: 0.6696\n",
      "Epoch [4/150], Loss: 0.6552\n",
      "Epoch [5/150], Loss: 0.6439\n",
      "Epoch [6/150], Loss: 0.6385\n",
      "Epoch [7/150], Loss: 0.6351\n",
      "Epoch [8/150], Loss: 0.6337\n",
      "Epoch [9/150], Loss: 0.6335\n",
      "Epoch [10/150], Loss: 0.6324\n",
      "Epoch [11/150], Loss: 0.6311\n",
      "Epoch [12/150], Loss: 0.6301\n",
      "Epoch [13/150], Loss: 0.6291\n",
      "Epoch [14/150], Loss: 0.6286\n",
      "Epoch [15/150], Loss: 0.6278\n",
      "Epoch [16/150], Loss: 0.6280\n",
      "Epoch [17/150], Loss: 0.6266\n",
      "Epoch [18/150], Loss: 0.6262\n",
      "Epoch [19/150], Loss: 0.6254\n",
      "Epoch [20/150], Loss: 0.6243\n",
      "Epoch [21/150], Loss: 0.6240\n",
      "Epoch [22/150], Loss: 0.6222\n",
      "Epoch [23/150], Loss: 0.6215\n",
      "Epoch [24/150], Loss: 0.6199\n",
      "Epoch [25/150], Loss: 0.6184\n",
      "Epoch [26/150], Loss: 0.6186\n",
      "Epoch [27/150], Loss: 0.6177\n",
      "Epoch [28/150], Loss: 0.6144\n",
      "Epoch [29/150], Loss: 0.6165\n",
      "Epoch [30/150], Loss: 0.6143\n",
      "Epoch [31/150], Loss: 0.6110\n",
      "Epoch [32/150], Loss: 0.6131\n",
      "Epoch [33/150], Loss: 0.6109\n",
      "Epoch [34/150], Loss: 0.6089\n",
      "Epoch [35/150], Loss: 0.6056\n",
      "Epoch [36/150], Loss: 0.6023\n",
      "Epoch [37/150], Loss: 0.6071\n",
      "Epoch [38/150], Loss: 0.6039\n",
      "Epoch [39/150], Loss: 0.5917\n",
      "Epoch [40/150], Loss: 0.6023\n",
      "Epoch [41/150], Loss: 0.5866\n",
      "Epoch [42/150], Loss: 0.5919\n",
      "Epoch [43/150], Loss: 0.5851\n",
      "Epoch [44/150], Loss: 0.5815\n",
      "Epoch [45/150], Loss: 0.5707\n",
      "Epoch [46/150], Loss: 0.5692\n",
      "Epoch [47/150], Loss: 0.5585\n",
      "Epoch [48/150], Loss: 0.5691\n",
      "Epoch [49/150], Loss: 0.5809\n",
      "Epoch [50/150], Loss: 0.5619\n",
      "Epoch [51/150], Loss: 0.5592\n",
      "Epoch [52/150], Loss: 0.5532\n",
      "Epoch [53/150], Loss: 0.5369\n",
      "Epoch [54/150], Loss: 0.5503\n",
      "Epoch [55/150], Loss: 0.5284\n",
      "Epoch [56/150], Loss: 0.5305\n",
      "Epoch [57/150], Loss: 0.5138\n",
      "Epoch [58/150], Loss: 0.5017\n",
      "Epoch [59/150], Loss: 0.5002\n",
      "Epoch [60/150], Loss: 0.5174\n",
      "Epoch [61/150], Loss: 0.5605\n",
      "Epoch [62/150], Loss: 0.5776\n",
      "Epoch [63/150], Loss: 0.5762\n",
      "Epoch [64/150], Loss: 0.5451\n",
      "Epoch [65/150], Loss: 0.5577\n",
      "Epoch [66/150], Loss: 0.5404\n",
      "Epoch [67/150], Loss: 0.5205\n",
      "Epoch [68/150], Loss: 0.5229\n",
      "Epoch [69/150], Loss: 0.5152\n",
      "Epoch [70/150], Loss: 0.5008\n",
      "Epoch [71/150], Loss: 0.4967\n",
      "Epoch [72/150], Loss: 0.4865\n",
      "Epoch [73/150], Loss: 0.4769\n",
      "Epoch [74/150], Loss: 0.4654\n",
      "Epoch [75/150], Loss: 0.4542\n",
      "Epoch [76/150], Loss: 0.4366\n",
      "Epoch [77/150], Loss: 0.4311\n",
      "Epoch [78/150], Loss: 0.4210\n",
      "Epoch [79/150], Loss: 0.4145\n",
      "Epoch [80/150], Loss: 0.4164\n",
      "Epoch [81/150], Loss: 0.4610\n",
      "Epoch [82/150], Loss: 0.3895\n",
      "Epoch [83/150], Loss: 0.4261\n",
      "Epoch [84/150], Loss: 0.4211\n",
      "Epoch [85/150], Loss: 0.4321\n",
      "Epoch [86/150], Loss: 0.4200\n",
      "Epoch [87/150], Loss: 0.4030\n",
      "Epoch [88/150], Loss: 0.3918\n",
      "Epoch [89/150], Loss: 0.3838\n",
      "Epoch [90/150], Loss: 0.3548\n",
      "Epoch [91/150], Loss: 0.3590\n",
      "Epoch [92/150], Loss: 0.3478\n",
      "Epoch [93/150], Loss: 0.3084\n",
      "Epoch [94/150], Loss: 0.3199\n",
      "Epoch [95/150], Loss: 0.3259\n",
      "Epoch [96/150], Loss: 0.3411\n",
      "Epoch [97/150], Loss: 0.2954\n",
      "Epoch [98/150], Loss: 0.3535\n",
      "Epoch [99/150], Loss: 0.3144\n",
      "Epoch [100/150], Loss: 0.3164\n",
      "Epoch [101/150], Loss: 0.3177\n",
      "Epoch [102/150], Loss: 0.3143\n",
      "Epoch [103/150], Loss: 0.3000\n",
      "Epoch [104/150], Loss: 0.2739\n",
      "Epoch [105/150], Loss: 0.2591\n",
      "Epoch [106/150], Loss: 0.2641\n",
      "Epoch [107/150], Loss: 0.2501\n",
      "Epoch [108/150], Loss: 0.2438\n",
      "Epoch [109/150], Loss: 0.2499\n",
      "Epoch [110/150], Loss: 0.2454\n",
      "Epoch [111/150], Loss: 0.2224\n",
      "Epoch [112/150], Loss: 0.2026\n",
      "Epoch [113/150], Loss: 0.2016\n",
      "Epoch [114/150], Loss: 0.1900\n",
      "Epoch [115/150], Loss: 0.1800\n",
      "Epoch [116/150], Loss: 0.2132\n",
      "Epoch [117/150], Loss: 0.4474\n",
      "Epoch [118/150], Loss: 0.3611\n",
      "Epoch [119/150], Loss: 0.3328\n",
      "Epoch [120/150], Loss: 0.3002\n",
      "Epoch [121/150], Loss: 0.2650\n",
      "Epoch [122/150], Loss: 0.2380\n",
      "Epoch [123/150], Loss: 0.2771\n",
      "Epoch [124/150], Loss: 0.2964\n",
      "Epoch [125/150], Loss: 0.2520\n",
      "Epoch [126/150], Loss: 0.2376\n",
      "Epoch [127/150], Loss: 0.2134\n",
      "Epoch [128/150], Loss: 0.2062\n",
      "Epoch [129/150], Loss: 0.2141\n",
      "Epoch [130/150], Loss: 0.2131\n",
      "Epoch [131/150], Loss: 0.1889\n",
      "Epoch [132/150], Loss: 0.1809\n",
      "Epoch [133/150], Loss: 0.1664\n",
      "Epoch [134/150], Loss: 0.1705\n",
      "Epoch [135/150], Loss: 0.1535\n",
      "Epoch [136/150], Loss: 0.1427\n",
      "Epoch [137/150], Loss: 0.1428\n",
      "Epoch [138/150], Loss: 0.1421\n",
      "Epoch [139/150], Loss: 0.1282\n",
      "Epoch [140/150], Loss: 0.1251\n",
      "Epoch [141/150], Loss: 0.1217\n",
      "Epoch [142/150], Loss: 0.1178\n",
      "Epoch [143/150], Loss: 0.1179\n",
      "Epoch [144/150], Loss: 0.1035\n",
      "Epoch [145/150], Loss: 0.0991\n",
      "Epoch [146/150], Loss: 0.1040\n",
      "Epoch [147/150], Loss: 0.0943\n",
      "Epoch [148/150], Loss: 0.0888\n",
      "Epoch [149/150], Loss: 0.0839\n",
      "Epoch [150/150], Loss: 0.0834\n"
     ]
    }
   ],
   "source": [
    "# 创建一个简单的LSTM模型\n",
    "class LSTMModel(nn.Module):\n",
    "    def __init__(self, input_size, hidden_size, num_layers, output_size):\n",
    "        super(LSTMModel, self).__init__()\n",
    "        self.hidden_size = hidden_size\n",
    "        self.num_layers = num_layers\n",
    "        self.lstm = nn.LSTM(input_size, hidden_size, num_layers, batch_first=True)\n",
    "        self.fc = nn.Linear(hidden_size, output_size)\n",
    "\n",
    "    def forward(self, x):\n",
    "        h0 = torch.zeros(self.num_layers, x.size(0), self.hidden_size).to(x.device)\n",
    "        c0 = torch.zeros(self.num_layers, x.size(0), self.hidden_size).to(x.device)\n",
    "        out, _ = self.lstm(x, (h0, c0))\n",
    "        out = self.fc(out)\n",
    "        return out\n",
    "\n",
    "# 设置超参数\n",
    "input_size = 32# 输入特征的大小\n",
    "hidden_size = 64 # 隐藏层的大小\n",
    "num_layers = 2 # LSTM层数\n",
    "output_size = 1 # 输出大小，二分类问题\n",
    "\n",
    "# 创建模型实例\n",
    "model = LSTMModel(input_size, hidden_size, num_layers, output_size)\n",
    "\n",
    "# 定义损失函数和优化器\n",
    "criterion = nn.BCEWithLogitsLoss()\n",
    "optimizer = optim.Adam(model.parameters(), lr=0.01)\n",
    "\n",
    "\n",
    "# 训练模型\n",
    "num_epochs = 150\n",
    "for epoch in range(num_epochs):\n",
    "    model.train()\n",
    "    optimizer.zero_grad()\n",
    "    outputs = model(X_train)\n",
    "    loss = criterion(outputs, y_train)\n",
    "    loss.backward()\n",
    "    optimizer.step()\n",
    "\n",
    "    if (epoch+1) % 1 == 0:\n",
    "        print(f'Epoch [{epoch+1}/{num_epochs}], Loss: {loss.item():.4f}')"
   ]
  },
  {
   "cell_type": "code",
   "outputs": [
    {
     "name": "stdout",
     "output_type": "stream",
     "text": [
      "Accuracy: 0.97\n"
     ]
    }
   ],
   "source": [
    "# Evaluate model\n",
    "model.eval()\n",
    "with torch.no_grad():\n",
    "    y_pred= model(X_train)\n",
    "    y_pred = (y_pred.squeeze().detach().numpy() > 0.5).astype(int)\n",
    "\n",
    "# Calculate accuracy\n",
    "accuracy = np.mean(y_pred == y_train.squeeze().detach().numpy())\n",
    "print(f'Accuracy: {accuracy:.2f}')"
   ],
   "metadata": {
    "collapsed": false,
    "ExecuteTime": {
     "end_time": "2024-02-05T13:09:15.311513900Z",
     "start_time": "2024-02-05T13:09:15.268899300Z"
    }
   },
   "id": "6b05706ac4118fc4",
   "execution_count": 142
  },
  {
   "cell_type": "code",
   "outputs": [
    {
     "data": {
      "text/plain": "0.7987421383647799"
     },
     "execution_count": 143,
     "metadata": {},
     "output_type": "execute_result"
    }
   ],
   "source": [
    "model.eval()\n",
    "with torch.no_grad():\n",
    "    y_pred_t= model(X_test)\n",
    "    y_pred_t = (y_pred_t.squeeze().detach().numpy() > 0.5).astype(int)\n",
    "accuracy_score(y_pred_t,y_test)"
   ],
   "metadata": {
    "collapsed": false,
    "ExecuteTime": {
     "end_time": "2024-02-05T13:09:15.324143100Z",
     "start_time": "2024-02-05T13:09:15.312770Z"
    }
   },
   "id": "a784170356c45ae",
   "execution_count": 143
  },
  {
   "cell_type": "code",
   "outputs": [],
   "source": [
    "\n"
   ],
   "metadata": {
    "collapsed": false,
    "ExecuteTime": {
     "end_time": "2024-02-05T13:09:15.324143100Z",
     "start_time": "2024-02-05T13:09:15.321409800Z"
    }
   },
   "id": "5dea946b6d77fdeb",
   "execution_count": 143
  },
  {
   "cell_type": "code",
   "outputs": [],
   "source": [],
   "metadata": {
    "collapsed": false,
    "ExecuteTime": {
     "end_time": "2024-02-05T13:09:15.335367Z",
     "start_time": "2024-02-05T13:09:15.324143100Z"
    }
   },
   "id": "47648310cb9c807b",
   "execution_count": 143
  }
 ],
 "metadata": {
  "kernelspec": {
   "display_name": "Python 3",
   "language": "python",
   "name": "python3"
  },
  "language_info": {
   "codemirror_mode": {
    "name": "ipython",
    "version": 2
   },
   "file_extension": ".py",
   "mimetype": "text/x-python",
   "name": "python",
   "nbconvert_exporter": "python",
   "pygments_lexer": "ipython2",
   "version": "2.7.6"
  }
 },
 "nbformat": 4,
 "nbformat_minor": 5
}
