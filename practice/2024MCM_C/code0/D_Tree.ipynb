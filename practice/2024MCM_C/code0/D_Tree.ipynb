{
 "cells": [
  {
   "cell_type": "code",
   "outputs": [],
   "source": [
    "from sklearn.tree import DecisionTreeClassifier\n",
    "from sklearn.metrics import accuracy_score\n",
    "import pandas as pd\n",
    "import matplotlib.pyplot as plt\n",
    "X_train = pd.read_csv('data/X_train.csv')\n",
    "X_test = pd.read_csv('data/X_test.csv')\n",
    "y_train = pd.read_csv('data/y_train.csv')\n",
    "y_test = pd.read_csv('data/y_test.csv')"
   ],
   "metadata": {
    "collapsed": false
   },
   "id": "5f459b7d458ae8a4",
   "execution_count": 59
  },
  {
   "cell_type": "code",
   "execution_count": 60,
   "id": "initial_id",
   "metadata": {
    "collapsed": true,
    "ExecuteTime": {
     "end_time": "2024-02-05T12:53:01.210301900Z",
     "start_time": "2024-02-05T12:53:01.051503600Z"
    }
   },
   "outputs": [
    {
     "data": {
      "text/plain": "0.5786163522012578"
     },
     "execution_count": 60,
     "metadata": {},
     "output_type": "execute_result"
    }
   ],
   "source": [
    "clf = DecisionTreeClassifier()\n",
    "clf.fit(X_train, y_train)\n",
    "y_pred = clf.predict(X_test)\n",
    "accuracy_score(y_test, y_pred)\n",
    "feature_importance = clf.feature_importances_\n",
    "temp = pd.DataFrame({'Feature': X_train.columns,'Importance':feature_importance})\n",
    "cols = temp[temp['Importance']>0.01]\n",
    "cols.set_index('Feature', inplace=True)\n",
    "cols.sort_values(by='Importance', ascending=False).plot(kind='bar')"
   ]
  },
  {
   "cell_type": "code",
   "outputs": [
    {
     "data": {
      "text/plain": "Index(['elapsed_time', 'point_no', 'server', 'serve_no', 'p1_points_won',\n       'p2_points_won', 'p1_distance_run', 'p2_distance_run', 'rally_count',\n       'speed_mph', 'p1_trend', 'p2_trend', 'past_time', 'point_no_to_start',\n       'last_time', 'serve_width_W', 'p2_games*server', 'past_time*server',\n       'p2_trend*server', 'p1_trend*server', 'game_no*server',\n       'point_no_to_start*server'],\n      dtype='object', name='Feature')"
     },
     "execution_count": 63,
     "metadata": {},
     "output_type": "execute_result"
    }
   ],
   "source": [
    "cols.index"
   ],
   "metadata": {
    "collapsed": false,
    "ExecuteTime": {
     "end_time": "2024-02-05T12:53:01.438942700Z",
     "start_time": "2024-02-05T12:53:01.432317600Z"
    }
   },
   "id": "ee6775b19d81df44",
   "execution_count": 63
  },
  {
   "cell_type": "code",
   "outputs": [
    {
     "data": {
      "text/plain": "22"
     },
     "execution_count": 64,
     "metadata": {},
     "output_type": "execute_result"
    }
   ],
   "source": [
    "len(cols)"
   ],
   "metadata": {
    "collapsed": false,
    "ExecuteTime": {
     "end_time": "2024-02-05T12:53:01.453441400Z",
     "start_time": "2024-02-05T12:53:01.437735700Z"
    }
   },
   "id": "1557c05cf2e4a0bb",
   "execution_count": 64
  },
  {
   "cell_type": "code",
   "outputs": [],
   "source": [],
   "metadata": {
    "collapsed": false,
    "ExecuteTime": {
     "end_time": "2024-02-05T12:53:01.453441400Z",
     "start_time": "2024-02-05T12:53:01.444065200Z"
    }
   },
   "id": "445dad3990520538",
   "execution_count": 64
  }
 ],
 "metadata": {
  "kernelspec": {
   "display_name": "Python 3",
   "language": "python",
   "name": "python3"
  },
  "language_info": {
   "codemirror_mode": {
    "name": "ipython",
    "version": 2
   },
   "file_extension": ".py",
   "mimetype": "text/x-python",
   "name": "python",
   "nbconvert_exporter": "python",
   "pygments_lexer": "ipython2",
   "version": "2.7.6"
  }
 },
 "nbformat": 4,
 "nbformat_minor": 5
}
