{
 "cells": [
  {
   "cell_type": "code",
   "outputs": [],
   "source": [
    "import pandas as pd\n",
    "from utils_24 import p1_place\n"
   ],
   "metadata": {
    "collapsed": false,
    "ExecuteTime": {
     "end_time": "2024-02-05T18:35:13.527773900Z",
     "start_time": "2024-02-05T18:35:13.517917200Z"
    }
   },
   "id": "21e4977f830268f9",
   "execution_count": 112
  },
  {
   "cell_type": "code",
   "outputs": [],
   "source": [
    "dependent_variables = ['point_victor']\n",
    "X_1 = ['server']\n",
    "X_2 = ['p1_break_pt','p2_break_pt','p1_place_ge','p1_place_le','p1_sets','p2_sets','p1_games','p2_games','p2_trend','p1_trend']\n",
    "X_3 = ['set_no','game_no','point_no_to_start','elapsed_time','past_time']\n",
    "X_4 = ['p1_net_pt','p2_net_pt','p1_ace','p2_ace','p1_winner','p2_winner','p1_break_pt_won','p2_break_pt_won','p1_break_pt_missed','p2_break_pt_missed','p1_net_pt_won','p2_net_pt_won','p1_distance_run','p2_distance_run','p1_double_fault','p2_double_fault','p1_unf_err','p2_unf_err','serve_width','serve_depth','return_depth','speed_mph','rally_count','last_time']\n",
    "\n",
    "add_col = ['p1_trend','p2_trend','past_time','point_no_to_start']\n",
    "dec_col = ['match_id','player1','player2','p1_score','p2_score','p1_place_de','temp_1','winner_shot_type','game_victor','set_victor']\n",
    "\n",
    "importance_cols = ['p2_points_won', 'p2_trend*server', 'p1_points_won', 'game_no*server', 'p1_place_ge*server', 'p2_games', 'elapsed_time', 'p1_games*server', 'p2_trend', 'return_depth_ND', 'point_no_to_start*server', 'server', 'rally_count', 'point_no_to_start', 'serve_width_BW', 'p1_trend', 'p2_games*server', 'p2_distance_run', 'speed_mph', 'p1_distance_run', 'point_no', 'game_no', 'p2_winner', 'serve_depth_NCTL', 'p1_games', 'past_time', 'past_time*server', 'p1_unf_err', 'last_time', 'serve_no', 'set_no*server', 'p1_trend*server','point_victor']\n",
    "zero_x = X_2+X_3+X_4\n",
    "zero_col = [i for i in zero_x if i in importance_cols]"
   ],
   "metadata": {
    "collapsed": false,
    "ExecuteTime": {
     "end_time": "2024-02-05T18:35:13.617597800Z",
     "start_time": "2024-02-05T18:35:13.526682Z"
    }
   },
   "id": "16ecfb8f0c99bb47",
   "execution_count": 113
  },
  {
   "cell_type": "code",
   "execution_count": 114,
   "id": "61531601efd7bd8f",
   "metadata": {
    "collapsed": false,
    "ExecuteTime": {
     "end_time": "2024-02-05T18:35:13.617677700Z",
     "start_time": "2024-02-05T18:35:13.532667500Z"
    }
   },
   "outputs": [
    {
     "name": "stderr",
     "output_type": "stream",
     "text": [
      "C:\\Users\\16872\\AppData\\Local\\Temp\\ipykernel_142708\\3741649940.py:2: FutureWarning: A value is trying to be set on a copy of a DataFrame or Series through chained assignment using an inplace method.\n",
      "The behavior will change in pandas 3.0. This inplace method will never work because the intermediate object on which we are setting values always behaves as a copy.\n",
      "\n",
      "For example, when doing 'df[col].method(value, inplace=True)', try using 'df.method({col: value}, inplace=True)' or df[col] = df[col].method(value) instead, to perform the operation inplace on the original object.\n",
      "\n",
      "\n",
      "  df['server'].replace(2,-1,inplace=True)\n",
      "C:\\Users\\16872\\AppData\\Local\\Temp\\ipykernel_142708\\3741649940.py:3: FutureWarning: A value is trying to be set on a copy of a DataFrame or Series through chained assignment using an inplace method.\n",
      "The behavior will change in pandas 3.0. This inplace method will never work because the intermediate object on which we are setting values always behaves as a copy.\n",
      "\n",
      "For example, when doing 'df[col].method(value, inplace=True)', try using 'df.method({col: value}, inplace=True)' or df[col] = df[col].method(value) instead, to perform the operation inplace on the original object.\n",
      "\n",
      "\n",
      "  df['point_victor'].replace(2,0,inplace=True)\n"
     ]
    }
   ],
   "source": [
    "df = pd.read_csv('Wimbledon_featured_matches.csv').ffill()\n",
    "df['server'].replace(2,-1,inplace=True)\n",
    "df['point_victor'].replace(2,0,inplace=True)\n",
    "for col_name in add_col:\n",
    "    df[col_name] = None"
   ]
  },
  {
   "cell_type": "code",
   "outputs": [],
   "source": [
    "df = p1_place(df)\n",
    "df['elapsed_time'] = pd.to_timedelta(df['elapsed_time']).apply(lambda x: x.total_seconds()/60)\n",
    "df['last_time'] = df.elapsed_time.diff().fillna(0).apply(lambda x: max(0, x))\n",
    "grouped = df.groupby('match_id')\n",
    "grouped_dfs = {}\n",
    "for name, group_df in grouped:\n",
    "    group_df[X_4] = group_df[X_4].shift().bfill()\n",
    "    group_df = pd.get_dummies(group_df, columns=['serve_width','serve_depth','return_depth'], drop_first=True)\n",
    "\n",
    "    group_df['p1_trend'] = group_df['point_victor'].replace(2,-1).cumsum().shift().fillna(0)\n",
    "    group_df['p2_trend'] = group_df['point_victor'].replace({2:1,1:-1}).cumsum().shift().fillna(0)\n",
    "    group_df['temp_1'] = ((group_df['p1_score'] == '0') & (group_df['p2_score'] == '0')).astype(int)\n",
    "    last_index_1_time = 0\n",
    "    last_index_1_point = 0\n",
    "    for index, row in group_df.iterrows():\n",
    "        if row['temp_1'] == 1:\n",
    "            last_index_1_time = row['elapsed_time']\n",
    "            group_df.at[index, 'past_time'] = 0\n",
    "            last_index_1_point = row['point_no']\n",
    "            group_df.at[index, 'point_no_to_start'] = 0\n",
    "        else:\n",
    "            group_df.loc[index, 'past_time'] = row['elapsed_time'] - last_index_1_time\n",
    "            group_df.loc[index, 'point_no_to_start'] = row['point_no'] - last_index_1_point\n",
    "    \n",
    "    group_df[['serve_width_BC', 'serve_width_BW', 'serve_width_C', 'serve_width_W', 'serve_depth_NCTL',\n",
    "              'return_depth_ND','point_no_to_start']] = group_df[['serve_width_BC', 'serve_width_BW', 'serve_width_C', 'serve_width_W',\n",
    "                                                                  'serve_depth_NCTL','return_depth_ND','point_no_to_start']].astype(int)\n",
    "    group_df['past_time'] = group_df['past_time'].astype(float)\n",
    "    group_df.drop(columns=dec_col,inplace=True)\n",
    "    for col in X_2:\n",
    "        new_col_name = col + '*server'\n",
    "        group_df[new_col_name] = df['server'] * group_df[col]\n",
    "    for col in X_3:\n",
    "        new_col_name = col + '*server'\n",
    "        group_df[new_col_name] = df['server'] * group_df[col]\n",
    "    # group_df = group_df[importance_cols]\n",
    "    # group_df[zero_col] = 0\n",
    "    grouped_dfs[name] = group_df\n",
    "\n"
   ],
   "metadata": {
    "collapsed": false,
    "ExecuteTime": {
     "end_time": "2024-02-05T18:35:13.818232600Z",
     "start_time": "2024-02-05T18:35:13.575450200Z"
    }
   },
   "id": "a36cf1011e98b423",
   "execution_count": 115
  },
  {
   "cell_type": "code",
   "outputs": [],
   "source": [
    "predict_list = ['2023-wimbledon-1601','2023-wimbledon-1306','2023-wimbledon-1402']\n",
    "train_list = df.match_id.unique().tolist()\n",
    "train_list.remove('2023-wimbledon-1601')\n",
    "train_list.remove('2023-wimbledon-1306')\n",
    "train_list.remove('2023-wimbledon-1402')\n",
    "sel_train = []\n",
    "for i in train_list:\n",
    "    if i in grouped_dfs:\n",
    "        sel_train.append(grouped_dfs[i])"
   ],
   "metadata": {
    "collapsed": false,
    "ExecuteTime": {
     "end_time": "2024-02-05T18:35:14.932619100Z",
     "start_time": "2024-02-05T18:35:14.920670600Z"
    }
   },
   "id": "1fa71e41681dd7b4",
   "execution_count": 117
  },
  {
   "cell_type": "code",
   "outputs": [],
   "source": [
    "\n",
    "temp = pd.concat(sel_train)\n",
    "# temp = pd.concat(list(grouped_dfs.values())[:10])\n",
    "\n",
    "X_train = temp.drop('point_victor',axis=1)\n",
    "y_train = temp['point_victor']\n",
    "\n",
    "X_test = grouped_dfs['2023-wimbledon-1306'].drop('point_victor',axis=1)\n",
    "y_test = grouped_dfs['2023-wimbledon-1306']['point_victor']"
   ],
   "metadata": {
    "collapsed": false,
    "ExecuteTime": {
     "end_time": "2024-02-05T18:35:14.945654600Z",
     "start_time": "2024-02-05T18:35:14.928618400Z"
    }
   },
   "id": "703e7a036e699d52",
   "execution_count": 118
  },
  {
   "cell_type": "code",
   "outputs": [],
   "source": [
    "# X_train.to_csv('data/factor_train.csv',index=False)\n",
    "# y_train.to_csv('data/y_train_dec.csv',index=False)\n",
    "X_test.to_csv('data/X_test_1306.csv',index=False)\n",
    "y_test.to_csv('data/y_test_1306.csv',index=False)"
   ],
   "metadata": {
    "collapsed": false,
    "ExecuteTime": {
     "end_time": "2024-02-05T18:35:14.958817500Z",
     "start_time": "2024-02-05T18:35:14.944649900Z"
    }
   },
   "id": "5381d5f06d39f9ef",
   "execution_count": 119
  },
  {
   "cell_type": "code",
   "outputs": [
    {
     "data": {
      "text/plain": "      elapsed_time  set_no  game_no  point_no  p1_sets  p2_sets  p1_games  \\\n0         0.000000       1        1         1        0        0         0   \n1         0.633333       1        1         2        0        0         0   \n2         1.016667       1        1         3        0        0         0   \n3         1.516667       1        1         4        0        0         0   \n4         2.350000       1        1         5        0        0         0   \n...            ...     ...      ...       ...      ...      ...       ...   \n7279    279.966667       5       10       330        2        2         5   \n7280    280.716667       5       10       331        2        2         5   \n7281    281.333333       5       10       332        2        2         5   \n7282    281.866667       5       10       333        2        2         5   \n7283    282.450000       5       10       334        2        2         5   \n\n      p2_games  server  serve_no  ...  p1_sets*server  p2_sets*server  \\\n0            0       1         2  ...             0.0             0.0   \n1            0       1         1  ...             0.0             0.0   \n2            0       1         1  ...             0.0             0.0   \n3            0       1         1  ...             0.0             0.0   \n4            0       1         1  ...             0.0             0.0   \n...        ...     ...       ...  ...             ...             ...   \n7279         4       1         1  ...             2.0             2.0   \n7280         4       1         1  ...             2.0             2.0   \n7281         4       1         1  ...             2.0             2.0   \n7282         4       1         1  ...             2.0             2.0   \n7283         4       1         1  ...             2.0             2.0   \n\n      p1_games*server  p2_games*server  past_time*server  p2_trend*server  \\\n0                 0.0              0.0          0.000000              0.0   \n1                 0.0              0.0          0.633333              0.0   \n2                 0.0              0.0          1.016667             -1.0   \n3                 0.0              0.0          1.516667             -1.0   \n4                 0.0              0.0          2.350000             -2.0   \n...               ...              ...               ...              ...   \n7279              5.0              4.0          0.450000           -164.0   \n7280              5.0              4.0          1.200000           -165.0   \n7281              5.0              4.0          1.816667           -166.0   \n7282              5.0              4.0          2.350000           -166.0   \n7283              5.0              4.0          2.933333           -167.0   \n\n      p1_trend*server  set_no*server  game_no*server  point_no_to_start*server  \n0                 0.0            1.0             1.0                       0.0  \n1                 0.0            1.0             1.0                       1.0  \n2                 1.0            1.0             1.0                       2.0  \n3                 1.0            1.0             1.0                       3.0  \n4                 2.0            1.0             1.0                       4.0  \n...               ...            ...             ...                       ...  \n7279            164.0            5.0            10.0                       1.0  \n7280            165.0            5.0            10.0                       2.0  \n7281            166.0            5.0            10.0                       3.0  \n7282            166.0            5.0            10.0                       4.0  \n7283            167.0            5.0            10.0                       5.0  \n\n[6519 rows x 61 columns]",
      "text/html": "<div>\n<style scoped>\n    .dataframe tbody tr th:only-of-type {\n        vertical-align: middle;\n    }\n\n    .dataframe tbody tr th {\n        vertical-align: top;\n    }\n\n    .dataframe thead th {\n        text-align: right;\n    }\n</style>\n<table border=\"1\" class=\"dataframe\">\n  <thead>\n    <tr style=\"text-align: right;\">\n      <th></th>\n      <th>elapsed_time</th>\n      <th>set_no</th>\n      <th>game_no</th>\n      <th>point_no</th>\n      <th>p1_sets</th>\n      <th>p2_sets</th>\n      <th>p1_games</th>\n      <th>p2_games</th>\n      <th>server</th>\n      <th>serve_no</th>\n      <th>...</th>\n      <th>p1_sets*server</th>\n      <th>p2_sets*server</th>\n      <th>p1_games*server</th>\n      <th>p2_games*server</th>\n      <th>past_time*server</th>\n      <th>p2_trend*server</th>\n      <th>p1_trend*server</th>\n      <th>set_no*server</th>\n      <th>game_no*server</th>\n      <th>point_no_to_start*server</th>\n    </tr>\n  </thead>\n  <tbody>\n    <tr>\n      <th>0</th>\n      <td>0.000000</td>\n      <td>1</td>\n      <td>1</td>\n      <td>1</td>\n      <td>0</td>\n      <td>0</td>\n      <td>0</td>\n      <td>0</td>\n      <td>1</td>\n      <td>2</td>\n      <td>...</td>\n      <td>0.0</td>\n      <td>0.0</td>\n      <td>0.0</td>\n      <td>0.0</td>\n      <td>0.000000</td>\n      <td>0.0</td>\n      <td>0.0</td>\n      <td>1.0</td>\n      <td>1.0</td>\n      <td>0.0</td>\n    </tr>\n    <tr>\n      <th>1</th>\n      <td>0.633333</td>\n      <td>1</td>\n      <td>1</td>\n      <td>2</td>\n      <td>0</td>\n      <td>0</td>\n      <td>0</td>\n      <td>0</td>\n      <td>1</td>\n      <td>1</td>\n      <td>...</td>\n      <td>0.0</td>\n      <td>0.0</td>\n      <td>0.0</td>\n      <td>0.0</td>\n      <td>0.633333</td>\n      <td>0.0</td>\n      <td>0.0</td>\n      <td>1.0</td>\n      <td>1.0</td>\n      <td>1.0</td>\n    </tr>\n    <tr>\n      <th>2</th>\n      <td>1.016667</td>\n      <td>1</td>\n      <td>1</td>\n      <td>3</td>\n      <td>0</td>\n      <td>0</td>\n      <td>0</td>\n      <td>0</td>\n      <td>1</td>\n      <td>1</td>\n      <td>...</td>\n      <td>0.0</td>\n      <td>0.0</td>\n      <td>0.0</td>\n      <td>0.0</td>\n      <td>1.016667</td>\n      <td>-1.0</td>\n      <td>1.0</td>\n      <td>1.0</td>\n      <td>1.0</td>\n      <td>2.0</td>\n    </tr>\n    <tr>\n      <th>3</th>\n      <td>1.516667</td>\n      <td>1</td>\n      <td>1</td>\n      <td>4</td>\n      <td>0</td>\n      <td>0</td>\n      <td>0</td>\n      <td>0</td>\n      <td>1</td>\n      <td>1</td>\n      <td>...</td>\n      <td>0.0</td>\n      <td>0.0</td>\n      <td>0.0</td>\n      <td>0.0</td>\n      <td>1.516667</td>\n      <td>-1.0</td>\n      <td>1.0</td>\n      <td>1.0</td>\n      <td>1.0</td>\n      <td>3.0</td>\n    </tr>\n    <tr>\n      <th>4</th>\n      <td>2.350000</td>\n      <td>1</td>\n      <td>1</td>\n      <td>5</td>\n      <td>0</td>\n      <td>0</td>\n      <td>0</td>\n      <td>0</td>\n      <td>1</td>\n      <td>1</td>\n      <td>...</td>\n      <td>0.0</td>\n      <td>0.0</td>\n      <td>0.0</td>\n      <td>0.0</td>\n      <td>2.350000</td>\n      <td>-2.0</td>\n      <td>2.0</td>\n      <td>1.0</td>\n      <td>1.0</td>\n      <td>4.0</td>\n    </tr>\n    <tr>\n      <th>...</th>\n      <td>...</td>\n      <td>...</td>\n      <td>...</td>\n      <td>...</td>\n      <td>...</td>\n      <td>...</td>\n      <td>...</td>\n      <td>...</td>\n      <td>...</td>\n      <td>...</td>\n      <td>...</td>\n      <td>...</td>\n      <td>...</td>\n      <td>...</td>\n      <td>...</td>\n      <td>...</td>\n      <td>...</td>\n      <td>...</td>\n      <td>...</td>\n      <td>...</td>\n      <td>...</td>\n    </tr>\n    <tr>\n      <th>7279</th>\n      <td>279.966667</td>\n      <td>5</td>\n      <td>10</td>\n      <td>330</td>\n      <td>2</td>\n      <td>2</td>\n      <td>5</td>\n      <td>4</td>\n      <td>1</td>\n      <td>1</td>\n      <td>...</td>\n      <td>2.0</td>\n      <td>2.0</td>\n      <td>5.0</td>\n      <td>4.0</td>\n      <td>0.450000</td>\n      <td>-164.0</td>\n      <td>164.0</td>\n      <td>5.0</td>\n      <td>10.0</td>\n      <td>1.0</td>\n    </tr>\n    <tr>\n      <th>7280</th>\n      <td>280.716667</td>\n      <td>5</td>\n      <td>10</td>\n      <td>331</td>\n      <td>2</td>\n      <td>2</td>\n      <td>5</td>\n      <td>4</td>\n      <td>1</td>\n      <td>1</td>\n      <td>...</td>\n      <td>2.0</td>\n      <td>2.0</td>\n      <td>5.0</td>\n      <td>4.0</td>\n      <td>1.200000</td>\n      <td>-165.0</td>\n      <td>165.0</td>\n      <td>5.0</td>\n      <td>10.0</td>\n      <td>2.0</td>\n    </tr>\n    <tr>\n      <th>7281</th>\n      <td>281.333333</td>\n      <td>5</td>\n      <td>10</td>\n      <td>332</td>\n      <td>2</td>\n      <td>2</td>\n      <td>5</td>\n      <td>4</td>\n      <td>1</td>\n      <td>1</td>\n      <td>...</td>\n      <td>2.0</td>\n      <td>2.0</td>\n      <td>5.0</td>\n      <td>4.0</td>\n      <td>1.816667</td>\n      <td>-166.0</td>\n      <td>166.0</td>\n      <td>5.0</td>\n      <td>10.0</td>\n      <td>3.0</td>\n    </tr>\n    <tr>\n      <th>7282</th>\n      <td>281.866667</td>\n      <td>5</td>\n      <td>10</td>\n      <td>333</td>\n      <td>2</td>\n      <td>2</td>\n      <td>5</td>\n      <td>4</td>\n      <td>1</td>\n      <td>1</td>\n      <td>...</td>\n      <td>2.0</td>\n      <td>2.0</td>\n      <td>5.0</td>\n      <td>4.0</td>\n      <td>2.350000</td>\n      <td>-166.0</td>\n      <td>166.0</td>\n      <td>5.0</td>\n      <td>10.0</td>\n      <td>4.0</td>\n    </tr>\n    <tr>\n      <th>7283</th>\n      <td>282.450000</td>\n      <td>5</td>\n      <td>10</td>\n      <td>334</td>\n      <td>2</td>\n      <td>2</td>\n      <td>5</td>\n      <td>4</td>\n      <td>1</td>\n      <td>1</td>\n      <td>...</td>\n      <td>2.0</td>\n      <td>2.0</td>\n      <td>5.0</td>\n      <td>4.0</td>\n      <td>2.933333</td>\n      <td>-167.0</td>\n      <td>167.0</td>\n      <td>5.0</td>\n      <td>10.0</td>\n      <td>5.0</td>\n    </tr>\n  </tbody>\n</table>\n<p>6519 rows × 61 columns</p>\n</div>"
     },
     "execution_count": 120,
     "metadata": {},
     "output_type": "execute_result"
    }
   ],
   "source": [
    "X_train"
   ],
   "metadata": {
    "collapsed": false,
    "ExecuteTime": {
     "end_time": "2024-02-05T18:35:14.975715500Z",
     "start_time": "2024-02-05T18:35:14.959818200Z"
    }
   },
   "id": "67f2df77d32eb9ef",
   "execution_count": 120
  },
  {
   "cell_type": "code",
   "outputs": [],
   "source": [],
   "metadata": {
    "collapsed": false,
    "ExecuteTime": {
     "end_time": "2024-02-05T18:35:14.976720700Z",
     "start_time": "2024-02-05T18:35:14.975212Z"
    }
   },
   "id": "eda0dcb505b300cc",
   "execution_count": 120
  }
 ],
 "metadata": {
  "kernelspec": {
   "display_name": "Python 3",
   "language": "python",
   "name": "python3"
  },
  "language_info": {
   "codemirror_mode": {
    "name": "ipython",
    "version": 2
   },
   "file_extension": ".py",
   "mimetype": "text/x-python",
   "name": "python",
   "nbconvert_exporter": "python",
   "pygments_lexer": "ipython2",
   "version": "2.7.6"
  }
 },
 "nbformat": 4,
 "nbformat_minor": 5
}
