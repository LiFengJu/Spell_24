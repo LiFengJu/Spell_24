{
 "cells": [
  {
   "cell_type": "code",
   "id": "initial_id",
   "metadata": {
    "collapsed": true,
    "ExecuteTime": {
     "end_time": "2024-11-06T12:56:40.616980Z",
     "start_time": "2024-11-06T12:56:40.610787Z"
    }
   },
   "source": [
    "from collections import Counter\n",
    "def cut_list(list1, list2):\n",
    "    counter1 = Counter(list1)\n",
    "    counter2 = Counter(list2)\n",
    "    return list((counter1 - counter2).elements())\n",
    "\n",
    "list1 = [1 ,2, 3 ,4 ,5 ,6 ,7, 8, 9 ,10, 10]\n",
    "list2 = [1 ,2, 3 ,4 ,5 ,6 ,7, 8, 9 ,10,10]\n",
    "print(len(cut_list(list1, list2)))"
   ],
   "outputs": [
    {
     "name": "stdout",
     "output_type": "stream",
     "text": [
      "0\n"
     ]
    }
   ],
   "execution_count": 30
  },
  {
   "metadata": {
    "ExecuteTime": {
     "end_time": "2024-11-06T12:53:55.206050Z",
     "start_time": "2024-11-06T12:53:55.199189Z"
    }
   },
   "cell_type": "code",
   "source": [
    "\n",
    "\n"
   ],
   "id": "9019dd1001c3346c",
   "outputs": [
    {
     "name": "stdout",
     "output_type": "stream",
     "text": [
      "[10]\n"
     ]
    }
   ],
   "execution_count": 27
  }
 ],
 "metadata": {
  "kernelspec": {
   "display_name": "Python 3",
   "language": "python",
   "name": "python3"
  },
  "language_info": {
   "codemirror_mode": {
    "name": "ipython",
    "version": 2
   },
   "file_extension": ".py",
   "mimetype": "text/x-python",
   "name": "python",
   "nbconvert_exporter": "python",
   "pygments_lexer": "ipython2",
   "version": "2.7.6"
  }
 },
 "nbformat": 4,
 "nbformat_minor": 5
}
