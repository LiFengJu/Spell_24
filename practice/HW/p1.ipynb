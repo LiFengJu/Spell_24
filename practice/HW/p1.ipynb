{
 "cells": [
  {
   "metadata": {
    "ExecuteTime": {
     "end_time": "2024-11-06T11:30:21.948979Z",
     "start_time": "2024-11-06T11:30:21.940336Z"
    }
   },
   "cell_type": "code",
   "source": [
    "class Graph:\n",
    "    def __init__(self, vertices):\n",
    "        self.V = vertices\n",
    "        self.graph = [[] for _ in range(vertices)]\n",
    "        self.visited = [False] * vertices\n",
    "\n",
    "    def add_edge(self, u, v):\n",
    "        self.graph[u].append(v)\n",
    "        self.graph[v].append(u)\n",
    "\n",
    "    def dfs(self, u):\n",
    "        self.visited[u] = True\n",
    "        include_u = 1\n",
    "        exclude_u = 0\n",
    "\n",
    "        for v in self.graph[u]:\n",
    "            if not self.visited[v]:\n",
    "                include_v, exclude_v = self.dfs(v)\n",
    "                include_u += min(include_v, exclude_v)\n",
    "                exclude_u += include_v\n",
    "\n",
    "        return include_u, exclude_u\n",
    "\n",
    "    def min_vertex_cover(self):\n",
    "        include_root, exclude_root = self.dfs(0)\n",
    "        return min(include_root, exclude_root)\n",
    "\n",
    "def func():\n",
    "    n = int(input())\n",
    "    g = Graph(n)\n",
    "    dict = {}\n",
    "    for i in range(n):\n",
    "        temp = input()\n",
    "        a = int(temp[0])\n",
    "        B =temp[5:].split()\n",
    "        B = [int(i) for i in B]\n",
    "        if B:\n",
    "            for j in B:\n",
    "                g.add_edge(a,j)\n",
    "    print(g.min_vertex_cover())\n",
    "\n",
    "if __name__ == \"__main__\":\n",
    "    func()\n"
   ],
   "id": "ac43b26012a6cdb2",
   "outputs": [
    {
     "name": "stdout",
     "output_type": "stream",
     "text": [
      "['2', '1']\n"
     ]
    }
   ],
   "execution_count": 5
  },
  {
   "metadata": {
    "ExecuteTime": {
     "end_time": "2024-11-06T12:11:40.953585Z",
     "start_time": "2024-11-06T12:11:40.946276Z"
    }
   },
   "cell_type": "code",
   "source": [
    "def max_sum_consecutive_elements_circular(lst, x):\n",
    "    if len(lst) < x:\n",
    "        return None  # Not enough elements in the list\n",
    "\n",
    "    n = len(lst)\n",
    "    max_sum = current_sum = sum(lst[:x])\n",
    "\n",
    "    for i in range(1, n):\n",
    "        current_sum = current_sum - lst[i - 1] + lst[(i + x - 1) % n]\n",
    "        max_sum = max(max_sum, current_sum)\n",
    "\n",
    "    return max_sum\n",
    "\n",
    "# Example usage\n",
    "lst = [2, 1, 2, 3, 2]\n",
    "x = 2\n",
    "print(max_sum_consecutive_elements_circular(lst, x))  # Output: 5 (2+3)"
   ],
   "id": "73a24e7dd47cea53",
   "outputs": [
    {
     "name": "stdout",
     "output_type": "stream",
     "text": [
      "5\n"
     ]
    }
   ],
   "execution_count": 17
  }
 ],
 "metadata": {
  "kernelspec": {
   "display_name": "Python 3",
   "language": "python",
   "name": "python3"
  },
  "language_info": {
   "codemirror_mode": {
    "name": "ipython",
    "version": 2
   },
   "file_extension": ".py",
   "mimetype": "text/x-python",
   "name": "python",
   "nbconvert_exporter": "python",
   "pygments_lexer": "ipython2",
   "version": "2.7.6"
  }
 },
 "nbformat": 4,
 "nbformat_minor": 5
}
