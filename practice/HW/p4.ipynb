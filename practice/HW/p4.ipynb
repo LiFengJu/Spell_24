{
 "cells": [
  {
   "metadata": {},
   "cell_type": "markdown",
   "source": [
    "题目3：给定一个整数数组 nums ，找到一个具有最大和的连续子数组（子数组最少包含一个元素），返回其最大和。\n",
    "\n",
    "示例:\n",
    "\n",
    "输入: [-2,1,-3,4,-1,2,1,-5,4]\n",
    "输出: 6\n",
    "解释: 连续子数组 [4,-1,2,1] 的和最大，为 6。\n",
    "\n"
   ],
   "id": "a28e9ddba1fb6c3e"
  },
  {
   "cell_type": "code",
   "id": "initial_id",
   "metadata": {
    "collapsed": true,
    "ExecuteTime": {
     "end_time": "2024-11-14T07:31:00.403546Z",
     "start_time": "2024-11-14T07:31:00.398824Z"
    }
   },
   "source": [
    "nums = [-2,1,-3,4,-1,2,1,-5,4]\n",
    "\n",
    "def max_sum(list):\n",
    "    temp = []\n",
    "    for i in range(len(list)):\n",
    "        for j in range(i+1, len(list)+1):\n",
    "            temp.append(sum(list[i:j]))\n",
    "    return max(temp)\n",
    "\n",
    "max_sum(nums)\n"
   ],
   "outputs": [
    {
     "data": {
      "text/plain": [
       "6"
      ]
     },
     "execution_count": 8,
     "metadata": {},
     "output_type": "execute_result"
    }
   ],
   "execution_count": 8
  },
  {
   "metadata": {
    "ExecuteTime": {
     "end_time": "2024-11-14T07:33:11.606326Z",
     "start_time": "2024-11-14T07:33:11.601057Z"
    }
   },
   "cell_type": "code",
   "source": [
    "nums = [-2,1,-3,4,-1,2,1,-5,4]\n",
    "\n",
    "def dy_max_sum(list):\n",
    "    n = len(list)\n",
    "    dp = [0] * n\n",
    "    dp[0] = list[0]\n",
    "    for i in range(1, n):\n",
    "        dp[i] = max(dp[i-1]+list[i], list[i])\n",
    "    return max(dp)\n",
    "\n",
    "dy_max_sum(nums)"
   ],
   "id": "419771cb86e9195b",
   "outputs": [
    {
     "data": {
      "text/plain": [
       "6"
      ]
     },
     "execution_count": 9,
     "metadata": {},
     "output_type": "execute_result"
    }
   ],
   "execution_count": 9
  }
 ],
 "metadata": {
  "kernelspec": {
   "display_name": "Python 3",
   "language": "python",
   "name": "python3"
  },
  "language_info": {
   "codemirror_mode": {
    "name": "ipython",
    "version": 2
   },
   "file_extension": ".py",
   "mimetype": "text/x-python",
   "name": "python",
   "nbconvert_exporter": "python",
   "pygments_lexer": "ipython2",
   "version": "2.7.6"
  }
 },
 "nbformat": 4,
 "nbformat_minor": 5
}
