{
 "cells": [
  {
   "cell_type": "code",
   "execution_count": null,
   "id": "initial_id",
   "metadata": {
    "collapsed": true
   },
   "outputs": [],
   "source": [
    "class Graph:\n",
    "    def __init__(self, n):\n",
    "        self.n = n\n",
    "        self.adj = [[] for _ in range(n)]\n",
    "        self.dp = [[-1, -1] for _ in range(n)]\n",
    "        self.visited = [False] * n\n",
    "\n",
    "    def add_edge(self, u, v):\n",
    "        self.adj[u].append(v)\n",
    "        self.adj[v].append(u)\n",
    "\n",
    "    def dfs(self, u):\n",
    "        self.visited[u] = True\n",
    "        self.dp[u][0] = 0  # Not including this node\n",
    "        self.dp[u][1] = 1  # Including this node\n",
    "\n",
    "        for v in self.adj[u]:\n",
    "            if not self.visited[v]:\n",
    "                self.dfs(v)\n",
    "                self.dp[u][0] += self.dp[v][1]\n",
    "                self.dp[u][1] += min(self.dp[v][0], self.dp[v][1])\n",
    "\n",
    "    def min_vertex_cover(self):\n",
    "        self.dfs(0)\n",
    "        return min(self.dp[0][0], self.dp[0][1])\n",
    "\n",
    "def func():\n",
    "    n = int(input())\n",
    "    g = Graph(n)\n",
    "    for _ in range(n - 1):\n",
    "        u, v = map(int, input().split())\n",
    "        g.add_edge(u, v)\n",
    "    print(g.min_vertex_cover())\n",
    "\n",
    "if __name__ == \"__main__\":\n",
    "    func()"
   ]
  }
 ],
 "metadata": {
  "kernelspec": {
   "display_name": "Python 3",
   "language": "python",
   "name": "python3"
  },
  "language_info": {
   "codemirror_mode": {
    "name": "ipython",
    "version": 2
   },
   "file_extension": ".py",
   "mimetype": "text/x-python",
   "name": "python",
   "nbconvert_exporter": "python",
   "pygments_lexer": "ipython2",
   "version": "2.7.6"
  }
 },
 "nbformat": 4,
 "nbformat_minor": 5
}
