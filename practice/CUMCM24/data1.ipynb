{
 "cells": [
  {
   "cell_type": "code",
   "id": "initial_id",
   "metadata": {
    "collapsed": true,
    "ExecuteTime": {
     "end_time": "2024-09-06T16:02:20.390455Z",
     "start_time": "2024-09-06T16:02:19.909387Z"
    }
   },
   "source": "import pandas as pd",
   "outputs": [],
   "execution_count": 2
  },
  {
   "metadata": {
    "ExecuteTime": {
     "end_time": "2024-09-06T12:33:15.770061Z",
     "start_time": "2024-09-06T12:33:15.655808Z"
    }
   },
   "cell_type": "code",
   "source": [
    "info23 =pd.read_excel('附件2--.xlsx',sheet_name='2023年统计的相关数据', usecols=['作物编号','亩产量/斤','地块类型','种植成本/(元/亩)','销售单价/(元/斤)']) \n",
    "info23o = pd.read_excel('附件2--.xlsx',sheet_name='2023年的农作物种植情况',usecols=['作物编号','种植面积/亩','总产量']) #用23年每个作物的总产量表示其之后的期望销量\n",
    "infoJ = pd.read_excel('附件1.xlsx',sheet_name='乡村的现有耕地')\n"
   ],
   "id": "71592ee4f7dcc377",
   "outputs": [],
   "execution_count": 112
  },
  {
   "metadata": {
    "ExecuteTime": {
     "end_time": "2024-09-06T12:33:15.788515Z",
     "start_time": "2024-09-06T12:33:15.771065Z"
    }
   },
   "cell_type": "code",
   "source": [
    "#每个作物在不同地块的亩产量\n",
    "merged_df = pd.merge(info23, infoJ, on='地块类型', how='inner')\n",
    "AcreYield = merged_df.pivot_table(index='地块名称', columns='作物编号', values='亩产量/斤', fill_value=0)\n",
    "AcreYield.to_csv('data/AcreYield.csv') "
   ],
   "id": "2bda249b1e9f2cb6",
   "outputs": [],
   "execution_count": 113
  },
  {
   "metadata": {
    "ExecuteTime": {
     "end_time": "2024-09-06T12:33:15.801892Z",
     "start_time": "2024-09-06T12:33:15.788515Z"
    }
   },
   "cell_type": "code",
   "source": [
    "#每个作物在不同地块的种植成本\n",
    "PlantingCost = merged_df.pivot_table(index='地块名称', columns='作物编号', values='种植成本/(元/亩)', fill_value=0)\n",
    "PlantingCost.to_csv('data/PlantingCost.csv')"
   ],
   "id": "4ff107c01b4e40c9",
   "outputs": [],
   "execution_count": 114
  },
  {
   "metadata": {
    "ExecuteTime": {
     "end_time": "2024-09-06T12:33:15.813641Z",
     "start_time": "2024-09-06T12:33:15.801892Z"
    }
   },
   "cell_type": "code",
   "source": "info23",
   "id": "f61064de0b418a22",
   "outputs": [
    {
     "data": {
      "text/plain": [
       "     作物编号  地块类型  亩产量/斤  种植成本/(元/亩)  销售单价/(元/斤)\n",
       "0       1   平旱地    400         400        3.25\n",
       "1       2   平旱地    500         400        7.50\n",
       "2       3   平旱地    400         350        8.25\n",
       "3       4   平旱地    350         350        7.00\n",
       "4       5   平旱地    415         350        6.75\n",
       "..    ...   ...    ...         ...         ...\n",
       "120    30  智慧大棚   5000        2000        5.25\n",
       "121    31  智慧大棚   2000        1200        7.25\n",
       "122    32  智慧大棚  12000        5000        4.50\n",
       "123    33  智慧大棚   6000        2500        4.50\n",
       "124    34  智慧大棚   6600        1100        4.00\n",
       "\n",
       "[125 rows x 5 columns]"
      ],
      "text/html": [
       "<div>\n",
       "<style scoped>\n",
       "    .dataframe tbody tr th:only-of-type {\n",
       "        vertical-align: middle;\n",
       "    }\n",
       "\n",
       "    .dataframe tbody tr th {\n",
       "        vertical-align: top;\n",
       "    }\n",
       "\n",
       "    .dataframe thead th {\n",
       "        text-align: right;\n",
       "    }\n",
       "</style>\n",
       "<table border=\"1\" class=\"dataframe\">\n",
       "  <thead>\n",
       "    <tr style=\"text-align: right;\">\n",
       "      <th></th>\n",
       "      <th>作物编号</th>\n",
       "      <th>地块类型</th>\n",
       "      <th>亩产量/斤</th>\n",
       "      <th>种植成本/(元/亩)</th>\n",
       "      <th>销售单价/(元/斤)</th>\n",
       "    </tr>\n",
       "  </thead>\n",
       "  <tbody>\n",
       "    <tr>\n",
       "      <th>0</th>\n",
       "      <td>1</td>\n",
       "      <td>平旱地</td>\n",
       "      <td>400</td>\n",
       "      <td>400</td>\n",
       "      <td>3.25</td>\n",
       "    </tr>\n",
       "    <tr>\n",
       "      <th>1</th>\n",
       "      <td>2</td>\n",
       "      <td>平旱地</td>\n",
       "      <td>500</td>\n",
       "      <td>400</td>\n",
       "      <td>7.50</td>\n",
       "    </tr>\n",
       "    <tr>\n",
       "      <th>2</th>\n",
       "      <td>3</td>\n",
       "      <td>平旱地</td>\n",
       "      <td>400</td>\n",
       "      <td>350</td>\n",
       "      <td>8.25</td>\n",
       "    </tr>\n",
       "    <tr>\n",
       "      <th>3</th>\n",
       "      <td>4</td>\n",
       "      <td>平旱地</td>\n",
       "      <td>350</td>\n",
       "      <td>350</td>\n",
       "      <td>7.00</td>\n",
       "    </tr>\n",
       "    <tr>\n",
       "      <th>4</th>\n",
       "      <td>5</td>\n",
       "      <td>平旱地</td>\n",
       "      <td>415</td>\n",
       "      <td>350</td>\n",
       "      <td>6.75</td>\n",
       "    </tr>\n",
       "    <tr>\n",
       "      <th>...</th>\n",
       "      <td>...</td>\n",
       "      <td>...</td>\n",
       "      <td>...</td>\n",
       "      <td>...</td>\n",
       "      <td>...</td>\n",
       "    </tr>\n",
       "    <tr>\n",
       "      <th>120</th>\n",
       "      <td>30</td>\n",
       "      <td>智慧大棚</td>\n",
       "      <td>5000</td>\n",
       "      <td>2000</td>\n",
       "      <td>5.25</td>\n",
       "    </tr>\n",
       "    <tr>\n",
       "      <th>121</th>\n",
       "      <td>31</td>\n",
       "      <td>智慧大棚</td>\n",
       "      <td>2000</td>\n",
       "      <td>1200</td>\n",
       "      <td>7.25</td>\n",
       "    </tr>\n",
       "    <tr>\n",
       "      <th>122</th>\n",
       "      <td>32</td>\n",
       "      <td>智慧大棚</td>\n",
       "      <td>12000</td>\n",
       "      <td>5000</td>\n",
       "      <td>4.50</td>\n",
       "    </tr>\n",
       "    <tr>\n",
       "      <th>123</th>\n",
       "      <td>33</td>\n",
       "      <td>智慧大棚</td>\n",
       "      <td>6000</td>\n",
       "      <td>2500</td>\n",
       "      <td>4.50</td>\n",
       "    </tr>\n",
       "    <tr>\n",
       "      <th>124</th>\n",
       "      <td>34</td>\n",
       "      <td>智慧大棚</td>\n",
       "      <td>6600</td>\n",
       "      <td>1100</td>\n",
       "      <td>4.00</td>\n",
       "    </tr>\n",
       "  </tbody>\n",
       "</table>\n",
       "<p>125 rows × 5 columns</p>\n",
       "</div>"
      ]
     },
     "execution_count": 115,
     "metadata": {},
     "output_type": "execute_result"
    }
   ],
   "execution_count": 115
  },
  {
   "metadata": {
    "ExecuteTime": {
     "end_time": "2024-09-06T12:52:25.989882Z",
     "start_time": "2024-09-06T12:52:25.982463Z"
    }
   },
   "cell_type": "code",
   "source": [
    "unitPrice = info23.drop_duplicates(subset='作物编号', keep='first')[['作物编号','销售单价/(元/斤)']]\n",
    "unitPrice.to_csv('data/unitPrice.csv',index=False)\n"
   ],
   "id": "2ff9f23917a5218e",
   "outputs": [],
   "execution_count": 121
  },
  {
   "metadata": {
    "ExecuteTime": {
     "end_time": "2024-09-06T12:33:15.829415Z",
     "start_time": "2024-09-06T12:33:15.822014Z"
    }
   },
   "cell_type": "code",
   "source": "info23o[['作物编号','总产量']].groupby('作物编号').sum().to_csv('data/expectedSales.csv')",
   "id": "3d0ee863b07203f3",
   "outputs": [],
   "execution_count": 117
  },
  {
   "metadata": {
    "ExecuteTime": {
     "end_time": "2024-09-06T12:56:09.771237Z",
     "start_time": "2024-09-06T12:56:09.762630Z"
    }
   },
   "cell_type": "code",
   "source": "infoJ[['地块名称','地块面积/亩']].to_csv('data/landArea.csv',index=False)",
   "id": "eebcf02becbbd16a",
   "outputs": [],
   "execution_count": 124
  },
  {
   "metadata": {
    "ExecuteTime": {
     "end_time": "2024-09-06T17:28:49.884828Z",
     "start_time": "2024-09-06T17:28:49.758579Z"
    }
   },
   "cell_type": "code",
   "source": [
    "infoOutput1 = pd.read_excel('data/23年种植情况.xlsx',sheet_name='第一季')\n",
    "planting1 = infoOutput1.pivot_table(index='地块编号', columns='作物编号', values='种植面积/亩', fill_value=0)\n",
    "planting1.to_csv('data/planting1.csv')\n",
    "\n",
    "infoOutput2 = pd.read_excel('data/23年种植情况.xlsx',sheet_name='第二季')\n",
    "planting2 = infoOutput2.pivot_table(index='地块编号', columns='作物编号', values='种植面积/亩', fill_value=0)\n",
    "planting2.to_csv('data/planting2.csv')"
   ],
   "id": "8a423f19e18be0da",
   "outputs": [],
   "execution_count": 6
  }
 ],
 "metadata": {
  "kernelspec": {
   "display_name": "Python 3",
   "language": "python",
   "name": "python3"
  },
  "language_info": {
   "codemirror_mode": {
    "name": "ipython",
    "version": 2
   },
   "file_extension": ".py",
   "mimetype": "text/x-python",
   "name": "python",
   "nbconvert_exporter": "python",
   "pygments_lexer": "ipython2",
   "version": "2.7.6"
  }
 },
 "nbformat": 4,
 "nbformat_minor": 5
}
