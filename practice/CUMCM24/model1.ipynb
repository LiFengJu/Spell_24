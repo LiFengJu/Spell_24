{
 "cells": [
  {
   "metadata": {},
   "cell_type": "markdown",
   "source": "# 导入相关库、数据读取、集合与参数定义、决策变量定义",
   "id": "712550dca3ed6c36"
  },
  {
   "cell_type": "code",
   "id": "initial_id",
   "metadata": {
    "collapsed": true,
    "ExecuteTime": {
     "end_time": "2024-09-08T10:10:27.398908Z",
     "start_time": "2024-09-08T10:10:27.370495Z"
    }
   },
   "source": [
    "import pandas as pd\n",
    "import gurobipy as gp\n",
    "import numpy as np\n",
    "model = gp.Model(\"crop_planting\")\n",
    "acre_yield = pd.read_csv('data/AcreYield.csv',header=None)                         # 每亩产量\n",
    "expected_sales = pd.read_csv('data/expectedSales.csv',encoding='gbk')  # 预期销售量\n",
    "planting_cost = pd.read_csv('data/PlantingCost.csv',header=None)                   # 种植成本\n",
    "unit_price = pd.read_csv('data/unitPrice.csv',encoding='gbk')          # 销售价格\n",
    "land_area = pd.read_csv('data/landArea.csv',encoding='gbk')            # 地块面积"
   ],
   "outputs": [],
   "execution_count": 24
  },
  {
   "metadata": {
    "ExecuteTime": {
     "end_time": "2024-09-08T10:10:27.540331Z",
     "start_time": "2024-09-08T10:10:27.527421Z"
    }
   },
   "cell_type": "code",
   "source": [
    "# 农作物集合、地块集合、年份集合\n",
    "I = range(0,41)   # 农作物集合\n",
    "J = range(0,54)  # 地块集合\n",
    "T = range(0,7)   # 年份集合 (24 - 30)"
   ],
   "id": "5685a98bf7ff44a1",
   "outputs": [],
   "execution_count": 25
  },
  {
   "metadata": {
    "ExecuteTime": {
     "end_time": "2024-09-08T10:10:27.565415Z",
     "start_time": "2024-09-08T10:10:27.558982Z"
    }
   },
   "cell_type": "code",
   "source": [
    "# 地块子集 (平旱地, 梯田等)\n",
    "J1 = range(0,6)\n",
    "J2 = range(6,20)\n",
    "J3 = range(20,26)\n",
    "J4 =range(26,34)\n",
    "J5 = range(34,50)\n",
    "J6 = range(50,54)\n",
    "#农作物子集 (粮食, 蔬菜等)\n",
    "I1 = range(0,15)\n",
    "i_16 = 15\n",
    "I2 = range(16,34)\n",
    "I3 = range(34,37)\n",
    "I4 =range(37,41)\n",
    "I5 = [0,1,2,3,4,16,17,18]\n"
   ],
   "id": "337ce874dd18c590",
   "outputs": [],
   "execution_count": 26
  },
  {
   "metadata": {
    "ExecuteTime": {
     "end_time": "2024-09-08T10:10:27.665687Z",
     "start_time": "2024-09-08T10:10:27.574933Z"
    }
   },
   "cell_type": "code",
   "source": [
    "# 读取2023年的种植情况\n",
    "x_0 = pd.read_csv('data/planting1.csv', header=None)  # 第一季\n",
    "y_0 = pd.read_csv('data/planting2.csv', header=None)  # 第二季\n",
    "# 决策变量：x_{tij} 和 y_{tij} (第 t 年第 1、2 季度作物 i 在地块 j 的种植面积)\n",
    "x = model.addVars(T, I, J, name=\"x\", lb=0)\n",
    "y = model.addVars(T, I, J, name=\"y\", lb=0)\n",
    "\n",
    "# 辅助变量 z_1i 和 z_2i 用于定义销售量约束\n",
    "z_1 = model.addVars(T, I, name=\"z_1\", lb=0)\n",
    "z_2 = model.addVars(T, I, name=\"z_2\", lb=0)"
   ],
   "id": "9d4f9cd097f4ceca",
   "outputs": [],
   "execution_count": 27
  },
  {
   "metadata": {},
   "cell_type": "markdown",
   "source": [
    "# 约束条件\n",
    "**1. 平旱地、梯田和山坡地适宜每年种植一季粮食类作物(除了水稻):**\n",
    "\n",
    "    a. 平旱地、梯田和山坡地每年第一季不能种除粮食(除水稻)之外的其他农作物：\n",
    "    $$x_{tij} = 0,\\quad \\forall i \\in \\complement_II_1,\\quad \\forall j \\in J_1\\cup J_2\\cup J_3,\\quad \\forall t \\in T$$"
   ],
   "id": "62219ad98ca38202"
  },
  {
   "metadata": {
    "ExecuteTime": {
     "end_time": "2024-09-08T10:10:27.708280Z",
     "start_time": "2024-09-08T10:10:27.665687Z"
    }
   },
   "cell_type": "code",
   "source": [
    "for t in T:\n",
    "    for j in list(J1) + list(J2) + list(J3):  # 平旱地、梯田、山坡地\n",
    "        for i in I:  # 作物集合\n",
    "            if i not in I1:  # 非粮食类作物\n",
    "                model.addConstr(x[t, i, j] == 0, name=f\"constraint1_a_{t}_{i}_{j}\")"
   ],
   "id": "984da06d23f90f6f",
   "outputs": [],
   "execution_count": 28
  },
  {
   "metadata": {},
   "cell_type": "markdown",
   "source": [
    "    b. 平旱地、梯田和山坡地每年第二季不种任何农作物：\n",
    "$$y_{tij} = 0,\\quad \\forall i \\in I,\\quad \\forall j\\in J_1\\cup J_2\\cup J_3,\\quad \\forall t\\in T$$    "
   ],
   "id": "e2fad3281627d82a"
  },
  {
   "metadata": {
    "ExecuteTime": {
     "end_time": "2024-09-08T10:10:27.766489Z",
     "start_time": "2024-09-08T10:10:27.708280Z"
    }
   },
   "cell_type": "code",
   "source": [
    "for t in T:\n",
    "    for j in list(J1) + list(J2) + list(J3):  # 平旱地、梯田、山坡地\n",
    "        for i in I:  # 作物集合\n",
    "            model.addConstr(y[t, i, j] == 0, name=f\"constraint1_b_{t}_{i}_{j}\")"
   ],
   "id": "93d1afab1c2ebefc",
   "outputs": [],
   "execution_count": 29
  },
  {
   "metadata": {},
   "cell_type": "markdown",
   "source": [
    "**2. 水浇地适宜每年种植一季水稻或第一季种蔬菜 （A）第二季度种蔬菜(B)：**\n",
    "\n",
    "    a. 水浇地每年第二季不能种除蔬菜（B）之外的其他农作物：\n",
    "        $$y_{tij} = 0,\\quad \\forall i\\in \\complement_II_3,\\quad \\forall j \\in J_4,\\quad \\forall t\\in T$$"
   ],
   "id": "3d10242fce6a851c"
  },
  {
   "metadata": {
    "ExecuteTime": {
     "end_time": "2024-09-08T10:10:27.859018Z",
     "start_time": "2024-09-08T10:10:27.766489Z"
    }
   },
   "cell_type": "code",
   "source": [
    "for t in T:\n",
    "    for j in J4:  # 水浇地\n",
    "        for i in I:  # 作物集合\n",
    "            if i not in I3:  # 非蔬菜类(B)作物\n",
    "                model.addConstr(y[t, i, j] == 0, name=f\"constraint2_a_{t}_{i}_{j}\")"
   ],
   "id": "243e8529d376435f",
   "outputs": [],
   "execution_count": 30
  },
  {
   "metadata": {},
   "cell_type": "markdown",
   "source": [
    "    b.水浇地每年第二季只能在蔬菜(B)的三种蔬菜(大白菜、白萝卜、红萝卜)中选一个种:\n",
    "$$\\left\\{\\begin{matrix}\n",
    "y_{t35j}y_{t36j}=0\n",
    " \\\\\n",
    "y_{t35j}y_{t37j}=0\n",
    " \\\\\n",
    "y_{t36j}y_{t37j}=0\n",
    "\\end{matrix}\\right.,\\quad \\forall t\\in T,\\forall j\\in J$$"
   ],
   "id": "b682597727d30ae5"
  },
  {
   "metadata": {
    "ExecuteTime": {
     "end_time": "2024-09-08T10:10:27.866573Z",
     "start_time": "2024-09-08T10:10:27.859018Z"
    }
   },
   "cell_type": "code",
   "source": [
    "for t in T:\n",
    "    for j in J4:  # 水浇地\n",
    "        model.addConstr(y[t, 34, j] * y[t, 35, j] == 0, name=f\"constraint2_b1_{t}_35_36_{j}\")\n",
    "        model.addConstr(y[t, 35, j] * y[t, 36, j] == 0, name=f\"constraint2_b2_{t}_35_37_{j}\")\n",
    "        model.addConstr(y[t, 35, j] * y[t, 36, j] == 0, name=f\"constraint2_b3_{t}_36_37_{j}\")"
   ],
   "id": "f76fc997812a3b3a",
   "outputs": [],
   "execution_count": 31
  },
  {
   "metadata": {},
   "cell_type": "markdown",
   "source": [
    "    c. 水浇地每年第一季不能种植除水稻和蔬菜（A）之外的其他作物：\n",
    "        $$x_{tij}=0,\\quad \\forall i \\in \\complement_I(i_{16}\\cup I_2),\\quad \\forall J \\in J_4,\\quad \\forall t \\in T$$"
   ],
   "id": "72b0d7b0bd7e9f07"
  },
  {
   "metadata": {
    "ExecuteTime": {
     "end_time": "2024-09-08T10:10:27.880601Z",
     "start_time": "2024-09-08T10:10:27.866573Z"
    }
   },
   "cell_type": "code",
   "source": [
    "temp1 = [i_16] + list(I2)\n",
    "for t in T:\n",
    "    for j in J4:  # 水浇地\n",
    "        for i in I:  # 作物集合\n",
    "            if i not in temp1:  # 非水稻和蔬菜(A)类作物\n",
    "                model.addConstr(x[t, i, j] == 0, name=f\"constraint2_c_{t}_{i}_{j}\")"
   ],
   "id": "19b4073e3b5085c5",
   "outputs": [],
   "execution_count": 32
  },
  {
   "metadata": {},
   "cell_type": "markdown",
   "source": [
    "    d.水浇地每年在第一季度要么种水稻要么种蔬菜，第一季度如果种了水稻，第二季度就不能种蔬菜：\n",
    "        $$x_{ti_{16}j}(\\sum_{i_a\\in I2}x_{ti_aj}+\\sum_{i_b\\in I3}y_{ti_bj})=0,\\quad \\forall j \\in J_4,\\quad \\forall t \\in T$$"
   ],
   "id": "12d37858d3e6b70"
  },
  {
   "metadata": {
    "ExecuteTime": {
     "end_time": "2024-09-08T10:10:27.887699Z",
     "start_time": "2024-09-08T10:10:27.881843Z"
    }
   },
   "cell_type": "code",
   "source": [
    "for t in T:\n",
    "    for j in J4:  # 水浇地\n",
    "        # 确保水稻和蔬菜不能同时种植\n",
    "        model.addConstr(x[t, 16, j] * (gp.quicksum(x[t, i, j] for i in I2) + gp.quicksum(y[t, i, j] for i in I3)) == 0,\n",
    "                        name=f\"constraint_rice_or_vegetables_{t}_{j}\")"
   ],
   "id": "30c119a1a26d5750",
   "outputs": [],
   "execution_count": 33
  },
  {
   "metadata": {},
   "cell_type": "markdown",
   "source": [
    "**3. 普通大棚适宜每年第一季种蔬菜(A),第二季食用菌：**\n",
    "\n",
    "    a.普通大棚每年第一季不能种除蔬菜(A)之外的其他作物：\n",
    "        $$x_{tij}=0,\\quad \\forall i \\in \\complement_II_2,\\quad \\forall j\\in J_5,\\quad \\forall t\\in T$$"
   ],
   "id": "e289051134175029"
  },
  {
   "metadata": {
    "ExecuteTime": {
     "end_time": "2024-09-08T10:10:27.916955Z",
     "start_time": "2024-09-08T10:10:27.887699Z"
    }
   },
   "cell_type": "code",
   "source": [
    "for t in T:\n",
    "    for j in J5:  # 普通大棚\n",
    "        for i in I:  # 作物集合\n",
    "            if i not in I2:  # 非蔬菜类(A)作物\n",
    "                model.addConstr(x[t, i, j] == 0, name=f\"constraint3_a_{t}_{i}_{j}\")"
   ],
   "id": "6b2e90e7389b9295",
   "outputs": [],
   "execution_count": 34
  },
  {
   "metadata": {},
   "cell_type": "markdown",
   "source": [
    "    b.普通大棚每年第二季不能种除食用菌之外的其他作物：\n",
    "        $$y_{tij}=0,\\quad \\forall i \\in \\complement_II_4,\\quad \\forall j\\in J_5,\\quad \\forall t\\in T$$"
   ],
   "id": "84ea2f4b38dc7286"
  },
  {
   "metadata": {
    "ExecuteTime": {
     "end_time": "2024-09-08T10:10:27.949941Z",
     "start_time": "2024-09-08T10:10:27.916955Z"
    }
   },
   "cell_type": "code",
   "source": [
    "for t in T:\n",
    "    for j in J5:  # 普通大棚\n",
    "        for i in I:  # 作物集合\n",
    "            if i not in I4:  # 非食用菌类作物\n",
    "                model.addConstr(y[t, i, j] == 0, name=f\"constraint3_b_{t}_{i}_{j}\")"
   ],
   "id": "4dda95309cd3f893",
   "outputs": [],
   "execution_count": 35
  },
  {
   "metadata": {},
   "cell_type": "markdown",
   "source": [
    "**4. 智慧大棚适宜每年种植两季蔬菜(A):**\n",
    "    \n",
    "    a.智慧大棚每年第一季不能种除蔬菜(A)之外的其他作物：\n",
    "            $$x_{tij}=0,\\quad \\forall i \\in \\complement_II_2,\\quad \\forall j\\in J_6,\\quad \\forall t\\in T$$"
   ],
   "id": "e86dfc87a77e907c"
  },
  {
   "metadata": {
    "ExecuteTime": {
     "end_time": "2024-09-08T10:10:27.959874Z",
     "start_time": "2024-09-08T10:10:27.949941Z"
    }
   },
   "cell_type": "code",
   "source": [
    "for t in T:\n",
    "    for j in J6:  # 智慧大棚\n",
    "        for i in I:  # 作物集合\n",
    "            if i not in I2:  # 非蔬菜类(A)作物\n",
    "                model.addConstr(x[t, i, j] == 0, name=f\"constraint4_a_{t}_{i}_{j}\")"
   ],
   "id": "9b5518376f7e8211",
   "outputs": [],
   "execution_count": 36
  },
  {
   "metadata": {},
   "cell_type": "markdown",
   "source": [
    "    b.智慧大棚每年第二季不能种除蔬菜(A)之外的其他作物：\n",
    "        $$y_{tij}=0,\\quad \\forall i \\in \\complement_II_2,\\quad \\forall j\\in J_6,\\quad \\forall t\\in T$$"
   ],
   "id": "331d963218d03c1d"
  },
  {
   "metadata": {
    "ExecuteTime": {
     "end_time": "2024-09-08T10:10:27.969529Z",
     "start_time": "2024-09-08T10:10:27.959874Z"
    }
   },
   "cell_type": "code",
   "source": [
    "for t in T:\n",
    "    for j in J6:  # 智慧大棚\n",
    "        for i in I:  # 作物集合\n",
    "            if i not in I2:  # 非蔬菜类(A)作物\n",
    "                model.addConstr(y[t, i, j] == 0, name=f\"constraint4_b_{t}_{i}_{j}\")"
   ],
   "id": "9b70f492c066b0c9",
   "outputs": [],
   "execution_count": 37
  },
  {
   "metadata": {},
   "cell_type": "markdown",
   "source": [
    "**5. 每种作物在同一地块（含大棚）不能连续重茬种植：**\n",
    "    \n",
    "    a.23年的种植情况对24年的影响:\n",
    "    $$\\left\\{\\begin{matrix}\n",
    "    x_{0ij}x_{1ij}=0\n",
    " \\\\\n",
    "    y_{0ij}y_{1ij}=0\n",
    "\\end{matrix}\\right.,\\quad \\forall i\\in I,\\quad \\forall j\\in J$$\n",
    "\n",
    "$$\n",
    "\\left\\{\\begin{matrix}x_{0ij}y_{1ij}=0 \n",
    "\\\\\n",
    "y_{0ij}x_{1ij}=0\\end{matrix}\\right.,\\quad \\forall i\\in I,\\quad \\forall j\\in J6,$$"
   ],
   "id": "ff161f5858b4e121"
  },
  {
   "metadata": {
    "ExecuteTime": {
     "end_time": "2024-09-08T10:10:28.368771Z",
     "start_time": "2024-09-08T10:10:27.969529Z"
    }
   },
   "cell_type": "code",
   "source": [
    "for j in J:  # 地块\n",
    "    for i in I:  # 作物\n",
    "        model.addConstr(x_0[i][j] * x[0, i, j] == 0, name=f\"constraint_rotation_2023_1_{i}_{j}\")\n",
    "        model.addConstr(y_0[i][j] * y[0, i, j] == 0, name=f\"constraint_rotation_2023_2_{i}_{j}\")\n",
    "for j in J6:\n",
    "    for i in I:\n",
    "        model.addConstr(y_0[i][j] * x[0, i, j] == 0, name=f\"constraint_rotation_2023_3_{i}_{j}\")\n",
    "        model.addConstr(x_0[i][j] * y[0, i, j] == 0, name=f\"constraint_rotation_2023_4_{i}_{j}\")"
   ],
   "id": "d979efc40d482f88",
   "outputs": [],
   "execution_count": 38
  },
  {
   "metadata": {},
   "cell_type": "markdown",
   "source": [
    "    b.对于除智慧大棚的地块：\n",
    "    $$\\left\\{\\begin{matrix}x_{tij}x_{(t+1)ij}=0\n",
    "    \\\\\n",
    "    y_{tij}y_{(t+1)ij}=0\n",
    "    \\end{matrix}\\right.,\\quad \\forall i\\in I,\\quad \\forall j\\in \\complement_JJ_6,\\quad \\forall t\\in \\complement_Tt_7$$"
   ],
   "id": "4113c1c37e1a4ee6"
  },
  {
   "metadata": {},
   "cell_type": "markdown",
   "source": [
    "    c.对于智慧大棚：\n",
    "    $$\\left\\{\\begin{matrix}\n",
    "x_{tij}(y_{tij}+x_{(t+1)ij}+y_{(t+1)ij})=0 \n",
    "\\\\\n",
    "y_{tij}(x_{tij}+x_{(t+1)ij}+x_{(t+1)ij})=0 \n",
    "\\\\\n",
    "x_{(t+1)ij}(x_{tij}+y_{tij}+y_{(t+1)ij})=0 \n",
    "\\\\\n",
    "y_{(t+1)ij}(x_{tij}+y_{tij}+x_{(t+1)ij})=0\n",
    "\\end{matrix}\\right.,\\quad \\forall i\\in I,\\quad \\forall j\\in J6,\\quad \\forall t\\in 0\\cup \\complement_Tt_7$$\n",
    "    "
   ],
   "id": "1f76b0e0f2bf2172"
  },
  {
   "metadata": {
    "ExecuteTime": {
     "end_time": "2024-09-08T10:10:28.793470Z",
     "start_time": "2024-09-08T10:10:28.368771Z"
    }
   },
   "cell_type": "code",
   "source": [
    "for t in range(0,6):\n",
    "    for j in J:\n",
    "        for i in I:\n",
    "            if j not in J6:\n",
    "                model.addConstr(x[t, i, j]*x[t+1, i, j] == 0,name=f\"constraint_rotationX_t_{t}_i_{i}_j_{j}\")\n",
    "                model.addConstr(y[t, i, j]*y[t+1, i, j] == 0,name=f\"constraint_rotationY_t_{t}_i_{i}_j_{j}\")\n",
    "            else:\n",
    "                model.addConstr(x[t, i, j]*(y[t, i, j]+x[t+1, i, j]+y[t+1, i, j]) == 0,name=f\"constraint_rotationX_t_{t}_i_{i}_j_{j}\")\n",
    "                model.addConstr(y[t, i, j]*(x[t, i, j]+x[t+1, i, j]+y[t+1, i, j]) == 0,name=f\"constraint_rotationY_t_{t}_i_{i}_j_{j}\")\n",
    "                model.addConstr(x[t+1, i, j]*(x[t, i, j]+y[t, i, j]+y[t+1, i, j]) == 0,name=f\"constraint_rotationX_t_{t}_i_{i}_j_{j}\")\n",
    "                model.addConstr(y[t+1, i, j]*(x[t, i, j]+y[t, i, j]+x[t+1, i, j]) == 0,name=f\"constraint_rotationY_t_{t}_i_{i}_j_{j}\")"
   ],
   "id": "3c23c192d9bbe675",
   "outputs": [],
   "execution_count": 39
  },
  {
   "metadata": {},
   "cell_type": "markdown",
   "source": "",
   "id": "b7ddc1a42416dd02"
  },
  {
   "metadata": {},
   "cell_type": "markdown",
   "source": [
    "**6. 每个地块（含大棚）的所有土地三年内至少种植一次豆类作物：**\n",
    "\n",
    "    a.23年的种植情况对24、25年的影响:\n",
    "    $$\\sum_{i\\in I_5}\\left\\{x_{0ij}+y_{0ij}+x_{(1)ij}+y_{(1)ij}+x_{(2)ij}+y_{(2)ij}\\right\\}\\ge s_j,\\quad \\forall j\\in J$$"
   ],
   "id": "190d726e2899f80"
  },
  {
   "metadata": {
    "ExecuteTime": {
     "end_time": "2024-09-08T10:10:28.819653Z",
     "start_time": "2024-09-08T10:10:28.793470Z"
    }
   },
   "cell_type": "code",
   "source": [
    "for j in J:\n",
    "    model.addConstr(\n",
    "        gp.quicksum(x_0[i][j] + y_0[i][j] + x[1, i, j] + y[1, i, j] + x[2, i, j] + y[2, i, j] for i in I5) >= land_area.iloc[j,1],\n",
    "        name=f\"three_year_bean_2023_to_2025_j_{j}\"\n",
    "    )"
   ],
   "id": "893b0fa9911720c7",
   "outputs": [],
   "execution_count": 40
  },
  {
   "metadata": {},
   "cell_type": "markdown",
   "source": [
    "    b.24-30年：\n",
    "    $$\\sum_{i\\in I_5}\\left\\{x_{tij}+y_{tij}+x_{(t+1)ij}+y_{(t+1)ij}+x_{(t+2)ij}+y_{(t+2)ij}\\right\\}\\ge s_j,\\quad \\forall j\\in J,\\quad \\forall t\\in \\complement_T(t_6,t_7)$$"
   ],
   "id": "e3c975438429aaaf"
  },
  {
   "metadata": {
    "ExecuteTime": {
     "end_time": "2024-09-08T10:10:28.852202Z",
     "start_time": "2024-09-08T10:10:28.819653Z"
    }
   },
   "cell_type": "code",
   "source": [
    "for t in range(0, 5):  # 从 t=1 (2024) 到 t=5 (2028)，确保三年周期\n",
    "    for j in J:\n",
    "        model.addConstr(\n",
    "            gp.quicksum(x[t, i, j] + y[t, i, j] + x[t+1, i, j] + y[t+1, i, j] + x[t+2, i, j] + y[t+2, i, j] for i in I5) >= land_area.iloc[j,1],\n",
    "            name=f\"three_year_bean_rotation_t_{t}_j_{j}\"\n",
    "        )"
   ],
   "id": "1b01623219f8dd3d",
   "outputs": [],
   "execution_count": 41
  },
  {
   "metadata": {},
   "cell_type": "markdown",
   "source": "**7. 每块土地的种植面积和的一般约束:**",
   "id": "fd0fc3cfab5369a7"
  },
  {
   "metadata": {
    "ExecuteTime": {
     "end_time": "2024-09-08T10:10:28.893390Z",
     "start_time": "2024-09-08T10:10:28.852202Z"
    }
   },
   "cell_type": "code",
   "source": [
    "for t in T:\n",
    "    for j in J:\n",
    "        model.addConstr(gp.quicksum(x[t, i, j] for i in I) <= land_area.iloc[j, 1], name=f\"land_limit_x_{t}_{j}\")\n",
    "        model.addConstr(gp.quicksum(y[t, i, j] for i in I) <= land_area.iloc[j, 1], name=f\"land_limit_y_{t}_{j}\")\n"
   ],
   "id": "4a0e61e85d171d33",
   "outputs": [],
   "execution_count": 42
  },
  {
   "metadata": {},
   "cell_type": "markdown",
   "source": [
    "# 目标函数\n",
    "**定义$z_{1ti}$与$z_{2ti}$**\n",
    "$$z_{1ti} = min \\left\\{\\sum_{j\\in J}(x_{tij}+y_{tij})o_{ij},d_i\\right\\},\\quad \\forall i\\in I,\\quad \\forall t\\in T$$\n",
    "$$z_{2ti} = max\\left\\{\\sum_{j\\in J}(x_{tij}+y_{tij})o_{ij}-d_i，0 \\right\\},\\quad \\forall i \\in I,\\quad \\forall t\\in T$$"
   ],
   "id": "d6328a741b9de847"
  },
  {
   "metadata": {
    "ExecuteTime": {
     "end_time": "2024-09-08T10:10:29.163788Z",
     "start_time": "2024-09-08T10:10:28.893390Z"
    }
   },
   "cell_type": "code",
   "source": [
    "for t in T:\n",
    "    for i in I:\n",
    "        model.addConstr(z_1[t,i] <= gp.quicksum((x[t,i,j] + y[t,i,j]) * acre_yield.iloc[j, i] for j in J), name=f\"constraint_z11_{t}_{i}\")\n",
    "        model.addConstr(z_1[t,i] <= expected_sales.iloc[i, 1], name=f\"constraint_z12_{t}_{i}\")"
   ],
   "id": "a5f59c81646f4bf2",
   "outputs": [],
   "execution_count": 43
  },
  {
   "metadata": {
    "ExecuteTime": {
     "end_time": "2024-09-08T10:10:29.419766Z",
     "start_time": "2024-09-08T10:10:29.163788Z"
    }
   },
   "cell_type": "code",
   "source": [
    "for t in T:\n",
    "    for i in I:\n",
    "        model.addConstr(z_2[t,i] >= gp.quicksum((x[t,i,j] + y[t,i,j]) * acre_yield.iloc[j, i] for j in J) - expected_sales.iloc[i, 1],name=f\"constraint_z21_{t}_{i}\")\n",
    "#z_2在创建的时候设置了lb=0"
   ],
   "id": "556583796f1644b3",
   "outputs": [],
   "execution_count": 44
  },
  {
   "metadata": {
    "ExecuteTime": {
     "end_time": "2024-09-08T10:10:29.659366Z",
     "start_time": "2024-09-08T10:10:29.419766Z"
    }
   },
   "cell_type": "code",
   "source": [
    "for t in T:\n",
    "    for i in I:\n",
    "        model.addConstr(z_2[t,i]+z_1[t,i] == gp.quicksum((x[t,i,j]+y[t,i,j])*acre_yield.iloc[j,i] for j in J), name=f\"constraint_z_{t}_{i}\")"
   ],
   "id": "748480e35e403f70",
   "outputs": [],
   "execution_count": 45
  },
  {
   "metadata": {},
   "cell_type": "markdown",
   "source": [
    "    1.超出预期销售额的滞销：\n",
    "$$maxZ=\\sum_{t\\in T}\\sum_{i\\in I}\\left\\{z_{1ti}p_i-\\sum_{j\\in J}(x_{tij}+y_{tij}c)c_{ij} \\right\\}$$"
   ],
   "id": "9af7923d3f3fca26"
  },
  {
   "metadata": {},
   "cell_type": "markdown",
   "source": [
    "model.setObjective(\n",
    "    gp.quicksum(\n",
    "        gp.quicksum(\n",
    "            z_1[t, i]*unit_price.iloc[i, 1]-gp.quicksum((x[t,i,j]+y[t,i,j])*planting_cost.iloc[j, i] for j in J)\n",
    "            for i in I\n",
    "        )\n",
    "        for t in T\n",
    "    ),\n",
    "    sense=gp.GRB.MAXIMIZE\n",
    ")"
   ],
   "id": "8b66870e24d6590"
  },
  {
   "metadata": {},
   "cell_type": "markdown",
   "source": [
    "    2.超出预期销售额的半价出售\n",
    "$$maxZ = \\sum_{t\\in T}\\sum_{i\\in I}[z_{1i}p_i+z_{2i}0.5p_i-\\sum_{j\\in J}(x_{tij}+y_{tij}c)c_{ij}]$$"
   ],
   "id": "c2de8ef29935750"
  },
  {
   "metadata": {
    "ExecuteTime": {
     "end_time": "2024-09-08T10:10:29.917837Z",
     "start_time": "2024-09-08T10:10:29.659366Z"
    }
   },
   "cell_type": "code",
   "source": [
    "model.setObjective(\n",
    "    gp.quicksum(\n",
    "        gp.quicksum(\n",
    "            z_1[t, i]*unit_price.iloc[i, 1] + 0.5*z_2[t, i]*unit_price.iloc[i, 1] - gp.quicksum((x[t, i, j] + y[t, i, j])*planting_cost.iloc[j, i] for j in J)\n",
    "            for i in I\n",
    "        )\n",
    "        for t in T\n",
    "    ),\n",
    "    sense=gp.GRB.MAXIMIZE\n",
    ")"
   ],
   "id": "45014d57aa29217",
   "outputs": [],
   "execution_count": 46
  },
  {
   "metadata": {
    "ExecuteTime": {
     "end_time": "2024-09-08T10:22:06.060935Z",
     "start_time": "2024-09-08T10:10:29.917837Z"
    }
   },
   "cell_type": "code",
   "source": [
    "model.setParam('PoolSolutions', 10)\n",
    "\n",
    "model.optimize()"
   ],
   "id": "bac38c3a758898c6",
   "outputs": [
    {
     "name": "stdout",
     "output_type": "stream",
     "text": [
      "Gurobi Optimizer version 11.0.3 build v11.0.3rc0 (win64 - Windows 11.0 (22631.2))\n",
      "\n",
      "CPU model: AMD Ryzen 7 7840HS w/ Radeon 780M Graphics, instruction set [SSE2|AVX|AVX2|AVX512]\n",
      "Thread count: 8 physical cores, 16 logical processors, using up to 16 threads\n",
      "\n",
      "Optimize a model with 30546 rows, 31570 columns and 112362 nonzeros\n",
      "Model fingerprint: 0xd349123b\n",
      "Model has 28760 quadratic constraints\n",
      "Coefficient statistics:\n",
      "  Matrix range     [3e-01, 2e+04]\n",
      "  QMatrix range    [1e+00, 1e+00]\n",
      "  Objective range  [8e-01, 1e+04]\n",
      "  Bounds range     [0e+00, 0e+00]\n",
      "  RHS range        [6e-01, 2e+05]\n",
      "Presolve removed 28806 rows and 23718 columns\n",
      "\n",
      "Continuous model is non-convex -- solving as a MIP\n",
      "\n",
      "Presolve added 2961 rows and 0 columns\n",
      "Presolve removed 0 rows and 2540 columns\n",
      "Presolve time: 0.05s\n",
      "Presolved: 33507 rows, 29030 columns, 97322 nonzeros\n",
      "Variable types: 7852 continuous, 21178 integer (21178 binary)\n",
      "Found heuristic solution: objective 5.045718e+07\n",
      "\n",
      "Root relaxation: objective 5.917139e+07, 5298 iterations, 0.13 seconds (0.18 work units)\n",
      "\n",
      "    Nodes    |    Current Node    |     Objective Bounds      |     Work\n",
      " Expl Unexpl |  Obj  Depth IntInf | Incumbent    BestBd   Gap | It/Node Time\n",
      "\n",
      "     0     0 5.9171e+07    0  368 5.0457e+07 5.9171e+07  17.3%     -    2s\n",
      "H    0     0                    5.047088e+07 5.9171e+07  17.2%     -    2s\n",
      "H    0     0                    5.417959e+07 5.9171e+07  9.21%     -    2s\n",
      "H    0     0                    5.430756e+07 5.9171e+07  8.96%     -    2s\n",
      "H    0     0                    5.471533e+07 5.9113e+07  8.04%     -    2s\n",
      "     0     0 5.9113e+07    0  383 5.4715e+07 5.9113e+07  8.04%     -    2s\n",
      "     0     0 5.9113e+07    0  384 5.4715e+07 5.9113e+07  8.04%     -    2s\n",
      "H    0     0                    5.483843e+07 5.9080e+07  7.73%     -    2s\n",
      "H    0     0                    5.526835e+07 5.9080e+07  6.90%     -    2s\n",
      "H    0     0                    5.698265e+07 5.9080e+07  3.68%     -    2s\n",
      "     0     0 5.9080e+07    0  410 5.6983e+07 5.9080e+07  3.68%     -    2s\n",
      "H    0     0                    5.701943e+07 5.9074e+07  3.60%     -    2s\n",
      "     0     0 5.9074e+07    0  420 5.7019e+07 5.9074e+07  3.60%     -    2s\n",
      "     0     0 5.9074e+07    0  414 5.7019e+07 5.9074e+07  3.60%     -    2s\n",
      "     0     0 5.9074e+07    0  414 5.7019e+07 5.9074e+07  3.60%     -    2s\n",
      "     0     0 5.9074e+07    0  402 5.7019e+07 5.9074e+07  3.60%     -    2s\n",
      "     0     0 5.9051e+07    0  402 5.7019e+07 5.9051e+07  3.56%     -    2s\n",
      "     0     0 5.9051e+07    0  401 5.7019e+07 5.9051e+07  3.56%     -    2s\n",
      "H    0     0                    5.726260e+07 5.9051e+07  3.12%     -    2s\n",
      "     0     0 5.9051e+07    0  400 5.7263e+07 5.9051e+07  3.12%     -    2s\n",
      "H    0     0                    5.768418e+07 5.9051e+07  2.37%     -    2s\n",
      "     0     0 5.9051e+07    0  403 5.7684e+07 5.9051e+07  2.37%     -    2s\n",
      "     0     0 5.9051e+07    0  315 5.7684e+07 5.9051e+07  2.37%     -    3s\n",
      "H    0     0                    5.835734e+07 5.9048e+07  1.18%     -    4s\n",
      "H    0     0                    5.839557e+07 5.9048e+07  1.12%     -    5s\n",
      "H 1164   310                    5.840048e+07 5.9048e+07  1.11%  29.8    6s\n",
      "H 1683   830                    5.851598e+07 5.9015e+07  0.85%  42.6    9s\n",
      "H 2651   798                    5.851602e+07 5.9015e+07  0.85%  35.8    9s\n",
      "  3034  1192 5.8662e+07   74   39 5.8516e+07 5.9015e+07  0.85%  36.0   10s\n",
      "H 3349  1304                    5.863484e+07 5.9012e+07  0.64%  40.9   10s\n",
      "H 4311  1405                    5.863484e+07 5.9012e+07  0.64%  38.3   13s\n",
      "  4696  1522 5.8783e+07   13  419 5.8635e+07 5.8844e+07  0.36%  42.8   26s\n",
      "  5052  1446     cutoff   39      5.8635e+07 5.8783e+07  0.25%  48.4   30s\n",
      "H 5161  1319                    5.866108e+07 5.8775e+07  0.19%  50.7   31s\n",
      "  6970  2476 5.8731e+07   24  437 5.8661e+07 5.8766e+07  0.18%  48.5   35s\n",
      "  7366  2481 5.8672e+07   30  391 5.8661e+07 5.8725e+07  0.11%  52.1   40s\n",
      "H 9035  1037                    5.866109e+07 5.8720e+07  0.10%  47.2   41s\n",
      " 10071   964 5.8698e+07   32  479 5.8661e+07 5.8702e+07  0.07%  49.6   45s\n",
      "H10596  1070                    5.866112e+07 5.8699e+07  0.07%  51.8   46s\n",
      " 11359  1314 5.8666e+07   48  282 5.8661e+07 5.8698e+07  0.06%  51.5   50s\n",
      "H12589  1669                    5.866154e+07 5.8683e+07  0.04%  51.9   53s\n",
      " 13270  2216 5.8662e+07   70  146 5.8662e+07 5.8682e+07  0.03%  51.5   55s\n",
      " 15156  3723 5.8665e+07   49  332 5.8662e+07 5.8679e+07  0.03%  50.4   61s\n",
      " 17331  4657 5.8668e+07   45  327 5.8662e+07 5.8677e+07  0.03%  49.0   66s\n",
      " 19181  5889 5.8669e+07   45  296 5.8662e+07 5.8675e+07  0.02%  48.1   72s\n",
      " 20774  6535 5.8672e+07   43  388 5.8662e+07 5.8675e+07  0.02%  47.3   76s\n",
      " 23173  7617 5.8662e+07   53  294 5.8662e+07 5.8674e+07  0.02%  46.8   82s\n",
      " 24388  8238 5.8662e+07   50  239 5.8662e+07 5.8674e+07  0.02%  46.7   86s\n",
      " 27126  8810 5.8671e+07   47  323 5.8662e+07 5.8673e+07  0.02%  46.4   91s\n",
      " 27168  9225 5.8669e+07   48  351 5.8662e+07 5.8673e+07  0.02%  46.3   95s\n",
      " 29381 10099 5.8664e+07   56  250 5.8662e+07 5.8673e+07  0.02%  46.0  104s\n",
      "H30673 10099                    5.866154e+07 5.8673e+07  0.02%  46.2  104s\n",
      " 30673 10789 5.8662e+07   54  241 5.8662e+07 5.8673e+07  0.02%  46.0  109s\n",
      " 32381 11212     cutoff   55      5.8662e+07 5.8673e+07  0.02%  45.9  112s\n",
      " 33587 11703 5.8663e+07   50  340 5.8662e+07 5.8673e+07  0.02%  46.0  116s\n",
      " 35673 12602     cutoff   53      5.8662e+07 5.8673e+07  0.02%  46.0  124s\n",
      " 37258 12995     cutoff   48      5.8662e+07 5.8673e+07  0.02%  46.0  128s\n",
      " 38436 13517 5.8671e+07   44  331 5.8662e+07 5.8673e+07  0.02%  46.1  133s\n",
      " 39917 13915 5.8662e+07   54  232 5.8662e+07 5.8673e+07  0.02%  46.4  137s\n",
      " 41199 14410 5.8662e+07   58  194 5.8662e+07 5.8673e+07  0.02%  46.5  143s\n",
      " 42436 14810 5.8663e+07   48  268 5.8662e+07 5.8672e+07  0.02%  46.5  148s\n",
      " 43491 15147 5.8663e+07   50  275 5.8662e+07 5.8672e+07  0.02%  46.6  152s\n",
      " 44828 15630 5.8663e+07   50  304 5.8662e+07 5.8672e+07  0.02%  46.7  158s\n",
      " 46163 16036 5.8662e+07   52  272 5.8662e+07 5.8672e+07  0.02%  46.7  165s\n",
      " 47461 16493 5.8662e+07   52  251 5.8662e+07 5.8672e+07  0.02%  46.6  171s\n",
      " 48934 16934 5.8663e+07   44  308 5.8662e+07 5.8672e+07  0.02%  46.7  177s\n",
      " 50216 17443 5.8669e+07   45  314 5.8662e+07 5.8672e+07  0.02%  46.6  185s\n",
      " 51673 17878     cutoff   51      5.8662e+07 5.8672e+07  0.02%  46.7  190s\n",
      " 52715 18409 5.8668e+07   51  336 5.8662e+07 5.8672e+07  0.02%  46.7  195s\n",
      " 54081 18817 5.8666e+07   47  351 5.8662e+07 5.8672e+07  0.02%  46.7  201s\n",
      " 55499 19237 5.8662e+07   53  333 5.8662e+07 5.8672e+07  0.02%  46.6  208s\n",
      " 56804 19505 5.8662e+07   53  237 5.8662e+07 5.8672e+07  0.02%  46.6  214s\n",
      " 58065 19951 5.8669e+07   46  347 5.8662e+07 5.8672e+07  0.02%  46.5  219s\n",
      " 59320 20422 5.8662e+07   51  271 5.8662e+07 5.8671e+07  0.02%  46.5  227s\n",
      " 60788 20724 5.8667e+07   45  311 5.8662e+07 5.8671e+07  0.02%  46.4  233s\n",
      " 61715 21244     cutoff   54      5.8662e+07 5.8671e+07  0.02%  46.4  239s\n",
      " 63138 21674     cutoff   54      5.8662e+07 5.8671e+07  0.02%  46.3  246s\n",
      " 64416 21940 5.8663e+07   52  296 5.8662e+07 5.8671e+07  0.02%  46.3  252s\n",
      " 65624 22352 5.8665e+07   48  241 5.8662e+07 5.8671e+07  0.02%  46.1  258s\n",
      " 67019 22724 5.8663e+07   49  255 5.8662e+07 5.8671e+07  0.02%  46.2  264s\n",
      " 68211 23166     cutoff   53      5.8662e+07 5.8671e+07  0.02%  46.2  271s\n",
      " 69558 23573     cutoff   51      5.8662e+07 5.8671e+07  0.02%  46.1  277s\n",
      " 70845 23934 5.8667e+07   45  310 5.8662e+07 5.8671e+07  0.02%  46.1  283s\n",
      " 72018 24245 5.8662e+07   45  299 5.8662e+07 5.8671e+07  0.02%  46.2  289s\n",
      " 73087 24659 5.8669e+07   48  317 5.8662e+07 5.8671e+07  0.02%  46.2  296s\n",
      " 74370 25039 5.8662e+07   55  285 5.8662e+07 5.8671e+07  0.02%  46.1  303s\n",
      " 75604 25343 5.8662e+07   48  344 5.8662e+07 5.8671e+07  0.02%  46.1  310s\n",
      " 76807 25774 5.8662e+07   58  242 5.8662e+07 5.8671e+07  0.02%  46.1  320s\n",
      " 78196 26174 5.8662e+07   60  229 5.8662e+07 5.8671e+07  0.02%  46.1  329s\n",
      " 79532 26457 5.8662e+07   55  309 5.8662e+07 5.8671e+07  0.02%  46.1  339s\n",
      " 80910 26662 5.8663e+07   51  257 5.8662e+07 5.8671e+07  0.02%  46.0  345s\n",
      " 81491 27218 5.8668e+07   48  404 5.8662e+07 5.8671e+07  0.02%  46.0  360s\n",
      " 83646 27716 5.8665e+07   48  342 5.8662e+07 5.8671e+07  0.02%  45.9  373s\n",
      " 85299 28051     cutoff   48      5.8662e+07 5.8670e+07  0.02%  46.0  382s\n",
      " 87018 28435 5.8667e+07   46  321 5.8662e+07 5.8670e+07  0.02%  45.9  392s\n",
      " 88444 28894 5.8662e+07   49  279 5.8662e+07 5.8670e+07  0.02%  45.9  401s\n",
      " 89872 29239 5.8662e+07   49  297 5.8662e+07 5.8670e+07  0.02%  45.9  410s\n",
      " 91304 29613     cutoff   52      5.8662e+07 5.8670e+07  0.02%  46.0  420s\n",
      " 92683 29883 5.8670e+07   48  264 5.8662e+07 5.8670e+07  0.02%  45.9  428s\n",
      " 94074 30295 5.8662e+07   52  312 5.8662e+07 5.8670e+07  0.01%  45.9  436s\n",
      "H95426 30295                    5.866154e+07 5.8670e+07  0.01%  46.0  436s\n",
      " 95591 30408 5.8670e+07   23  378 5.8662e+07 5.8670e+07  0.01%  46.9  621s\n",
      " 96062 30307     cutoff   35      5.8662e+07 5.8670e+07  0.01%  47.5  625s\n",
      " 97146 30331     cutoff   51      5.8662e+07 5.8665e+07  0.01%  47.4  631s\n",
      " 97725 30533     cutoff   62      5.8662e+07 5.8663e+07  0.00%  47.2  635s\n",
      " 100073 30236     cutoff   57      5.8662e+07 5.8662e+07  0.00%  46.3  643s\n",
      " 101549 29964 5.8662e+07   54   69 5.8662e+07 5.8662e+07  0.00%  45.7  646s\n",
      " 103695 29379 5.8662e+07   53  110 5.8662e+07 5.8662e+07  0.00%  45.0  650s\n",
      " 105571 28891     cutoff   55      5.8662e+07 5.8662e+07  0.00%  44.3  655s\n",
      " 108297 27953 5.8662e+07   55   95 5.8662e+07 5.8662e+07  0.00%  43.5  662s\n",
      " 109822 27500     cutoff   54      5.8662e+07 5.8662e+07  0.00%  43.0  665s\n",
      " 112809 26378 5.8662e+07   65   37 5.8662e+07 5.8662e+07  0.00%  42.1  673s\n",
      " 114377 25786 5.8662e+07   55   75 5.8662e+07 5.8662e+07  0.00%  41.6  677s\n",
      " 115687 25522 5.8662e+07   58   66 5.8662e+07 5.8662e+07  0.00%  41.2  682s\n",
      " 117405 25081     cutoff   63      5.8662e+07 5.8662e+07  0.00%  40.7  688s\n",
      " 119341 24504 5.8662e+07   63   77 5.8662e+07 5.8662e+07  0.00%  40.1  691s\n",
      " 120557 24184 5.8662e+07   60   74 5.8662e+07 5.8662e+07  0.00%  39.8  695s\n",
      "\n",
      "Cutting planes:\n",
      "  Gomory: 46\n",
      "  MIR: 33\n",
      "  Flow cover: 19\n",
      "  BQP: 9\n",
      "\n",
      "Explored 122070 nodes (4825763 simplex iterations) in 696.01 seconds (358.42 work units)\n",
      "Thread count was 16 (of 16 available processors)\n",
      "\n",
      "Solution count 10: 5.86615e+07 5.86615e+07 5.86615e+07 ... 5.8516e+07\n",
      "\n",
      "Optimal solution found (tolerance 1.00e-04)\n",
      "Best objective 5.866154147392e+07, best bound 5.866154419080e+07, gap 0.0000%\n"
     ]
    }
   ],
   "execution_count": 47
  },
  {
   "metadata": {
    "ExecuteTime": {
     "end_time": "2024-09-08T10:22:06.066749Z",
     "start_time": "2024-09-08T10:22:06.062244Z"
    }
   },
   "cell_type": "code",
   "source": "model.objVal",
   "id": "4ee277d9621d2fa5",
   "outputs": [
    {
     "data": {
      "text/plain": [
       "58661541.47392271"
      ]
     },
     "execution_count": 48,
     "metadata": {},
     "output_type": "execute_result"
    }
   ],
   "execution_count": 48
  },
  {
   "metadata": {
    "ExecuteTime": {
     "end_time": "2024-09-08T10:22:06.086979Z",
     "start_time": "2024-09-08T10:22:06.067318Z"
    }
   },
   "cell_type": "code",
   "source": [
    "V = model.getVars()[:len(x)]\n",
    "variable_values = [v.X for v in V]  \n",
    "reshape_array=np.array(variable_values).reshape(len(T), len(I), len(J))\n",
    "result = []\n",
    "for i in range(len(T)):\n",
    "    result_temp = pd.DataFrame(reshape_array[i].transpose())\n",
    "    result.append(result_temp)\n",
    "\n",
    "for i in range(len(T)):\n",
    "    temp_df = pd.DataFrame(result[i])\n",
    "    # temp_df.to_csv(f'result/result_c{i}.csv', index=False, header=False)"
   ],
   "id": "2daecc32f90f436d",
   "outputs": [],
   "execution_count": 49
  },
  {
   "metadata": {
    "ExecuteTime": {
     "end_time": "2024-09-08T10:22:06.104310Z",
     "start_time": "2024-09-08T10:22:06.086979Z"
    }
   },
   "cell_type": "code",
   "source": [
    "V = model.getVars()[len(x):len(x)+len(y)]\n",
    "variable_values = [v.X for v in V]\n",
    "reshape_array=np.array(variable_values).reshape(len(T), len(I), len(J))\n",
    "result = []\n",
    "for i in range(len(T)):\n",
    "    result_temp = pd.DataFrame(reshape_array[i].transpose())\n",
    "    result.append(result_temp)\n",
    "for i in range(len(T)):\n",
    "    temp_df = pd.DataFrame(result[i])\n",
    "    # temp_df.to_csv(f'result/result_d{i}.csv', index=False, header=False)"
   ],
   "id": "370ffb4bfadd1534",
   "outputs": [],
   "execution_count": 50
  },
  {
   "metadata": {
    "ExecuteTime": {
     "end_time": "2024-09-08T10:22:06.109390Z",
     "start_time": "2024-09-08T10:22:06.104310Z"
    }
   },
   "cell_type": "code",
   "source": [
    "# with open('model/model0.pkl', 'wb') as f:\n",
    "#     pickle.dump(result, f)\n",
    "# model.write('model/model0.lp')\n"
   ],
   "id": "9bce9670e4a640a",
   "outputs": [],
   "execution_count": 51
  },
  {
   "metadata": {
    "ExecuteTime": {
     "end_time": "2024-09-08T10:22:06.115023Z",
     "start_time": "2024-09-08T10:22:06.109390Z"
    }
   },
   "cell_type": "code",
   "source": [
    "def calculate_variance_with_loop(df):\n",
    "    variance_results = {}\n",
    "    for column in df.columns:\n",
    "        # 获取当前列\n",
    "        non_zero_indices = df[column][df[column] != 0].index\n",
    "        # 如果不为零的单元格少于两个，方差为0\n",
    "        if len(non_zero_indices) < 2:\n",
    "            variance_results[column] = 0\n",
    "        else:\n",
    "            # 计算索引的方差\n",
    "            variance_results[column] = np.var(non_zero_indices)\n",
    "    # 将结果转化为一个 pandas Series\n",
    "    return pd.Series(variance_results).sum()"
   ],
   "id": "7215a02fdbdd89c",
   "outputs": [],
   "execution_count": 52
  },
  {
   "metadata": {
    "ExecuteTime": {
     "end_time": "2024-09-08T10:22:06.444335Z",
     "start_time": "2024-09-08T10:22:06.115023Z"
    }
   },
   "cell_type": "code",
   "source": [
    "for k in range(model.SolCount):\n",
    "    model.setParam(gp.GRB.Param.SolutionNumber, k)\n",
    "    print(f\"\\nSolution {k + 1}:\")\n",
    "    V = model.getVars()[:len(x)]\n",
    "    variable_values = [v.X for v in V]  # 提取所有变量的 X 值\n",
    "    reshape_array=np.array(variable_values).reshape(len(T), len(I), len(J))\n",
    "    for t in range(len(T)):\n",
    "        result_temp = pd.DataFrame(reshape_array[t].transpose())\n",
    "        gap = calculate_variance_with_loop(result_temp)\n",
    "        print(gap)\n"
   ],
   "id": "bd2c07bc09331427",
   "outputs": [
    {
     "name": "stdout",
     "output_type": "stream",
     "text": [
      "\n",
      "Solution 1:\n",
      "261.9905051587302\n",
      "560.7824206349205\n",
      "402.71049042175156\n",
      "450.0072222222222\n",
      "429.5440972222222\n",
      "448.4613548752834\n",
      "1635.4217716736239\n",
      "\n",
      "Solution 2:\n",
      "261.9905051587302\n",
      "560.7824206349205\n",
      "402.71049042175156\n",
      "450.0072222222222\n",
      "429.5440972222222\n",
      "448.4613548752834\n",
      "1635.4217716736239\n",
      "\n",
      "Solution 3:\n",
      "261.9905051587302\n",
      "560.7824206349205\n",
      "402.71049042175156\n",
      "450.0072222222222\n",
      "429.5440972222222\n",
      "448.4613548752834\n",
      "1635.4217716736239\n",
      "\n",
      "Solution 4:\n",
      "261.9905051587302\n",
      "560.7824206349205\n",
      "402.71049042175156\n",
      "450.0072222222222\n",
      "429.5440972222222\n",
      "448.4613548752834\n",
      "1635.4217716736239\n",
      "\n",
      "Solution 5:\n",
      "261.9905051587302\n",
      "560.7824206349205\n",
      "402.71049042175156\n",
      "450.0072222222222\n",
      "429.5440972222222\n",
      "448.4613548752834\n",
      "1635.4217716736239\n",
      "\n",
      "Solution 6:\n",
      "261.9905051587302\n",
      "560.7824206349205\n",
      "402.71049042175156\n",
      "450.0072222222222\n",
      "429.5440972222222\n",
      "448.4613548752834\n",
      "1635.4217716736239\n",
      "\n",
      "Solution 7:\n",
      "261.9905051587302\n",
      "560.7824206349205\n",
      "402.71049042175156\n",
      "450.0072222222222\n",
      "429.5440972222222\n",
      "448.4613548752834\n",
      "1635.4217716736239\n",
      "\n",
      "Solution 8:\n",
      "261.9905051587302\n",
      "560.7824206349205\n",
      "402.71049042175156\n",
      "450.0072222222222\n",
      "429.5440972222222\n",
      "448.4613548752834\n",
      "1635.4217716736239\n",
      "\n",
      "Solution 9:\n",
      "261.9905051587302\n",
      "560.7824206349205\n",
      "402.71049042175156\n",
      "450.0072222222222\n",
      "429.5440972222222\n",
      "448.4613548752834\n",
      "1635.4217716736239\n",
      "\n",
      "Solution 10:\n",
      "261.9905051587302\n",
      "560.7824206349205\n",
      "402.71049042175156\n",
      "450.0072222222222\n",
      "429.5440972222222\n",
      "448.4613548752834\n",
      "1635.4217716736239\n"
     ]
    }
   ],
   "execution_count": 53
  }
 ],
 "metadata": {
  "kernelspec": {
   "display_name": "Python 3",
   "language": "python",
   "name": "python3"
  },
  "language_info": {
   "codemirror_mode": {
    "name": "ipython",
    "version": 2
   },
   "file_extension": ".py",
   "mimetype": "text/x-python",
   "name": "python",
   "nbconvert_exporter": "python",
   "pygments_lexer": "ipython2",
   "version": "2.7.6"
  }
 },
 "nbformat": 4,
 "nbformat_minor": 5
}
