{
 "cells": [
  {
   "cell_type": "code",
   "id": "6b8478644026f774",
   "metadata": {
    "collapsed": false,
    "ExecuteTime": {
     "end_time": "2024-05-26T09:53:27.207250Z",
     "start_time": "2024-05-26T09:53:27.119522Z"
    }
   },
   "source": [
    "import matplotlib.pyplot as plt\n",
    "plt.rc('font',family='Microsoft YaHei')\n",
    "from mpl_toolkits.basemap import Basemap\n",
    "import numpy as np\n",
    "import pandas as pd\n",
    "plt.rc('font',family='Microsoft YaHei')\n",
    "station_info_line_1 = pd.read_csv('Data/station_info_line_1.csv',header=0,names=['id','name','longitude','latitude','distance'])\n"
   ],
   "execution_count": 2,
   "outputs": []
  },
  {
   "metadata": {
    "ExecuteTime": {
     "end_time": "2024-05-26T09:56:01.497274Z",
     "start_time": "2024-05-26T09:56:01.491782Z"
    }
   },
   "cell_type": "code",
   "source": "station_info_line_1.head()",
   "id": "e2a1c7d7d1c3300",
   "execution_count": 8,
   "outputs": []
  },
  {
   "cell_type": "code",
   "id": "0337239d",
   "metadata": {
    "ExecuteTime": {
     "end_time": "2024-05-26T09:53:27.214945Z",
     "start_time": "2024-05-26T09:53:27.207250Z"
    }
   },
   "source": "station_info_line_1.info()",
   "execution_count": 3,
   "outputs": []
  },
  {
   "cell_type": "code",
   "id": "60a580b64ef59eb6",
   "metadata": {
    "collapsed": false,
    "ExecuteTime": {
     "end_time": "2024-05-26T09:53:27.232060Z",
     "start_time": "2024-05-26T09:53:27.214945Z"
    }
   },
   "source": [
    "station_info_line_1.describe()"
   ],
   "execution_count": 4,
   "outputs": []
  },
  {
   "cell_type": "code",
   "id": "49326a1b34cce158",
   "metadata": {
    "collapsed": false,
    "ExecuteTime": {
     "end_time": "2024-05-26T09:53:27.529419Z",
     "start_time": "2024-05-26T09:53:27.233064Z"
    }
   },
   "source": [
    "# 绘制路线图\n",
    "plt.figure(figsize=(20, 16))\n",
    "plt.plot(station_info_line_1['longitude'], station_info_line_1['latitude'], marker='o', linestyle='-')\n",
    "plt.title('Bus Route Map')\n",
    "plt.xlabel('Longitude')\n",
    "plt.ylabel('Latitude')\n",
    "for i, txt in enumerate(station_info_line_1['name']):\n",
    "    plt.annotate(txt, (station_info_line_1['longitude'][i], station_info_line_1['latitude'][i]))\n",
    "plt.show()\n",
    "\n",
    "# 显示数据摘要\n",
    "print(station_info_line_1.head())"
   ],
   "execution_count": 5,
   "outputs": []
  },
  {
   "cell_type": "code",
   "id": "c780fbf8d368d3cd",
   "metadata": {
    "collapsed": false,
    "ExecuteTime": {
     "end_time": "2024-05-26T09:53:28.157728Z",
     "start_time": "2024-05-26T09:53:27.529419Z"
    }
   },
   "source": [
    "import folium\n",
    "\n",
    "# 创建地图对象\n",
    "mymap = folium.Map(location=[39.80, 116.72], zoom_start=12)\n",
    "\n",
    "# 添加站点标记\n",
    "for index, row in station_info_line_1.iterrows():\n",
    "    folium.Marker(location=[row['latitude'], row['longitude']], popup=row['name'], tooltip=row['name']).add_to(mymap)\n",
    "\n",
    "# 添加路线\n",
    "route_points = list(zip(station_info_line_1['latitude'], station_info_line_1['longitude']))\n",
    "folium.PolyLine(locations=route_points, color='blue').add_to(mymap)\n",
    "\n",
    "# 保存地图\n",
    "# mymap.save('bus_route_line_1.html')\n",
    "\n",
    "# 显示地图\n",
    "mymap\n"
   ],
   "execution_count": 6,
   "outputs": []
  },
  {
   "cell_type": "code",
   "id": "d37be9dda157223d",
   "metadata": {
    "collapsed": false,
    "ExecuteTime": {
     "end_time": "2024-05-26T09:53:28.160135Z",
     "start_time": "2024-05-26T09:53:28.157728Z"
    }
   },
   "source": [],
   "execution_count": 6,
   "outputs": []
  }
 ],
 "metadata": {
  "kernelspec": {
   "display_name": "Python 3",
   "language": "python",
   "name": "python3"
  },
  "language_info": {
   "codemirror_mode": {
    "name": "ipython",
    "version": 3
   },
   "file_extension": ".py",
   "mimetype": "text/x-python",
   "name": "python",
   "nbconvert_exporter": "python",
   "pygments_lexer": "ipython3",
   "version": "3.12.1"
  }
 },
 "nbformat": 4,
 "nbformat_minor": 5
}
