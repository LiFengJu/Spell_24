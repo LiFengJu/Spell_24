{
 "cells": [
  {
   "cell_type": "code",
   "execution_count": 18,
   "outputs": [
    {
     "name": "stdout",
     "output_type": "stream",
     "text": [
      "Gurobi Optimizer version 10.0.3 build v10.0.3rc0 (win64)\n",
      "\n",
      "CPU model: Intel(R) Pentium(R) CPU 4425Y @ 1.70GHz, instruction set [SSE2]\n",
      "Thread count: 2 physical cores, 4 logical processors, using up to 4 threads\n",
      "\n",
      "Optimize a model with 33 rows, 11 columns and 66 nonzeros\n",
      "Model fingerprint: 0xfba13b88\n",
      "Coefficient statistics:\n",
      "  Matrix range     [1e+00, 1e+00]\n",
      "  Objective range  [1e+00, 1e+00]\n",
      "  Bounds range     [6e+01, 6e+01]\n",
      "  RHS range        [3e+00, 1e+01]\n",
      "Presolve time: 0.01s\n",
      "\n",
      "Solved in 0 iterations and 0.02 seconds (0.00 work units)\n",
      "Infeasible model\n"
     ]
    }
   ],
   "source": [
    "import gurobipy as gp\n",
    "from gurobipy import GRB\n",
    "\n",
    "TASKS = {\n",
    "    ('job_1', 'machine_1'): {'dur': 10, 'prec': None},\n",
    "    ('job_1', 'machine_2'): {'dur': 8, 'prec': ('job_1', 'machine_1')},\n",
    "    ('job_1', 'machine_3'): {'dur': 4, 'prec': ('job_1', 'machine_2')},\n",
    "    ('job_2', 'machine_2'): {'dur': 8, 'prec': None},\n",
    "    ('job_2', 'machine_1'): {'dur': 3, 'prec': ('job_2', 'machine_2')},\n",
    "    ('job_2', 'machine_4'): {'dur': 5, 'prec': ('job_2', 'machine_1')},\n",
    "    ('job_2', 'machine_3'): {'dur': 6, 'prec': ('job_2', 'machine_4')},\n",
    "    ('job_3', 'machine_1'): {'dur': 4, 'prec': None},\n",
    "    ('job_3', 'machine_2'): {'dur': 7, 'prec': ('job_3', 'machine_1')},\n",
    "    ('job_3', 'machine_4'): {'dur': 3, 'prec': ('job_3', 'machine_2')},\n",
    "}\n",
    "\n",
    "def jobshop_model_gurobi(TASKS):\n",
    "    model = gp.Model()\n",
    "\n",
    "    TASKS_set = set(TASKS.keys())\n",
    "    JOBS = {j for (j, m) in TASKS_set}\n",
    "    MACHINES = {m for (j, m) in TASKS_set}\n",
    "\n",
    "    TASKORDER_set = {(j, m, k, n) for (j, m) in TASKS_set for (k, n) in TASKS_set if (k, n) == TASKS[(j, m)]['prec']}\n",
    "    DISJUNCTIONS_set = {(j, k, m) for j in JOBS for k in JOBS if j < k for m in MACHINES if (j, m) in TASKS_set and (k, m) in TASKS_set}\n",
    "\n",
    "    dur = {(j, m): TASKS[(j, m)]['dur'] for (j, m) in TASKS_set}\n",
    "\n",
    "    ub = sum(dur[jm] for jm in TASKS_set)\n",
    "\n",
    "    makespan = model.addVar(vtype=GRB.CONTINUOUS, lb=0, ub=ub, name=\"makespan\")\n",
    "    start = {(j, m): model.addVar(vtype=GRB.CONTINUOUS, lb=0, ub=ub, name=f\"start_{j}_{m}\") for (j, m) in TASKS_set}\n",
    "\n",
    "    model.setObjective(makespan, GRB.MINIMIZE)\n",
    "\n",
    "    finish_constr = {jm: model.addConstr(start[jm] + dur[jm] <= makespan, name=f\"finish_{jm[0]}_{jm[1]}\") for jm in TASKS_set}\n",
    "    preceding_constr = {task_order: model.addConstr(start[task_order[2], task_order[3]] + dur[task_order[2], task_order[3]] <= start[task_order[0], task_order[1]], name=f\"preceding_{task_order[0]}_{task_order[1]}_{task_order[2]}_{task_order[3]}\") for task_order in TASKORDER_set}\n",
    "    disjunctions_constr = {(j, k, m): [\n",
    "        model.addConstr(start[j, m] + dur[j, m] <= start[k, m], name=f\"disj_{j}_{k}_{m}\"),\n",
    "        model.addConstr(start[k, m] + dur[k, m] <= start[j, m], name=f\"disj_{k}_{j}_{m}\")]\n",
    "        for (j, k, m) in DISJUNCTIONS_set}\n",
    "\n",
    "    model.optimize()\n",
    "\n",
    "    return model\n",
    "\n",
    "model=jobshop_model_gurobi(TASKS)\n"
   ],
   "metadata": {
    "collapsed": false,
    "ExecuteTime": {
     "end_time": "2023-12-09T08:33:10.623514100Z",
     "start_time": "2023-12-09T08:33:10.439688600Z"
    }
   },
   "id": "f0584f44a90d871d"
  },
  {
   "cell_type": "code",
   "execution_count": 20,
   "outputs": [
    {
     "data": {
      "text/plain": "False"
     },
     "execution_count": 20,
     "metadata": {},
     "output_type": "execute_result"
    }
   ],
   "source": [
    "model.status == gp.GRB.OPTIMAL"
   ],
   "metadata": {
    "collapsed": false,
    "ExecuteTime": {
     "end_time": "2023-12-09T08:33:55.909962200Z",
     "start_time": "2023-12-09T08:33:55.865694700Z"
    }
   },
   "id": "cb29cfa2d833f768"
  },
  {
   "cell_type": "code",
   "execution_count": null,
   "outputs": [],
   "source": [],
   "metadata": {
    "collapsed": false
   },
   "id": "8674e93fa2bbb254"
  }
 ],
 "metadata": {
  "kernelspec": {
   "display_name": "Python 3",
   "language": "python",
   "name": "python3"
  },
  "language_info": {
   "codemirror_mode": {
    "name": "ipython",
    "version": 2
   },
   "file_extension": ".py",
   "mimetype": "text/x-python",
   "name": "python",
   "nbconvert_exporter": "python",
   "pygments_lexer": "ipython2",
   "version": "2.7.6"
  }
 },
 "nbformat": 4,
 "nbformat_minor": 5
}
