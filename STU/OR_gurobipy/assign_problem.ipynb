{
 "cells": [
  {
   "metadata": {},
   "cell_type": "markdown",
   "source": [
    "|     | A   | B   | C   | D   |\n",
    "| --- | --- | --- | --- | --- |\n",
    "| U   | 6   | 7   | 11  | 2   |\n",
    "| I   | 4   | 5   | 9   | 8   |\n",
    "| O   | 3   | 1   | 10  | 4   |\n",
    "| P   | 5   | 9   | 8   | 2   |\n"
   ],
   "id": "eee91475dda71e79"
  },
  {
   "metadata": {
    "ExecuteTime": {
     "end_time": "2024-08-07T07:26:11.315091Z",
     "start_time": "2024-08-07T07:26:11.296457Z"
    }
   },
   "cell_type": "code",
   "source": [
    "import gurobipy as gp\n",
    "from gurobipy import GRB\n",
    "\n",
    "# 定义成本矩阵\n",
    "costs = {\n",
    "    ('U', 'A'): 6, ('U', 'B'): 7, ('U', 'C'): 11, ('U', 'D'): 2,\n",
    "    ('I', 'A'): 4, ('I', 'B'): 5, ('I', 'C'): 9, ('I', 'D'): 8,\n",
    "    ('O', 'A'): 3, ('O', 'B'): 1, ('O', 'C'): 10, ('O', 'D'): 4,\n",
    "    ('P', 'A'): 5, ('P', 'B'): 9, ('P', 'C'): 8, ('P', 'D'): 2\n",
    "}"
   ],
   "id": "4b94e968be99921",
   "outputs": [],
   "execution_count": 1
  },
  {
   "metadata": {
    "ExecuteTime": {
     "end_time": "2024-08-07T07:26:11.363179Z",
     "start_time": "2024-08-07T07:26:11.316100Z"
    }
   },
   "cell_type": "code",
   "source": [
    "# 创建模型\n",
    "model = gp.Model(\"Assignment_Problem\")\n",
    "\n",
    "# 添加变量：决策变量 x[i, j]，二元变量表示是否分配\n",
    "x = model.addVars(costs.keys(), vtype=GRB.BINARY, name=\"x\")\n",
    "\n",
    "# 设置目标函数：最小化总成本\n",
    "model.setObjective(gp.quicksum(x[i, j] * costs[i, j] for i, j in costs), GRB.MINIMIZE)\n",
    "\n",
    "# 添加约束条件：每个任务只能分配给一个资源\n",
    "model.addConstrs((gp.quicksum(x[i, j] for j in ['A', 'B', 'C', 'D']) == 1 for i in ['U', 'I', 'O', 'P']), name=\"TaskAssignment\")\n",
    "\n",
    "# 添加约束条件：每个资源只能分配给一个任务\n",
    "model.addConstrs((gp.quicksum(x[i, j] for i in ['U', 'I', 'O', 'P']) == 1 for j in ['A', 'B', 'C', 'D']), name=\"ResourceAssignment\")\n",
    "\n",
    "# 求解模型\n",
    "model.optimize()"
   ],
   "id": "762486a03eb2ab82",
   "outputs": [
    {
     "name": "stdout",
     "output_type": "stream",
     "text": [
      "Set parameter Username\n",
      "Academic license - for non-commercial use only - expires 2025-08-07\n",
      "Gurobi Optimizer version 11.0.3 build v11.0.3rc0 (win64 - Windows 11.0 (22631.2))\n",
      "\n",
      "CPU model: AMD Ryzen 7 7840HS w/ Radeon 780M Graphics, instruction set [SSE2|AVX|AVX2|AVX512]\n",
      "Thread count: 8 physical cores, 16 logical processors, using up to 16 threads\n",
      "\n",
      "Optimize a model with 8 rows, 16 columns and 32 nonzeros\n",
      "Model fingerprint: 0xf08440dd\n",
      "Variable types: 0 continuous, 16 integer (16 binary)\n",
      "Coefficient statistics:\n",
      "  Matrix range     [1e+00, 1e+00]\n",
      "  Objective range  [1e+00, 1e+01]\n",
      "  Bounds range     [1e+00, 1e+00]\n",
      "  RHS range        [1e+00, 1e+00]\n",
      "Found heuristic solution: objective 18.0000000\n",
      "Presolve time: 0.01s\n",
      "Presolved: 8 rows, 16 columns, 32 nonzeros\n",
      "Variable types: 0 continuous, 16 integer (16 binary)\n",
      "\n",
      "Root relaxation: objective 1.500000e+01, 6 iterations, 0.00 seconds (0.00 work units)\n",
      "\n",
      "    Nodes    |    Current Node    |     Objective Bounds      |     Work\n",
      " Expl Unexpl |  Obj  Depth IntInf | Incumbent    BestBd   Gap | It/Node Time\n",
      "\n",
      "*    0     0               0      15.0000000   15.00000  0.00%     -    0s\n",
      "\n",
      "Explored 1 nodes (6 simplex iterations) in 0.03 seconds (0.00 work units)\n",
      "Thread count was 16 (of 16 available processors)\n",
      "\n",
      "Solution count 2: 15 18 \n",
      "\n",
      "Optimal solution found (tolerance 1.00e-04)\n",
      "Best objective 1.500000000000e+01, best bound 1.500000000000e+01, gap 0.0000%\n"
     ]
    }
   ],
   "execution_count": 2
  },
  {
   "metadata": {
    "ExecuteTime": {
     "end_time": "2024-08-07T07:26:11.367324Z",
     "start_time": "2024-08-07T07:26:11.363179Z"
    }
   },
   "cell_type": "code",
   "source": [
    "# 输出结果\n",
    "if model.status == GRB.OPTIMAL:\n",
    "    print(\"Optimal solution found:\")\n",
    "    for v in model.getVars():\n",
    "        if v.X > 0:\n",
    "            print(f\"{v.VarName} = {v.X}\")\n",
    "    print(f\"Total Cost: {model.ObjVal}\")\n",
    "else:\n",
    "    print(\"No optimal solution found.\")\n"
   ],
   "id": "445b5a289fe528ce",
   "outputs": [
    {
     "name": "stdout",
     "output_type": "stream",
     "text": [
      "Optimal solution found:\n",
      "x[U,D] = 1.0\n",
      "x[I,A] = 1.0\n",
      "x[O,B] = 1.0\n",
      "x[P,C] = 1.0\n",
      "Total Cost: 15.0\n"
     ]
    }
   ],
   "execution_count": 3
  }
 ],
 "metadata": {
  "kernelspec": {
   "display_name": "Python 3",
   "language": "python",
   "name": "python3"
  },
  "language_info": {
   "codemirror_mode": {
    "name": "ipython",
    "version": 2
   },
   "file_extension": ".py",
   "mimetype": "text/x-python",
   "name": "python",
   "nbconvert_exporter": "python",
   "pygments_lexer": "ipython2",
   "version": "2.7.6"
  }
 },
 "nbformat": 4,
 "nbformat_minor": 5
}
