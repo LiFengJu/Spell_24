{
 "cells": [
  {
   "metadata": {},
   "cell_type": "markdown",
   "source": [
    "需求不定的运输问题\n",
    "\n",
    "|      | B1  | B2  | B3  | B4  | 产量  |\n",
    "| ---- | --- | --- | --- | --- | --- |\n",
    "| A1   | 16  | 13  | 22  | 17  | 50  |\n",
    "| A2   | 14  | 13  | 19  | 15  | 60  |\n",
    "| A3   | 19  | 20  | 23  | -   | 50  |\n",
    "| 最低需求 | 30  | 70  | 0   | 10  |     |\n",
    "| 最高需求 | 50  | 70  | 30  | inf |     |"
   ],
   "id": "18deabee912492a6"
  },
  {
   "metadata": {
    "ExecuteTime": {
     "end_time": "2024-08-07T06:46:13.973623Z",
     "start_time": "2024-08-07T06:46:13.952619Z"
    }
   },
   "cell_type": "code",
   "source": [
    "import gurobipy as gp\n",
    "from gurobipy import GRB\n",
    "\n",
    "# 数据定义\n",
    "costs = {\n",
    "    ('A1', 'B1'): 16, ('A1', 'B2'): 13, ('A1', 'B3'): 22, ('A1', 'B4'): 17,\n",
    "    ('A2', 'B1'): 14, ('A2', 'B2'): 13, ('A2', 'B3'): 19, ('A2', 'B4'): 15,\n",
    "    ('A3', 'B1'): 19, ('A3', 'B2'): 20, ('A3', 'B3'): 23, ('A3', 'B4'): GRB.INFINITY\n",
    "}\n",
    "\n",
    "supply = {\n",
    "    'A1': 50,\n",
    "    'A2': 60,\n",
    "    'A3': 50\n",
    "}\n",
    "\n",
    "min_demand = {\n",
    "    'B1': 30,\n",
    "    'B2': 70,\n",
    "    'B3': 0,\n",
    "    'B4': 10\n",
    "}\n",
    "\n",
    "max_demand = {\n",
    "    'B1': 50,\n",
    "    'B2': 70,\n",
    "    'B3': 30,\n",
    "    'B4': GRB.INFINITY\n",
    "}"
   ],
   "id": "b81624658a779f1d",
   "outputs": [],
   "execution_count": 3
  },
  {
   "metadata": {
    "ExecuteTime": {
     "end_time": "2024-08-07T06:46:14.005141Z",
     "start_time": "2024-08-07T06:46:13.975366Z"
    }
   },
   "cell_type": "code",
   "source": [
    "# 创建模型\n",
    "model = gp.Model(\"Transportation_Problem\")\n",
    "\n",
    "# 添加变量\n",
    "x = model.addVars(costs.keys(), vtype=GRB.CONTINUOUS, name=\"x\")\n",
    "\n",
    "# 设置目标函数\n",
    "model.setObjective(gp.quicksum(x[i, j] * costs[i, j] for i, j in costs if costs[i, j]), GRB.MINIMIZE)\n",
    "\n",
    "# 添加约束条件\n",
    "model.addConstrs((gp.quicksum(x[i, j] for j in min_demand) == supply[i] for i in supply), name=\"Supply\")\n",
    "model.addConstrs((gp.quicksum(x[i, j] for i in supply) >= min_demand[j] for j in min_demand), name=\"MinDemand\")\n",
    "model.addConstrs((gp.quicksum(x[i, j] for i in supply) <= max_demand[j] for j in max_demand), name=\"MaxDemand\")\n",
    "\n",
    "# 求解模型\n",
    "model.optimize()"
   ],
   "id": "e74ece7734d3810b",
   "outputs": [
    {
     "name": "stdout",
     "output_type": "stream",
     "text": [
      "Set parameter Username\n",
      "Academic license - for non-commercial use only - expires 2025-08-07\n",
      "Gurobi Optimizer version 11.0.3 build v11.0.3rc0 (win64 - Windows 11.0 (22631.2))\n",
      "\n",
      "CPU model: AMD Ryzen 7 7840HS w/ Radeon 780M Graphics, instruction set [SSE2|AVX|AVX2|AVX512]\n",
      "Thread count: 8 physical cores, 16 logical processors, using up to 16 threads\n",
      "\n",
      "Optimize a model with 11 rows, 12 columns and 36 nonzeros\n",
      "Model fingerprint: 0x8dd4c1ce\n",
      "Coefficient statistics:\n",
      "  Matrix range     [1e+00, 1e+00]\n",
      "  Objective range  [1e+01, 1e+100]\n",
      "  Bounds range     [0e+00, 0e+00]\n",
      "  RHS range        [1e+01, 1e+100]\n",
      "Warning: Model contains large objective coefficients\n",
      "Warning: Model contains large rhs\n",
      "         Consider reformulating model or setting NumericFocus parameter\n",
      "         to avoid numerical issues.\n",
      "Presolve removed 5 rows and 2 columns\n",
      "Presolve time: 0.02s\n",
      "Presolved: 6 rows, 11 columns, 20 nonzeros\n",
      "\n",
      "Iteration    Objective       Primal Inf.    Dual Inf.      Time\n",
      "       0    2.3800000e+03   1.250000e+01   0.000000e+00      0s\n",
      "       3    2.4600000e+03   0.000000e+00   0.000000e+00      0s\n",
      "\n",
      "Solved in 3 iterations and 0.02 seconds (0.00 work units)\n",
      "Optimal objective  2.460000000e+03\n"
     ]
    }
   ],
   "execution_count": 4
  },
  {
   "metadata": {
    "ExecuteTime": {
     "end_time": "2024-08-07T06:46:14.011623Z",
     "start_time": "2024-08-07T06:46:14.005141Z"
    }
   },
   "cell_type": "code",
   "source": [
    "# 输出结果\n",
    "if model.status == GRB.OPTIMAL:\n",
    "    print(\"Optimal solution found:\")\n",
    "    for v in model.getVars():\n",
    "        if v.X > 0:\n",
    "            print(f\"{v.VarName} = {v.X}\")\n",
    "    print(f\"Total Cost: {model.ObjVal}\")\n",
    "else:\n",
    "    print(\"No optimal solution found.\")\n"
   ],
   "id": "45a5f1b1458e6846",
   "outputs": [
    {
     "name": "stdout",
     "output_type": "stream",
     "text": [
      "Optimal solution found:\n",
      "x[A1,B2] = 50.0\n",
      "x[A2,B2] = 20.0\n",
      "x[A2,B4] = 40.0\n",
      "x[A3,B1] = 50.0\n",
      "Total Cost: 2460.0\n"
     ]
    }
   ],
   "execution_count": 5
  }
 ],
 "metadata": {
  "kernelspec": {
   "display_name": "Python 3",
   "language": "python",
   "name": "python3"
  },
  "language_info": {
   "codemirror_mode": {
    "name": "ipython",
    "version": 2
   },
   "file_extension": ".py",
   "mimetype": "text/x-python",
   "name": "python",
   "nbconvert_exporter": "python",
   "pygments_lexer": "ipython2",
   "version": "2.7.6"
  }
 },
 "nbformat": 4,
 "nbformat_minor": 5
}
