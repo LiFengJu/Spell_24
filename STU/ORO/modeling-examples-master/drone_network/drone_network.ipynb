{
 "cells": [
  {
   "cell_type": "markdown",
   "id": "4e4de91f-c4da-4bd1-852d-c01e83d69f0a",
   "metadata": {},
   "source": [
    "## Drone-Network Design Queueing Model\n",
    "\n",
    "This notebook uses the model and data from the following studies:\n",
    "\n",
    "- Lejeune M.A., Margot F. 2022. Drone-Network Design for Out-of-Hospital Cardiac Arrests. Working Paper, submitted.\n",
    "- Custodio.J., Lejeune M.A. 2022. Spatiotemporal Data Set of Out-of-Hospital Cardiac Arrests. *INFORMS Journal on Computing* 34 (1), 4-10.\n",
    "\n",
    "The data and its full description can be found here:\n",
    "https://github.com/INFORMSJoC/2020.1022\n",
    "\n",
    "The example reads from the VBOHCAR Excel file that contains data for:\n",
    "- out-of-hospital cardiac arrest (OHCA) incidents\n",
    "- potential base stations for drones\n",
    "- pairwise incident/base station (Harversine) distances\n",
    "\n",
    "The MILP reformulation is modeled in gurobipy and solved using the Gurobi Optimizer. \n",
    "\n",
    "To begin, we import the necessary packages for data intake, modeling, and visualization. "
   ]
  },
  {
   "cell_type": "code",
   "execution_count": null,
   "id": "d0a31dda-8e54-4d63-b109-c711b699f813",
   "metadata": {},
   "source": [
    "%pip install gurobipy"
   ],
   "outputs": []
  },
  {
   "cell_type": "code",
   "execution_count": 1,
   "id": "adfb071f-78d2-487c-8da4-99186c8c04b9",
   "metadata": {},
   "source": [
    "import pandas as pd\n",
    "import matplotlib.pyplot as plt\n",
    "from matplotlib import collections as mc\n",
    "import numpy as np\n",
    "import gurobipy as gp\n",
    "from gurobipy import GRB\n",
    "from datetime import datetime\n",
    "from sklearn.mixture import GaussianMixture\n",
    "from sklearn.cluster import KMeans"
   ],
   "outputs": []
  },
  {
   "cell_type": "markdown",
   "id": "5f97e2f4-0abd-4a54-a2bd-c2b94a9f44c0",
   "metadata": {},
   "source": [
    "### Input Data Processing and Visualization\n",
    "We use pandas to quickly read in the required sheets from Excel. There is a small amount of data prep needed, where some duplicate events need to be removed and text should be cleaned. For reference, an incident location encompasses a street block. "
   ]
  },
  {
   "cell_type": "code",
   "execution_count": 2,
   "id": "8e5103af-4fe3-4c99-a656-74ecf4e6eea4",
   "metadata": {},
   "source": [
    "# read incident and base station data\n",
    "ohca_read = pd.read_csv('https://raw.githubusercontent.com/Gurobi/modeling-examples/master/drone_network_1_2/OHCAs.csv', index_col=0)\n",
    "stations_read = pd.read_csv('https://raw.githubusercontent.com/Gurobi/modeling-examples/master/drone_network_1_2/BaseStations.csv', index_col=0)\n",
    "\n",
    "# read data on indicent-base distance\n",
    "dist_read = pd.read_csv('https://raw.githubusercontent.com/Gurobi/modeling-examples/master/drone_network_1_2/Base_to_OHCA_distance.csv', index_col=[0,1])"
   ],
   "outputs": []
  },
  {
   "cell_type": "markdown",
   "id": "bffa34fa-b159-483e-bc17-5cf31f68652b",
   "metadata": {},
   "source": [
    "The above reads the complete data set, including all OHCAs, base stations, and respective distances. We will subset indicent data to the last month and select seven stations to get an instance that will solve in the notebook. "
   ]
  },
  {
   "cell_type": "code",
   "execution_count": 3,
   "id": "70a7760d-f53c-48e7-938a-52a6bade8866",
   "metadata": {},
   "source": [
    "# select a subset of OHCAs so the model can be solved in this notebook (if you have a full license then you can use all incidents)\n",
    "start_date = '2019-05-31' \n",
    "end_date = '2019-06-30'\n",
    "n_days =  (datetime.strptime(end_date, \"%Y-%m-%d\") - datetime.strptime(start_date, \"%Y-%m-%d\")).days\n",
    "ohca_df = ohca_read[(ohca_read.ReceivedTime >= start_date) & (ohca_read.ReceivedTime <= end_date)]\n",
    "\n",
    "# select a subset of base stations so the model can be solved in this notebook (if you have a full license then you can use all stations)\n",
    "stations_df = stations_read.loc[[2,3,5,14,25,31,35]]\n",
    "# some bases are different types (e.g. fire and police), add the type to create a different base name\n",
    "stations_df['Base'] = stations_df.Street + ' ' + stations_df.Type\n",
    "\n",
    "dist = dist_read.loc[dist_read.index.get_level_values(1).isin(ohca_df.index)]\n",
    "dist = dist.loc[dist.index.get_level_values(0).isin(stations_df.index)]\n",
    "print(f\"Number of days: {n_days} \\nNumber of OHCAs: {ohca_df.shape[0]}\")"
   ],
   "outputs": []
  },
  {
   "cell_type": "markdown",
   "id": "9933c5dd-afd3-4025-b130-c2da5fb5ac85",
   "metadata": {},
   "source": [
    "Next, we create scatterplots to visualize the OHCA locations and stations."
   ]
  },
  {
   "cell_type": "code",
   "execution_count": 4,
   "id": "02eb637f-34c8-4c9e-85ec-a4b15a02d480",
   "metadata": {},
   "source": [
    "plt.scatter(data = ohca_df, x = 'Longitude', y = 'Latitude', alpha = .3)\n",
    "plt.scatter(data = stations_df, x = 'Longitude', y = 'Latitude', alpha = 0.5, c = 'orange')"
   ],
   "outputs": []
  },
  {
   "cell_type": "code",
   "execution_count": 5,
   "id": "60e12679-3154-47d6-bd8d-21e10e4d49c6",
   "metadata": {},
   "source": [
    "# create a base / OHCA data frame using the location names\n",
    "df = dist.join(ohca_df[['Incident_Location']])\n",
    "df = df.join(stations_df['Base'])\n",
    "df = df.drop_duplicates()\n",
    "df = df.set_index(['Incident_Location','Base'])"
   ],
   "outputs": []
  },
  {
   "cell_type": "markdown",
   "id": "98dc111f-9a09-4deb-92fc-957e7c04fefe",
   "metadata": {},
   "source": [
    "### MILP Model\n",
    "\n",
    "#### Parameter Calculation\n",
    "We assume that drones at each station will have the same speed and mainenace times. The total time it takes a drone to service an OHCA is travel time (to and back from the OHCA location) plus maintenance time. "
   ]
  },
  {
   "cell_type": "code",
   "execution_count": 6,
   "id": "d7e52800-a8f2-438c-8fb9-50adf5aee8db",
   "metadata": {},
   "source": [
    "# limit number of drones\n",
    "n_drones = 4\n",
    "# assume a 100 km/hr drone speed (about 38 mph) for each drone\n",
    "speed = 100\n",
    "# average time to prep, dispatch, clean, perform maintenance etc. a drone is 25 min, converted to hours\n",
    "maintenance = 25/60\n",
    "# calculate average service time from i to j (converting to meters to kilometers)\n",
    "distance = df['Harversine Distance (meters)']\n",
    "service_time = maintenance + 2*0.001*distance/speed\n",
    "service_time = service_time.rename('service_time')"
   ],
   "outputs": []
  },
  {
   "cell_type": "markdown",
   "id": "8781d6e4-b32f-4f96-a4af-cd4f6a7a99ee",
   "metadata": {},
   "source": [
    "Next, we use the MLE for the arrival rate of an OHCA to each location $i$ as $\\lambda_{i} = N_i/t$, where $N_i$ is the number of incidents over time $t$. "
   ]
  },
  {
   "cell_type": "code",
   "execution_count": 7,
   "id": "7ea9f343-6334-4bad-b3f2-10a29d0090b5",
   "metadata": {},
   "source": [
    "incident_count = ohca_df.Incident_Location.value_counts()\n",
    "# arrival rate is in hours to match drone speed units\n",
    "arrival_rate = round(incident_count/(24*n_days),6) \n",
    "\n",
    "I = df.index.get_level_values(0).unique()\n",
    "J = df.index.get_level_values(1).unique()\n",
    "\n",
    "# make list of each OHCA / base pair\n",
    "base_to_ohca = df.index.tolist()\n",
    "\n",
    "# print DAILY arrival rates for each location \n",
    "24*arrival_rate.sort_values(ascending = False)"
   ],
   "outputs": []
  },
  {
   "cell_type": "markdown",
   "id": "12edffa7-8a19-458a-b6d3-c176f7ed28e6",
   "metadata": {},
   "source": [
    "#### Base Formualtion (BF) Variables and Constraints\n",
    "\n",
    "We start to build the MILP model by introducing binary variables $x_{j}$ and $y_{i,j}$ which will be 1 if location $j$ is chosen and services OHCA $i$. We start with constraints typical to facility location problem. \n",
    "\\begin{align}\n",
    "&y_{i,j} \\le x_j \\\\\n",
    "&\\sum_{j \\in J} x_j \\le p \\\\\n",
    "&\\sum_{i \\in I_{j}} y_{i,j} = 1 \\\\\n",
    "\\end{align}\n",
    "\n",
    "Next, we require each queue meet stability requirements:\n",
    "\\begin{align}\n",
    "\\sum_{i \\in I_{j}}\\lambda_{i}s_{i,j}y_{i,j} \\le 1\n",
    "\\end{align}\n",
    "\n",
    "Below are these constaints written in gurobipy."
   ]
  },
  {
   "cell_type": "code",
   "execution_count": 8,
   "id": "e5b07a57-a0f6-414e-8d91-0b180939db79",
   "metadata": {},
   "source": [
    "m = gp.Model('drone_network')\n",
    "\n",
    "x = m.addVars(J, vtype=GRB.BINARY, name='x')            #selection\n",
    "y = m.addVars(base_to_ohca, vtype=GRB.BINARY, name='y') #assignment\n",
    "\n",
    "m.addConstrs((y[(i,j)] <= x[j] for i,j in base_to_ohca), name='select')\n",
    "m.addConstr(x.sum() <= n_drones, name = 'drone_limit')\n",
    "m.addConstrs((y.sum(i,'*') == 1 for i in I), name = 'ohca');\n",
    "m.addConstrs(((gp.quicksum(arrival_rate[i]*service_time[i,j]*y[(i,j)] for i in I) <= 1) for j in J), name='stability');"
   ],
   "outputs": []
  },
  {
   "cell_type": "markdown",
   "id": "01193fab-c732-4f14-b0ef-445900d60e2f",
   "metadata": {},
   "source": [
    "#### Reformulated MILP: Auxilary Variables, Constraints, and Objective Function\n",
    "The objective for the original formulation is to minimize the average expected response time of the drone network. \n",
    "\\begin{align}\n",
    "\\text{min}\\space \\frac{1}{\\sum_{k \\in I}\\lambda_k} \\sum_{i \\in I} \\sum_{j \\in J_{i}} \\left(\\frac{\\lambda_iy_{i,j} \\sum_{k \\in I}\\lambda_ky_{k,j}s^{2}_{k,j} }{2[1-\\sum_{k \\in I}\\lambda_ky_{k,j}s_{k,j}]} + \\frac{d_{i,j}\\lambda_iy_{i,j}}{v_j}\\right)\n",
    "\\end{align}\n",
    "\n",
    "The objective function contains factional and bilinear terms but can be reformualted in such a way that these terms are removed and linearized, creating a MILP. To do this, Linking variables need to be introduced to create the reformulation.\n",
    "\n",
    "\\begin{align}\n",
    "&V_j = \\sum_{i \\in I_{j}} \\lambda_is^{2}_{i,j}y_{i,j} + \\sum_{i \\in I_{j}} \\lambda_is_{i,j}y_{i,j} \\\\\n",
    "&\\nu_{i,j} \\ge 0 \\\\\n",
    "&\\nu_{i,j} \\ge \\overline{V}(y_{i,j}-1) + V_j \\\\\n",
    "&\\nu_{i,j} \\le \\overline{V}y_{i,j} \\\\\n",
    "&\\nu_{i,j} \\le V_j \\\\\n",
    "\\end{align}\n",
    "\n",
    "The objective function now is:\n",
    "\\begin{align}\n",
    "\\text{min}\\space \\sum_{i \\in I} \\sum_{j \\in J_{i}} \\left(\\frac{\\nu_{i,j}}{2} + \\frac{d_{i,j}y_{i,j}}{v_j}\\right)\\frac{\\lambda_i}{\\sum_{k \\in I}\\lambda_k}\n",
    "\\end{align}"
   ]
  },
  {
   "cell_type": "code",
   "execution_count": 9,
   "id": "59906f9a-a02e-46b9-a2d6-4e3312c1be7d",
   "metadata": {},
   "source": [
    "# Auxilary variables and constraints for R-MILP\n",
    "Vbar = 2*service_time.sum()\n",
    "V = m.addVars(J, ub = Vbar, name = 'V')\n",
    "nu = m.addVars(base_to_ohca, name='nu')\n",
    "\n",
    "m.addConstrs((V[j] == gp.quicksum(arrival_rate[i]*service_time[i,j]**2*y[i,j] for i in I) + gp.quicksum(arrival_rate[i]*service_time[i,j]*nu[i,j] for i in I) for j in J), name = 'aux0')\n",
    "m.addConstrs((nu[i,j] <= V[j] for i, j in base_to_ohca), name = 'aux1')\n",
    "m.addConstrs((nu[i,j] <= Vbar*y[i,j] for i, j in base_to_ohca), name = 'aux2')\n",
    "m.addConstrs((nu[i,j] >= Vbar*(y[i,j]-1) + V[j] for i, j in base_to_ohca), name = 'aux3')\n",
    "\n",
    "# for ease in setting the objective there is a bit a simplification\n",
    "L = arrival_rate.sum()\n",
    "m.setObjective((1/L)*(gp.quicksum(0.5*arrival_rate[i]*nu[(i,j)] + (arrival_rate[i]*distance[i,j]/speed)*y[(i,j)] for i, j in base_to_ohca)));"
   ],
   "outputs": []
  },
  {
   "cell_type": "markdown",
   "id": "f91b95e2-c509-4b37-990f-e884d8b3ae23",
   "metadata": {},
   "source": [
    "Run the optimization:"
   ]
  },
  {
   "cell_type": "code",
   "execution_count": 10,
   "id": "80838528-6c2e-4cd6-a5ff-0fed6b205829",
   "metadata": {},
   "source": [
    "m.optimize()"
   ],
   "outputs": []
  },
  {
   "cell_type": "markdown",
   "id": "fb57b836-1f97-4fe9-88c8-a0549b82d799",
   "metadata": {},
   "source": [
    "#### Visualize the Solution Network\n",
    "\n",
    "Use `getAttr` in gurobipy to quickly get the $x$ and $y$ decision variable values."
   ]
  },
  {
   "cell_type": "code",
   "execution_count": 11,
   "id": "f926a13c-7915-4274-bd60-d0d6b894ba43",
   "metadata": {},
   "source": [
    "# recover the bases used in the optimal solution\n",
    "sol_x = pd.Series(m.getAttr('X',x))\n",
    "bases_selected = sol_x[sol_x > 0.5]\n",
    "bases_selected"
   ],
   "outputs": []
  },
  {
   "cell_type": "markdown",
   "id": "64ed7145-4574-4066-a1d4-67615f8091f2",
   "metadata": {},
   "source": [
    "Now export the assignment variables and create a dataframe with the coordinates for each final indicent/base pair"
   ]
  },
  {
   "cell_type": "code",
   "execution_count": 12,
   "id": "b305b2f6-32c6-4f82-a563-14dc646766b4",
   "metadata": {},
   "source": [
    "# recover the assignment variable\n",
    "sol_y = pd.Series(m.getAttr('X',y))\n",
    "sol_y.name = 'Assignments'\n",
    "sol_y.index.names = ['Incident_Location','Base']\n",
    "assignment = sol_y[sol_y > 0.5].to_frame()\n",
    "assignment = pd.merge(assignment.reset_index()[['Incident_Location','Base']], ohca_df[['Incident_Location','Latitude','Longitude']])\n",
    "assignment.rename(columns = {'Latitude':'Inc_Latitude', 'Longitude': 'Inc_Longitude'}, inplace = True)\n",
    "assignment = pd.merge(assignment, stations_df[['Base','Latitude','Longitude']])\n",
    "assignment.rename(columns = {'Latitude':'Base_Latitude', 'Longitude': 'Base_Longitude'}, inplace = True)"
   ],
   "outputs": []
  },
  {
   "cell_type": "markdown",
   "id": "4e8da85a-70b5-4fb7-9d2f-b26c1230537c",
   "metadata": {},
   "source": [
    "We can now visualize the solution by finding the coordinates for each assignment pair and creating a plot with the incidents and stations to visualize the final network. The light orange points are stations that were not selected."
   ]
  },
  {
   "cell_type": "code",
   "execution_count": 13,
   "id": "ee414c95-bd81-41b7-b154-146994052c52",
   "metadata": {},
   "source": [
    "coords = []\n",
    "for r in range(assignment.shape[0]):\n",
    "    coords.append([(assignment.Base_Longitude[r],assignment.Base_Latitude[r]),(assignment.Inc_Longitude[r],assignment.Inc_Latitude[r])])\n",
    "# plot the line segments, indicent points, and base station points of the final network\n",
    "fig, ax = plt.subplots()\n",
    "ax.set_xlim(-76.23, -75.93)\n",
    "ax.set_ylim(36.72, 36.93)\n",
    "lc = mc.LineCollection(coords, alpha = .2)\n",
    "ax.add_collection(lc)\n",
    "plt.scatter(data = ohca_df, x = 'Longitude', y = 'Latitude', alpha = .3)\n",
    "plt.scatter(data = stations_df[stations_df['Base'].isin(bases_selected.index.tolist())], x = 'Longitude', y = 'Latitude', alpha = 1, c = 'orange') \n",
    "plt.scatter(data = stations_df[~stations_df['Base'].isin(bases_selected.index.tolist())], x = 'Longitude', y = 'Latitude', alpha = 0.2, c = 'orange') \n",
    "plt.show()"
   ],
   "outputs": []
  },
  {
   "cell_type": "code",
   "execution_count": 14,
   "id": "9585e22c",
   "metadata": {},
   "source": [
    "m.dispose()\n",
    "gp.disposeDefaultEnv()"
   ],
   "outputs": []
  },
  {
   "cell_type": "code",
   "execution_count": null,
   "id": "c4e2add8",
   "metadata": {},
   "source": [],
   "outputs": []
  }
 ],
 "metadata": {
  "kernelspec": {
   "display_name": "Python 3 (ipykernel)",
   "language": "python",
   "name": "python3"
  },
  "language_info": {
   "codemirror_mode": {
    "name": "ipython",
    "version": 3
   },
   "file_extension": ".py",
   "mimetype": "text/x-python",
   "name": "python",
   "nbconvert_exporter": "python",
   "pygments_lexer": "ipython3",
   "version": "3.9.7"
  }
 },
 "nbformat": 4,
 "nbformat_minor": 5
}
