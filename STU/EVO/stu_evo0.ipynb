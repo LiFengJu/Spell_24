{
 "cells": [
  {
   "cell_type": "code",
   "execution_count": 58,
   "metadata": {
    "ExecuteTime": {
     "end_time": "2023-12-12T12:50:57.364378Z",
     "start_time": "2023-12-12T12:50:57.308437600Z"
    }
   },
   "outputs": [],
   "source": [
    "from deap import base, creator, tools, algorithms\n",
    "import random\n",
    "import numpy as np\n"
   ]
  },
  {
   "cell_type": "code",
   "execution_count": 53,
   "metadata": {
    "ExecuteTime": {
     "end_time": "2023-12-12T12:49:37.007218900Z",
     "start_time": "2023-12-12T12:49:36.959369900Z"
    }
   },
   "outputs": [],
   "source": [
    "# 定义问题\n",
    "creator.create(\"FitnessMin\", base.Fitness, weights=(-1.0,))\n",
    "creator.create(\"Individual\", list, fitness=creator.FitnessMin)"
   ]
  },
  {
   "cell_type": "code",
   "execution_count": 54,
   "metadata": {
    "ExecuteTime": {
     "end_time": "2023-12-12T12:49:37.104316300Z",
     "start_time": "2023-12-12T12:49:37.017659300Z"
    }
   },
   "outputs": [],
   "source": [
    "# 创建工具箱\n",
    "toolbox = base.Toolbox()\n",
    "toolbox.register(\"attr_float\", random.uniform, -5, 5)\n",
    "toolbox.register(\"individual\", tools.initRepeat, creator.Individual, toolbox.attr_float, n=10)\n",
    "toolbox.register(\"population\", tools.initRepeat, list, toolbox.individual)"
   ]
  },
  {
   "cell_type": "code",
   "execution_count": 59,
   "outputs": [
    {
     "name": "stdout",
     "output_type": "stream",
     "text": [
      "gen\tnevals\n",
      "0  \t50    \n",
      "1  \t25    \n",
      "2  \t28    \n",
      "3  \t27    \n",
      "4  \t30    \n",
      "5  \t29    \n",
      "6  \t30    \n",
      "7  \t26    \n",
      "8  \t27    \n",
      "9  \t27    \n",
      "10 \t26    \n",
      "11 \t27    \n",
      "12 \t29    \n",
      "13 \t29    \n",
      "14 \t24    \n",
      "15 \t29    \n",
      "16 \t28    \n",
      "17 \t25    \n",
      "18 \t28    \n",
      "19 \t27    \n",
      "20 \t28    \n",
      "21 \t29    \n",
      "22 \t28    \n",
      "23 \t28    \n",
      "24 \t27    \n",
      "25 \t26    \n",
      "26 \t26    \n",
      "27 \t28    \n",
      "28 \t24    \n",
      "29 \t26    \n",
      "30 \t27    \n",
      "31 \t26    \n",
      "32 \t25    \n",
      "33 \t28    \n",
      "34 \t29    \n",
      "35 \t30    \n",
      "36 \t26    \n",
      "37 \t25    \n",
      "38 \t23    \n",
      "39 \t27    \n",
      "40 \t25    \n",
      "41 \t28    \n",
      "42 \t25    \n",
      "43 \t29    \n",
      "44 \t28    \n",
      "45 \t28    \n",
      "46 \t27    \n",
      "47 \t27    \n",
      "48 \t27    \n",
      "49 \t28    \n",
      "50 \t27    \n",
      "51 \t28    \n",
      "52 \t28    \n",
      "53 \t24    \n",
      "54 \t27    \n",
      "55 \t25    \n",
      "56 \t28    \n",
      "57 \t27    \n",
      "58 \t27    \n",
      "59 \t29    \n",
      "60 \t25    \n",
      "61 \t26    \n",
      "62 \t27    \n",
      "63 \t25    \n",
      "64 \t29    \n",
      "65 \t28    \n",
      "66 \t27    \n",
      "67 \t29    \n",
      "68 \t25    \n",
      "69 \t26    \n",
      "70 \t23    \n",
      "71 \t28    \n",
      "72 \t28    \n",
      "73 \t27    \n",
      "74 \t29    \n",
      "75 \t27    \n",
      "76 \t23    \n",
      "77 \t27    \n",
      "78 \t26    \n",
      "79 \t26    \n",
      "80 \t29    \n",
      "81 \t29    \n",
      "82 \t29    \n",
      "83 \t27    \n",
      "84 \t28    \n",
      "85 \t27    \n",
      "86 \t24    \n",
      "87 \t22    \n",
      "88 \t29    \n",
      "89 \t29    \n",
      "90 \t27    \n",
      "91 \t26    \n",
      "92 \t29    \n",
      "93 \t29    \n",
      "94 \t29    \n",
      "95 \t30    \n",
      "96 \t25    \n",
      "97 \t27    \n",
      "98 \t26    \n",
      "99 \t26    \n",
      "100\t27    \n"
     ]
    }
   ],
   "source": [
    "# 定义评价函数\n",
    "def evaluate(individual):\n",
    "    return sum(individual),\n",
    "\n",
    "toolbox.register(\"evaluate\", evaluate)\n",
    "toolbox.register(\"mate\", tools.cxBlend, alpha=0.5)\n",
    "toolbox.register(\"mutate\", tools.mutGaussian, mu=0, sigma=1, indpb=0.2)\n",
    "toolbox.register(\"select\", tools.selTournament, tournsize=3)\n",
    "\n",
    "# 创建种群\n",
    "population = toolbox.population(n=50)\n",
    "halloffame = tools.HallOfFame(3)\n",
    "\n",
    "stats = tools.Statistics(lambda ind: ind.fitness.values)\n",
    "stats.register(\"avg\",  np.mean)\n",
    "stats.register(\"min\", min)\n",
    "\n",
    "# 运行进化算法\n",
    "population, logbook = algorithms.eaMuPlusLambda(population, toolbox, mu=10, lambda_=30, cxpb=0.7, mutpb=0.2, ngen=100, stats=None, halloffame=halloffame, verbose=True)\n",
    "gen = logbook.select(\"gen\")\n",
    "avg_fitness = logbook.select(\"avg\")\n",
    "min_fitness = logbook.select(\"min\")"
   ],
   "metadata": {
    "collapsed": false,
    "ExecuteTime": {
     "end_time": "2023-12-12T12:51:00.059566400Z",
     "start_time": "2023-12-12T12:50:59.473369900Z"
    }
   }
  },
  {
   "cell_type": "code",
   "execution_count": 60,
   "outputs": [
    {
     "name": "stdout",
     "output_type": "stream",
     "text": [
      "Generation 0: Average Fitness = None, Minimum Fitness = None\n",
      "Generation 1: Average Fitness = None, Minimum Fitness = None\n",
      "Generation 2: Average Fitness = None, Minimum Fitness = None\n",
      "Generation 3: Average Fitness = None, Minimum Fitness = None\n",
      "Generation 4: Average Fitness = None, Minimum Fitness = None\n",
      "Generation 5: Average Fitness = None, Minimum Fitness = None\n",
      "Generation 6: Average Fitness = None, Minimum Fitness = None\n",
      "Generation 7: Average Fitness = None, Minimum Fitness = None\n",
      "Generation 8: Average Fitness = None, Minimum Fitness = None\n",
      "Generation 9: Average Fitness = None, Minimum Fitness = None\n",
      "Generation 10: Average Fitness = None, Minimum Fitness = None\n",
      "Generation 11: Average Fitness = None, Minimum Fitness = None\n",
      "Generation 12: Average Fitness = None, Minimum Fitness = None\n",
      "Generation 13: Average Fitness = None, Minimum Fitness = None\n",
      "Generation 14: Average Fitness = None, Minimum Fitness = None\n",
      "Generation 15: Average Fitness = None, Minimum Fitness = None\n",
      "Generation 16: Average Fitness = None, Minimum Fitness = None\n",
      "Generation 17: Average Fitness = None, Minimum Fitness = None\n",
      "Generation 18: Average Fitness = None, Minimum Fitness = None\n",
      "Generation 19: Average Fitness = None, Minimum Fitness = None\n",
      "Generation 20: Average Fitness = None, Minimum Fitness = None\n",
      "Generation 21: Average Fitness = None, Minimum Fitness = None\n",
      "Generation 22: Average Fitness = None, Minimum Fitness = None\n",
      "Generation 23: Average Fitness = None, Minimum Fitness = None\n",
      "Generation 24: Average Fitness = None, Minimum Fitness = None\n",
      "Generation 25: Average Fitness = None, Minimum Fitness = None\n",
      "Generation 26: Average Fitness = None, Minimum Fitness = None\n",
      "Generation 27: Average Fitness = None, Minimum Fitness = None\n",
      "Generation 28: Average Fitness = None, Minimum Fitness = None\n",
      "Generation 29: Average Fitness = None, Minimum Fitness = None\n",
      "Generation 30: Average Fitness = None, Minimum Fitness = None\n",
      "Generation 31: Average Fitness = None, Minimum Fitness = None\n",
      "Generation 32: Average Fitness = None, Minimum Fitness = None\n",
      "Generation 33: Average Fitness = None, Minimum Fitness = None\n",
      "Generation 34: Average Fitness = None, Minimum Fitness = None\n",
      "Generation 35: Average Fitness = None, Minimum Fitness = None\n",
      "Generation 36: Average Fitness = None, Minimum Fitness = None\n",
      "Generation 37: Average Fitness = None, Minimum Fitness = None\n",
      "Generation 38: Average Fitness = None, Minimum Fitness = None\n",
      "Generation 39: Average Fitness = None, Minimum Fitness = None\n",
      "Generation 40: Average Fitness = None, Minimum Fitness = None\n",
      "Generation 41: Average Fitness = None, Minimum Fitness = None\n",
      "Generation 42: Average Fitness = None, Minimum Fitness = None\n",
      "Generation 43: Average Fitness = None, Minimum Fitness = None\n",
      "Generation 44: Average Fitness = None, Minimum Fitness = None\n",
      "Generation 45: Average Fitness = None, Minimum Fitness = None\n",
      "Generation 46: Average Fitness = None, Minimum Fitness = None\n",
      "Generation 47: Average Fitness = None, Minimum Fitness = None\n",
      "Generation 48: Average Fitness = None, Minimum Fitness = None\n",
      "Generation 49: Average Fitness = None, Minimum Fitness = None\n",
      "Generation 50: Average Fitness = None, Minimum Fitness = None\n",
      "Generation 51: Average Fitness = None, Minimum Fitness = None\n",
      "Generation 52: Average Fitness = None, Minimum Fitness = None\n",
      "Generation 53: Average Fitness = None, Minimum Fitness = None\n",
      "Generation 54: Average Fitness = None, Minimum Fitness = None\n",
      "Generation 55: Average Fitness = None, Minimum Fitness = None\n",
      "Generation 56: Average Fitness = None, Minimum Fitness = None\n",
      "Generation 57: Average Fitness = None, Minimum Fitness = None\n",
      "Generation 58: Average Fitness = None, Minimum Fitness = None\n",
      "Generation 59: Average Fitness = None, Minimum Fitness = None\n",
      "Generation 60: Average Fitness = None, Minimum Fitness = None\n",
      "Generation 61: Average Fitness = None, Minimum Fitness = None\n",
      "Generation 62: Average Fitness = None, Minimum Fitness = None\n",
      "Generation 63: Average Fitness = None, Minimum Fitness = None\n",
      "Generation 64: Average Fitness = None, Minimum Fitness = None\n",
      "Generation 65: Average Fitness = None, Minimum Fitness = None\n",
      "Generation 66: Average Fitness = None, Minimum Fitness = None\n",
      "Generation 67: Average Fitness = None, Minimum Fitness = None\n",
      "Generation 68: Average Fitness = None, Minimum Fitness = None\n",
      "Generation 69: Average Fitness = None, Minimum Fitness = None\n",
      "Generation 70: Average Fitness = None, Minimum Fitness = None\n",
      "Generation 71: Average Fitness = None, Minimum Fitness = None\n",
      "Generation 72: Average Fitness = None, Minimum Fitness = None\n",
      "Generation 73: Average Fitness = None, Minimum Fitness = None\n",
      "Generation 74: Average Fitness = None, Minimum Fitness = None\n",
      "Generation 75: Average Fitness = None, Minimum Fitness = None\n",
      "Generation 76: Average Fitness = None, Minimum Fitness = None\n",
      "Generation 77: Average Fitness = None, Minimum Fitness = None\n",
      "Generation 78: Average Fitness = None, Minimum Fitness = None\n",
      "Generation 79: Average Fitness = None, Minimum Fitness = None\n",
      "Generation 80: Average Fitness = None, Minimum Fitness = None\n",
      "Generation 81: Average Fitness = None, Minimum Fitness = None\n",
      "Generation 82: Average Fitness = None, Minimum Fitness = None\n",
      "Generation 83: Average Fitness = None, Minimum Fitness = None\n",
      "Generation 84: Average Fitness = None, Minimum Fitness = None\n",
      "Generation 85: Average Fitness = None, Minimum Fitness = None\n",
      "Generation 86: Average Fitness = None, Minimum Fitness = None\n",
      "Generation 87: Average Fitness = None, Minimum Fitness = None\n",
      "Generation 88: Average Fitness = None, Minimum Fitness = None\n",
      "Generation 89: Average Fitness = None, Minimum Fitness = None\n",
      "Generation 90: Average Fitness = None, Minimum Fitness = None\n",
      "Generation 91: Average Fitness = None, Minimum Fitness = None\n",
      "Generation 92: Average Fitness = None, Minimum Fitness = None\n",
      "Generation 93: Average Fitness = None, Minimum Fitness = None\n",
      "Generation 94: Average Fitness = None, Minimum Fitness = None\n",
      "Generation 95: Average Fitness = None, Minimum Fitness = None\n",
      "Generation 96: Average Fitness = None, Minimum Fitness = None\n",
      "Generation 97: Average Fitness = None, Minimum Fitness = None\n",
      "Generation 98: Average Fitness = None, Minimum Fitness = None\n",
      "Generation 99: Average Fitness = None, Minimum Fitness = None\n",
      "Generation 100: Average Fitness = None, Minimum Fitness = None\n"
     ]
    }
   ],
   "source": [
    "for g, avg, min_ in zip(gen, avg_fitness, min_fitness):\n",
    "    print(f\"Generation {g}: Average Fitness = {avg}, Minimum Fitness = {min_}\")"
   ],
   "metadata": {
    "collapsed": false,
    "ExecuteTime": {
     "end_time": "2023-12-12T12:51:01.227002600Z",
     "start_time": "2023-12-12T12:51:01.177352900Z"
    }
   }
  },
  {
   "cell_type": "code",
   "execution_count": null,
   "outputs": [],
   "source": [
    "print(halloffame)"
   ],
   "metadata": {
    "collapsed": false,
    "ExecuteTime": {
     "start_time": "2023-12-12T12:49:37.213034600Z"
    }
   }
  },
  {
   "cell_type": "code",
   "execution_count": 55,
   "outputs": [],
   "source": [],
   "metadata": {
    "collapsed": false,
    "ExecuteTime": {
     "end_time": "2023-12-12T12:49:37.275470800Z",
     "start_time": "2023-12-12T12:49:37.238550900Z"
    }
   }
  }
 ],
 "metadata": {
  "kernelspec": {
   "display_name": "venv",
   "language": "python",
   "name": "python3"
  },
  "language_info": {
   "codemirror_mode": {
    "name": "ipython",
    "version": 3
   },
   "file_extension": ".py",
   "mimetype": "text/x-python",
   "name": "python",
   "nbconvert_exporter": "python",
   "pygments_lexer": "ipython3",
   "version": "3.11.4"
  }
 },
 "nbformat": 4,
 "nbformat_minor": 2
}
